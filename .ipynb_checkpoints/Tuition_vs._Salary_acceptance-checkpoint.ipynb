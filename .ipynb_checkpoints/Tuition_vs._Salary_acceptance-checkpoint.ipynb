{
 "cells": [
  {
   "cell_type": "code",
   "execution_count": 2,
   "id": "b08c2397",
   "metadata": {},
   "outputs": [],
   "source": [
    "import numpy as np\n",
    "import pandas as pd\n",
    "import matplotlib.pyplot as plt\n",
    "import seaborn as sns "
   ]
  },
  {
   "cell_type": "code",
   "execution_count": 18,
   "id": "04f9f566",
   "metadata": {},
   "outputs": [
    {
     "data": {
      "text/html": [
       "<div>\n",
       "<style scoped>\n",
       "    .dataframe tbody tr th:only-of-type {\n",
       "        vertical-align: middle;\n",
       "    }\n",
       "\n",
       "    .dataframe tbody tr th {\n",
       "        vertical-align: top;\n",
       "    }\n",
       "\n",
       "    .dataframe thead th {\n",
       "        text-align: right;\n",
       "    }\n",
       "</style>\n",
       "<table border=\"1\" class=\"dataframe\">\n",
       "  <thead>\n",
       "    <tr style=\"text-align: right;\">\n",
       "      <th></th>\n",
       "      <th>School_x</th>\n",
       "      <th>business_school</th>\n",
       "      <th>School</th>\n",
       "      <th>Tuition_Fees_17&amp;18</th>\n",
       "    </tr>\n",
       "  </thead>\n",
       "  <tbody>\n",
       "    <tr>\n",
       "      <th>0</th>\n",
       "      <td>University of Pennsylvania (Wharton)</td>\n",
       "      <td>Wharton</td>\n",
       "      <td>University of Pennsylvania</td>\n",
       "      <td>53534.0</td>\n",
       "    </tr>\n",
       "    <tr>\n",
       "      <th>1</th>\n",
       "      <td>Washington University in St. Louis (Olin)</td>\n",
       "      <td>Olin</td>\n",
       "      <td>Washington University in St. Louis</td>\n",
       "      <td>51533.0</td>\n",
       "    </tr>\n",
       "    <tr>\n",
       "      <th>2</th>\n",
       "      <td>University of California-Berkeley (Haas)</td>\n",
       "      <td>Haas</td>\n",
       "      <td>University of California-Berkeley</td>\n",
       "      <td>42184.0</td>\n",
       "    </tr>\n",
       "    <tr>\n",
       "      <th>3</th>\n",
       "      <td>Cornell University (Dyson)</td>\n",
       "      <td>Dyson</td>\n",
       "      <td>Cornell University</td>\n",
       "      <td>52853.0</td>\n",
       "    </tr>\n",
       "    <tr>\n",
       "      <th>4</th>\n",
       "      <td>University of Michigan (Ross)</td>\n",
       "      <td>Ross</td>\n",
       "      <td>University of Michigan</td>\n",
       "      <td>32451.5</td>\n",
       "    </tr>\n",
       "  </tbody>\n",
       "</table>\n",
       "</div>"
      ],
      "text/plain": [
       "                                    School_x business_school  \\\n",
       "0       University of Pennsylvania (Wharton)         Wharton   \n",
       "1  Washington University in St. Louis (Olin)            Olin   \n",
       "2   University of California-Berkeley (Haas)            Haas   \n",
       "3                 Cornell University (Dyson)           Dyson   \n",
       "4              University of Michigan (Ross)            Ross   \n",
       "\n",
       "                                School  Tuition_Fees_17&18  \n",
       "0          University of Pennsylvania              53534.0  \n",
       "1  Washington University in St. Louis              51533.0  \n",
       "2   University of California-Berkeley              42184.0  \n",
       "3                  Cornell University              52853.0  \n",
       "4              University of Michigan              32451.5  "
      ]
     },
     "execution_count": 18,
     "metadata": {},
     "output_type": "execute_result"
    }
   ],
   "source": [
    "tuition=pd.read_csv('University_Tuition&fees - Sheet1.csv')\n",
    "tuition.head()"
   ]
  },
  {
   "cell_type": "code",
   "execution_count": 19,
   "id": "0c98095d",
   "metadata": {},
   "outputs": [
    {
     "data": {
      "text/html": [
       "<div>\n",
       "<style scoped>\n",
       "    .dataframe tbody tr th:only-of-type {\n",
       "        vertical-align: middle;\n",
       "    }\n",
       "\n",
       "    .dataframe tbody tr th {\n",
       "        vertical-align: top;\n",
       "    }\n",
       "\n",
       "    .dataframe thead th {\n",
       "        text-align: right;\n",
       "    }\n",
       "</style>\n",
       "<table border=\"1\" class=\"dataframe\">\n",
       "  <thead>\n",
       "    <tr style=\"text-align: right;\">\n",
       "      <th></th>\n",
       "      <th>School_x</th>\n",
       "      <th>Tuition_Fees_17&amp;18</th>\n",
       "    </tr>\n",
       "  </thead>\n",
       "  <tbody>\n",
       "    <tr>\n",
       "      <th>0</th>\n",
       "      <td>University of Pennsylvania (Wharton)</td>\n",
       "      <td>53534.0</td>\n",
       "    </tr>\n",
       "    <tr>\n",
       "      <th>1</th>\n",
       "      <td>Washington University in St. Louis (Olin)</td>\n",
       "      <td>51533.0</td>\n",
       "    </tr>\n",
       "    <tr>\n",
       "      <th>2</th>\n",
       "      <td>University of California-Berkeley (Haas)</td>\n",
       "      <td>42184.0</td>\n",
       "    </tr>\n",
       "    <tr>\n",
       "      <th>3</th>\n",
       "      <td>Cornell University (Dyson)</td>\n",
       "      <td>52853.0</td>\n",
       "    </tr>\n",
       "    <tr>\n",
       "      <th>4</th>\n",
       "      <td>University of Michigan (Ross)</td>\n",
       "      <td>32451.5</td>\n",
       "    </tr>\n",
       "    <tr>\n",
       "      <th>...</th>\n",
       "      <td>...</td>\n",
       "      <td>...</td>\n",
       "    </tr>\n",
       "    <tr>\n",
       "      <th>83</th>\n",
       "      <td>University of Delaware (Lerner)</td>\n",
       "      <td>23155.0</td>\n",
       "    </tr>\n",
       "    <tr>\n",
       "      <th>84</th>\n",
       "      <td>University of Missouri-Columbia (Trulaske)</td>\n",
       "      <td>18146.5</td>\n",
       "    </tr>\n",
       "    <tr>\n",
       "      <th>85</th>\n",
       "      <td>St. Louis University (Chaifetz)</td>\n",
       "      <td>42166.0</td>\n",
       "    </tr>\n",
       "    <tr>\n",
       "      <th>86</th>\n",
       "      <td>Sacred Heart University (Jack Welch)</td>\n",
       "      <td>39820.0</td>\n",
       "    </tr>\n",
       "    <tr>\n",
       "      <th>87</th>\n",
       "      <td>Duquesne University (Palumbo Donahue)</td>\n",
       "      <td>36394.0</td>\n",
       "    </tr>\n",
       "  </tbody>\n",
       "</table>\n",
       "<p>88 rows × 2 columns</p>\n",
       "</div>"
      ],
      "text/plain": [
       "                                      School_x  Tuition_Fees_17&18\n",
       "0         University of Pennsylvania (Wharton)             53534.0\n",
       "1    Washington University in St. Louis (Olin)             51533.0\n",
       "2     University of California-Berkeley (Haas)             42184.0\n",
       "3                   Cornell University (Dyson)             52853.0\n",
       "4                University of Michigan (Ross)             32451.5\n",
       "..                                         ...                 ...\n",
       "83             University of Delaware (Lerner)             23155.0\n",
       "84  University of Missouri-Columbia (Trulaske)             18146.5\n",
       "85             St. Louis University (Chaifetz)             42166.0\n",
       "86        Sacred Heart University (Jack Welch)             39820.0\n",
       "87       Duquesne University (Palumbo Donahue)             36394.0\n",
       "\n",
       "[88 rows x 2 columns]"
      ]
     },
     "execution_count": 19,
     "metadata": {},
     "output_type": "execute_result"
    }
   ],
   "source": [
    "tf=tuition[['School_x','Tuition_Fees_17&18']]\n",
    "tf"
   ]
  },
  {
   "cell_type": "code",
   "execution_count": 21,
   "id": "0e2f92be",
   "metadata": {},
   "outputs": [
    {
     "data": {
      "text/html": [
       "<div>\n",
       "<style scoped>\n",
       "    .dataframe tbody tr th:only-of-type {\n",
       "        vertical-align: middle;\n",
       "    }\n",
       "\n",
       "    .dataframe tbody tr th {\n",
       "        vertical-align: top;\n",
       "    }\n",
       "\n",
       "    .dataframe thead th {\n",
       "        text-align: right;\n",
       "    }\n",
       "</style>\n",
       "<table border=\"1\" class=\"dataframe\">\n",
       "  <thead>\n",
       "    <tr style=\"text-align: right;\">\n",
       "      <th></th>\n",
       "      <th>School_x</th>\n",
       "      <th>business_school</th>\n",
       "      <th>Acceptance Rate</th>\n",
       "      <th>Average Salary</th>\n",
       "      <th>Public(0) or Private(1)</th>\n",
       "    </tr>\n",
       "  </thead>\n",
       "  <tbody>\n",
       "    <tr>\n",
       "      <th>0</th>\n",
       "      <td>University of Pennsylvania (Wharton)</td>\n",
       "      <td>Wharton</td>\n",
       "      <td>0.0649</td>\n",
       "      <td>80354</td>\n",
       "      <td>1</td>\n",
       "    </tr>\n",
       "    <tr>\n",
       "      <th>1</th>\n",
       "      <td>Washington University in St. Louis (Olin)</td>\n",
       "      <td>Olin</td>\n",
       "      <td>0.0970</td>\n",
       "      <td>67115</td>\n",
       "      <td>1</td>\n",
       "    </tr>\n",
       "    <tr>\n",
       "      <th>2</th>\n",
       "      <td>University of California-Berkeley (Haas)</td>\n",
       "      <td>Haas</td>\n",
       "      <td>0.0430</td>\n",
       "      <td>73302</td>\n",
       "      <td>0</td>\n",
       "    </tr>\n",
       "    <tr>\n",
       "      <th>3</th>\n",
       "      <td>Cornell University (Dyson)</td>\n",
       "      <td>Dyson</td>\n",
       "      <td>0.0290</td>\n",
       "      <td>74493</td>\n",
       "      <td>1</td>\n",
       "    </tr>\n",
       "    <tr>\n",
       "      <th>4</th>\n",
       "      <td>University of Michigan (Ross)</td>\n",
       "      <td>Ross</td>\n",
       "      <td>0.1200</td>\n",
       "      <td>72268</td>\n",
       "      <td>0</td>\n",
       "    </tr>\n",
       "    <tr>\n",
       "      <th>...</th>\n",
       "      <td>...</td>\n",
       "      <td>...</td>\n",
       "      <td>...</td>\n",
       "      <td>...</td>\n",
       "      <td>...</td>\n",
       "    </tr>\n",
       "    <tr>\n",
       "      <th>83</th>\n",
       "      <td>University of South Carolina (Darla Moore)</td>\n",
       "      <td>Darla Moore</td>\n",
       "      <td>0.6510</td>\n",
       "      <td>61946</td>\n",
       "      <td>0</td>\n",
       "    </tr>\n",
       "    <tr>\n",
       "      <th>84</th>\n",
       "      <td>University of Delaware (Lerner)</td>\n",
       "      <td>Lerner</td>\n",
       "      <td>0.4640</td>\n",
       "      <td>54087</td>\n",
       "      <td>0</td>\n",
       "    </tr>\n",
       "    <tr>\n",
       "      <th>85</th>\n",
       "      <td>University of Missouri-Columbia (Trulaske)</td>\n",
       "      <td>Trulaske</td>\n",
       "      <td>0.6917</td>\n",
       "      <td>48827</td>\n",
       "      <td>0</td>\n",
       "    </tr>\n",
       "    <tr>\n",
       "      <th>86</th>\n",
       "      <td>St. Louis University (Chaifetz)</td>\n",
       "      <td>Chaifetz</td>\n",
       "      <td>0.8303</td>\n",
       "      <td>63333</td>\n",
       "      <td>1</td>\n",
       "    </tr>\n",
       "    <tr>\n",
       "      <th>87</th>\n",
       "      <td>Sacred Heart University (Jack Welch)</td>\n",
       "      <td>Jack Welch</td>\n",
       "      <td>0.6080</td>\n",
       "      <td>54784</td>\n",
       "      <td>1</td>\n",
       "    </tr>\n",
       "  </tbody>\n",
       "</table>\n",
       "<p>88 rows × 5 columns</p>\n",
       "</div>"
      ],
      "text/plain": [
       "                                      School_x business_school  \\\n",
       "0         University of Pennsylvania (Wharton)         Wharton   \n",
       "1    Washington University in St. Louis (Olin)            Olin   \n",
       "2     University of California-Berkeley (Haas)            Haas   \n",
       "3                   Cornell University (Dyson)           Dyson   \n",
       "4                University of Michigan (Ross)            Ross   \n",
       "..                                         ...             ...   \n",
       "83  University of South Carolina (Darla Moore)     Darla Moore   \n",
       "84             University of Delaware (Lerner)          Lerner   \n",
       "85  University of Missouri-Columbia (Trulaske)        Trulaske   \n",
       "86             St. Louis University (Chaifetz)        Chaifetz   \n",
       "87        Sacred Heart University (Jack Welch)      Jack Welch   \n",
       "\n",
       "    Acceptance Rate  Average Salary  Public(0) or Private(1)  \n",
       "0            0.0649           80354                        1  \n",
       "1            0.0970           67115                        1  \n",
       "2            0.0430           73302                        0  \n",
       "3            0.0290           74493                        1  \n",
       "4            0.1200           72268                        0  \n",
       "..              ...             ...                      ...  \n",
       "83           0.6510           61946                        0  \n",
       "84           0.4640           54087                        0  \n",
       "85           0.6917           48827                        0  \n",
       "86           0.8303           63333                        1  \n",
       "87           0.6080           54784                        1  \n",
       "\n",
       "[88 rows x 5 columns]"
      ]
     },
     "execution_count": 21,
     "metadata": {},
     "output_type": "execute_result"
    }
   ],
   "source": [
    "uni=pd.read_csv('universities_cleaned.csv')\n",
    "uni"
   ]
  },
  {
   "cell_type": "code",
   "execution_count": 23,
   "id": "f5fa9b00",
   "metadata": {},
   "outputs": [
    {
     "data": {
      "text/html": [
       "<div>\n",
       "<style scoped>\n",
       "    .dataframe tbody tr th:only-of-type {\n",
       "        vertical-align: middle;\n",
       "    }\n",
       "\n",
       "    .dataframe tbody tr th {\n",
       "        vertical-align: top;\n",
       "    }\n",
       "\n",
       "    .dataframe thead th {\n",
       "        text-align: right;\n",
       "    }\n",
       "</style>\n",
       "<table border=\"1\" class=\"dataframe\">\n",
       "  <thead>\n",
       "    <tr style=\"text-align: right;\">\n",
       "      <th></th>\n",
       "      <th>School_x</th>\n",
       "      <th>business_school</th>\n",
       "      <th>Acceptance Rate</th>\n",
       "      <th>Average Salary</th>\n",
       "      <th>Public(0) or Private(1)</th>\n",
       "      <th>Tuition</th>\n",
       "    </tr>\n",
       "  </thead>\n",
       "  <tbody>\n",
       "    <tr>\n",
       "      <th>0</th>\n",
       "      <td>University of Pennsylvania (Wharton)</td>\n",
       "      <td>Wharton</td>\n",
       "      <td>0.0649</td>\n",
       "      <td>80354</td>\n",
       "      <td>1</td>\n",
       "      <td>53534.0</td>\n",
       "    </tr>\n",
       "    <tr>\n",
       "      <th>1</th>\n",
       "      <td>Washington University in St. Louis (Olin)</td>\n",
       "      <td>Olin</td>\n",
       "      <td>0.0970</td>\n",
       "      <td>67115</td>\n",
       "      <td>1</td>\n",
       "      <td>51533.0</td>\n",
       "    </tr>\n",
       "    <tr>\n",
       "      <th>2</th>\n",
       "      <td>University of California-Berkeley (Haas)</td>\n",
       "      <td>Haas</td>\n",
       "      <td>0.0430</td>\n",
       "      <td>73302</td>\n",
       "      <td>0</td>\n",
       "      <td>42184.0</td>\n",
       "    </tr>\n",
       "    <tr>\n",
       "      <th>3</th>\n",
       "      <td>Cornell University (Dyson)</td>\n",
       "      <td>Dyson</td>\n",
       "      <td>0.0290</td>\n",
       "      <td>74493</td>\n",
       "      <td>1</td>\n",
       "      <td>52853.0</td>\n",
       "    </tr>\n",
       "    <tr>\n",
       "      <th>4</th>\n",
       "      <td>University of Michigan (Ross)</td>\n",
       "      <td>Ross</td>\n",
       "      <td>0.1200</td>\n",
       "      <td>72268</td>\n",
       "      <td>0</td>\n",
       "      <td>32451.5</td>\n",
       "    </tr>\n",
       "    <tr>\n",
       "      <th>...</th>\n",
       "      <td>...</td>\n",
       "      <td>...</td>\n",
       "      <td>...</td>\n",
       "      <td>...</td>\n",
       "      <td>...</td>\n",
       "      <td>...</td>\n",
       "    </tr>\n",
       "    <tr>\n",
       "      <th>83</th>\n",
       "      <td>University of South Carolina (Darla Moore)</td>\n",
       "      <td>Darla Moore</td>\n",
       "      <td>0.6510</td>\n",
       "      <td>61946</td>\n",
       "      <td>0</td>\n",
       "      <td>23155.0</td>\n",
       "    </tr>\n",
       "    <tr>\n",
       "      <th>84</th>\n",
       "      <td>University of Delaware (Lerner)</td>\n",
       "      <td>Lerner</td>\n",
       "      <td>0.4640</td>\n",
       "      <td>54087</td>\n",
       "      <td>0</td>\n",
       "      <td>18146.5</td>\n",
       "    </tr>\n",
       "    <tr>\n",
       "      <th>85</th>\n",
       "      <td>University of Missouri-Columbia (Trulaske)</td>\n",
       "      <td>Trulaske</td>\n",
       "      <td>0.6917</td>\n",
       "      <td>48827</td>\n",
       "      <td>0</td>\n",
       "      <td>42166.0</td>\n",
       "    </tr>\n",
       "    <tr>\n",
       "      <th>86</th>\n",
       "      <td>St. Louis University (Chaifetz)</td>\n",
       "      <td>Chaifetz</td>\n",
       "      <td>0.8303</td>\n",
       "      <td>63333</td>\n",
       "      <td>1</td>\n",
       "      <td>39820.0</td>\n",
       "    </tr>\n",
       "    <tr>\n",
       "      <th>87</th>\n",
       "      <td>Sacred Heart University (Jack Welch)</td>\n",
       "      <td>Jack Welch</td>\n",
       "      <td>0.6080</td>\n",
       "      <td>54784</td>\n",
       "      <td>1</td>\n",
       "      <td>36394.0</td>\n",
       "    </tr>\n",
       "  </tbody>\n",
       "</table>\n",
       "<p>88 rows × 6 columns</p>\n",
       "</div>"
      ],
      "text/plain": [
       "                                      School_x business_school  \\\n",
       "0         University of Pennsylvania (Wharton)         Wharton   \n",
       "1    Washington University in St. Louis (Olin)            Olin   \n",
       "2     University of California-Berkeley (Haas)            Haas   \n",
       "3                   Cornell University (Dyson)           Dyson   \n",
       "4                University of Michigan (Ross)            Ross   \n",
       "..                                         ...             ...   \n",
       "83  University of South Carolina (Darla Moore)     Darla Moore   \n",
       "84             University of Delaware (Lerner)          Lerner   \n",
       "85  University of Missouri-Columbia (Trulaske)        Trulaske   \n",
       "86             St. Louis University (Chaifetz)        Chaifetz   \n",
       "87        Sacred Heart University (Jack Welch)      Jack Welch   \n",
       "\n",
       "    Acceptance Rate  Average Salary  Public(0) or Private(1)  Tuition  \n",
       "0            0.0649           80354                        1  53534.0  \n",
       "1            0.0970           67115                        1  51533.0  \n",
       "2            0.0430           73302                        0  42184.0  \n",
       "3            0.0290           74493                        1  52853.0  \n",
       "4            0.1200           72268                        0  32451.5  \n",
       "..              ...             ...                      ...      ...  \n",
       "83           0.6510           61946                        0  23155.0  \n",
       "84           0.4640           54087                        0  18146.5  \n",
       "85           0.6917           48827                        0  42166.0  \n",
       "86           0.8303           63333                        1  39820.0  \n",
       "87           0.6080           54784                        1  36394.0  \n",
       "\n",
       "[88 rows x 6 columns]"
      ]
     },
     "execution_count": 23,
     "metadata": {},
     "output_type": "execute_result"
    }
   ],
   "source": [
    "uni['Tuition']=tf['Tuition_Fees_17&18']\n",
    "uni"
   ]
  },
  {
   "cell_type": "code",
   "execution_count": 32,
   "id": "588482c8",
   "metadata": {
    "scrolled": true
   },
   "outputs": [
    {
     "data": {
      "text/plain": [
       "<AxesSubplot:xlabel='Acceptance Rate', ylabel='Tuition'>"
      ]
     },
     "execution_count": 32,
     "metadata": {},
     "output_type": "execute_result"
    },
    {
     "data": {
      "image/png": "[encoded data removed]",
      "text/plain": [
       "<Figure size 432x288 with 1 Axes>"
      ]
     },
     "metadata": {
      "needs_background": "light"
     },
     "output_type": "display_data"
    }
   ],
   "source": [
    "sns.scatterplot(x=uni['Acceptance Rate'], y=uni['Tuition'], hue=uni['Acceptance Rate'])"
   ]
  },
  {
   "cell_type": "code",
   "execution_count": 34,
   "id": "43a64088",
   "metadata": {},
   "outputs": [
    {
     "data": {
      "text/plain": [
       "<AxesSubplot:xlabel='Acceptance Rate', ylabel='Tuition'>"
      ]
     },
     "execution_count": 34,
     "metadata": {},
     "output_type": "execute_result"
    },
    {
     "data": {
      "image/png": "[encoded data removed]",
      "text/plain": [
       "<Figure size 432x288 with 1 Axes>"
      ]
     },
     "metadata": {
      "needs_background": "light"
     },
     "output_type": "display_data"
    }
   ],
   "source": [
    "sns.scatterplot(x=uni['Acceptance Rate'], y=uni['Tuition'], hue=uni['Public(0) or Private(1)'])"
   ]
  },
  {
   "cell_type": "code",
   "execution_count": 33,
   "id": "6ee22b72",
   "metadata": {},
   "outputs": [
    {
     "data": {
      "text/plain": [
       "<AxesSubplot:xlabel='Average Salary', ylabel='Tuition'>"
      ]
     },
     "execution_count": 33,
     "metadata": {},
     "output_type": "execute_result"
    },
    {
     "data": {
      "image/png": "[encoded data removed]",
      "text/plain": [
       "<Figure size 432x288 with 1 Axes>"
      ]
     },
     "metadata": {
      "needs_background": "light"
     },
     "output_type": "display_data"
    }
   ],
   "source": [
    "sns.scatterplot(x=uni['Average Salary'], y=uni['Tuition'], hue=uni['Tuition'])"
   ]
  },
  {
   "cell_type": "code",
   "execution_count": 35,
   "id": "0551e2bd",
   "metadata": {},
   "outputs": [
    {
     "data": {
      "text/plain": [
       "<AxesSubplot:xlabel='Average Salary', ylabel='Tuition'>"
      ]
     },
     "execution_count": 35,
     "metadata": {},
     "output_type": "execute_result"
    },
    {
     "data": {
      "image/png": "[encoded data removed]",
      "text/plain": [
       "<Figure size 432x288 with 1 Axes>"
      ]
     },
     "metadata": {
      "needs_background": "light"
     },
     "output_type": "display_data"
    }
   ],
   "source": [
    "sns.scatterplot(x=uni['Average Salary'], y=uni['Tuition'], hue=uni['Public(0) or Private(1)'])"
   ]
  },
  {
   "cell_type": "code",
   "execution_count": null,
   "id": "9a523f65",
   "metadata": {},
   "outputs": [],
   "source": []
  }
 ],
 "metadata": {
  "kernelspec": {
   "display_name": "Python 3",
   "language": "python",
   "name": "python3"
  },
  "language_info": {
   "codemirror_mode": {
    "name": "ipython",
    "version": 3
   },
   "file_extension": ".py",
   "mimetype": "text/x-python",
   "name": "python",
   "nbconvert_exporter": "python",
   "pygments_lexer": "ipython3",
   "version": "3.8.8"
  }
 },
 "nbformat": 4,
 "nbformat_minor": 5
}

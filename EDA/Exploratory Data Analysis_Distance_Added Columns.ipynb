{
 "cells": [
  {
   "cell_type": "code",
   "execution_count": 2,
   "id": "f8631910",
   "metadata": {},
   "outputs": [],
   "source": [
    "import pandas as pd"
   ]
  },
  {
   "cell_type": "code",
   "execution_count": 3,
   "id": "e3ba20bf",
   "metadata": {
    "scrolled": true
   },
   "outputs": [
    {
     "ename": "HTTPError",
     "evalue": "HTTP Error 404: Not Found",
     "output_type": "error",
     "traceback": [
      "\u001b[0;31m---------------------------------------------------------------------------\u001b[0m",
      "\u001b[0;31mHTTPError\u001b[0m                                 Traceback (most recent call last)",
      "\u001b[0;32m<ipython-input-3-da57a103aed9>\u001b[0m in \u001b[0;36m<module>\u001b[0;34m\u001b[0m\n\u001b[0;32m----> 1\u001b[0;31m \u001b[0muni_cleaned\u001b[0m \u001b[0;34m=\u001b[0m \u001b[0mpd\u001b[0m\u001b[0;34m.\u001b[0m\u001b[0mread_csv\u001b[0m\u001b[0;34m(\u001b[0m\u001b[0;34m'https://raw.githubusercontent.com/MawadaMF/DSO510/main/universities_cleaned.csv?token=AWOHSXOCGTBT6W33S5JQINTBUKDKG'\u001b[0m\u001b[0;34m)\u001b[0m\u001b[0;34m\u001b[0m\u001b[0;34m\u001b[0m\u001b[0m\n\u001b[0m",
      "\u001b[0;32m/opt/anaconda3/lib/python3.8/site-packages/pandas/io/parsers.py\u001b[0m in \u001b[0;36mread_csv\u001b[0;34m(filepath_or_buffer, sep, delimiter, header, names, index_col, usecols, squeeze, prefix, mangle_dupe_cols, dtype, engine, converters, true_values, false_values, skipinitialspace, skiprows, skipfooter, nrows, na_values, keep_default_na, na_filter, verbose, skip_blank_lines, parse_dates, infer_datetime_format, keep_date_col, date_parser, dayfirst, cache_dates, iterator, chunksize, compression, thousands, decimal, lineterminator, quotechar, quoting, doublequote, escapechar, comment, encoding, dialect, error_bad_lines, warn_bad_lines, delim_whitespace, low_memory, memory_map, float_precision, storage_options)\u001b[0m\n\u001b[1;32m    608\u001b[0m     \u001b[0mkwds\u001b[0m\u001b[0;34m.\u001b[0m\u001b[0mupdate\u001b[0m\u001b[0;34m(\u001b[0m\u001b[0mkwds_defaults\u001b[0m\u001b[0;34m)\u001b[0m\u001b[0;34m\u001b[0m\u001b[0;34m\u001b[0m\u001b[0m\n\u001b[1;32m    609\u001b[0m \u001b[0;34m\u001b[0m\u001b[0m\n\u001b[0;32m--> 610\u001b[0;31m     \u001b[0;32mreturn\u001b[0m \u001b[0m_read\u001b[0m\u001b[0;34m(\u001b[0m\u001b[0mfilepath_or_buffer\u001b[0m\u001b[0;34m,\u001b[0m \u001b[0mkwds\u001b[0m\u001b[0;34m)\u001b[0m\u001b[0;34m\u001b[0m\u001b[0;34m\u001b[0m\u001b[0m\n\u001b[0m\u001b[1;32m    611\u001b[0m \u001b[0;34m\u001b[0m\u001b[0m\n\u001b[1;32m    612\u001b[0m \u001b[0;34m\u001b[0m\u001b[0m\n",
      "\u001b[0;32m/opt/anaconda3/lib/python3.8/site-packages/pandas/io/parsers.py\u001b[0m in \u001b[0;36m_read\u001b[0;34m(filepath_or_buffer, kwds)\u001b[0m\n\u001b[1;32m    460\u001b[0m \u001b[0;34m\u001b[0m\u001b[0m\n\u001b[1;32m    461\u001b[0m     \u001b[0;31m# Create the parser.\u001b[0m\u001b[0;34m\u001b[0m\u001b[0;34m\u001b[0m\u001b[0;34m\u001b[0m\u001b[0m\n\u001b[0;32m--> 462\u001b[0;31m     \u001b[0mparser\u001b[0m \u001b[0;34m=\u001b[0m \u001b[0mTextFileReader\u001b[0m\u001b[0;34m(\u001b[0m\u001b[0mfilepath_or_buffer\u001b[0m\u001b[0;34m,\u001b[0m \u001b[0;34m**\u001b[0m\u001b[0mkwds\u001b[0m\u001b[0;34m)\u001b[0m\u001b[0;34m\u001b[0m\u001b[0;34m\u001b[0m\u001b[0m\n\u001b[0m\u001b[1;32m    463\u001b[0m \u001b[0;34m\u001b[0m\u001b[0m\n\u001b[1;32m    464\u001b[0m     \u001b[0;32mif\u001b[0m \u001b[0mchunksize\u001b[0m \u001b[0;32mor\u001b[0m \u001b[0miterator\u001b[0m\u001b[0;34m:\u001b[0m\u001b[0;34m\u001b[0m\u001b[0;34m\u001b[0m\u001b[0m\n",
      "\u001b[0;32m/opt/anaconda3/lib/python3.8/site-packages/pandas/io/parsers.py\u001b[0m in \u001b[0;36m__init__\u001b[0;34m(self, f, engine, **kwds)\u001b[0m\n\u001b[1;32m    817\u001b[0m             \u001b[0mself\u001b[0m\u001b[0;34m.\u001b[0m\u001b[0moptions\u001b[0m\u001b[0;34m[\u001b[0m\u001b[0;34m\"has_index_names\"\u001b[0m\u001b[0;34m]\u001b[0m \u001b[0;34m=\u001b[0m \u001b[0mkwds\u001b[0m\u001b[0;34m[\u001b[0m\u001b[0;34m\"has_index_names\"\u001b[0m\u001b[0;34m]\u001b[0m\u001b[0;34m\u001b[0m\u001b[0;34m\u001b[0m\u001b[0m\n\u001b[1;32m    818\u001b[0m \u001b[0;34m\u001b[0m\u001b[0m\n\u001b[0;32m--> 819\u001b[0;31m         \u001b[0mself\u001b[0m\u001b[0;34m.\u001b[0m\u001b[0m_engine\u001b[0m \u001b[0;34m=\u001b[0m \u001b[0mself\u001b[0m\u001b[0;34m.\u001b[0m\u001b[0m_make_engine\u001b[0m\u001b[0;34m(\u001b[0m\u001b[0mself\u001b[0m\u001b[0;34m.\u001b[0m\u001b[0mengine\u001b[0m\u001b[0;34m)\u001b[0m\u001b[0;34m\u001b[0m\u001b[0;34m\u001b[0m\u001b[0m\n\u001b[0m\u001b[1;32m    820\u001b[0m \u001b[0;34m\u001b[0m\u001b[0m\n\u001b[1;32m    821\u001b[0m     \u001b[0;32mdef\u001b[0m \u001b[0mclose\u001b[0m\u001b[0;34m(\u001b[0m\u001b[0mself\u001b[0m\u001b[0;34m)\u001b[0m\u001b[0;34m:\u001b[0m\u001b[0;34m\u001b[0m\u001b[0;34m\u001b[0m\u001b[0m\n",
      "\u001b[0;32m/opt/anaconda3/lib/python3.8/site-packages/pandas/io/parsers.py\u001b[0m in \u001b[0;36m_make_engine\u001b[0;34m(self, engine)\u001b[0m\n\u001b[1;32m   1048\u001b[0m             )\n\u001b[1;32m   1049\u001b[0m         \u001b[0;31m# error: Too many arguments for \"ParserBase\"\u001b[0m\u001b[0;34m\u001b[0m\u001b[0;34m\u001b[0m\u001b[0;34m\u001b[0m\u001b[0m\n\u001b[0;32m-> 1050\u001b[0;31m         \u001b[0;32mreturn\u001b[0m \u001b[0mmapping\u001b[0m\u001b[0;34m[\u001b[0m\u001b[0mengine\u001b[0m\u001b[0;34m]\u001b[0m\u001b[0;34m(\u001b[0m\u001b[0mself\u001b[0m\u001b[0;34m.\u001b[0m\u001b[0mf\u001b[0m\u001b[0;34m,\u001b[0m \u001b[0;34m**\u001b[0m\u001b[0mself\u001b[0m\u001b[0;34m.\u001b[0m\u001b[0moptions\u001b[0m\u001b[0;34m)\u001b[0m  \u001b[0;31m# type: ignore[call-arg]\u001b[0m\u001b[0;34m\u001b[0m\u001b[0;34m\u001b[0m\u001b[0m\n\u001b[0m\u001b[1;32m   1051\u001b[0m \u001b[0;34m\u001b[0m\u001b[0m\n\u001b[1;32m   1052\u001b[0m     \u001b[0;32mdef\u001b[0m \u001b[0m_failover_to_python\u001b[0m\u001b[0;34m(\u001b[0m\u001b[0mself\u001b[0m\u001b[0;34m)\u001b[0m\u001b[0;34m:\u001b[0m\u001b[0;34m\u001b[0m\u001b[0;34m\u001b[0m\u001b[0m\n",
      "\u001b[0;32m/opt/anaconda3/lib/python3.8/site-packages/pandas/io/parsers.py\u001b[0m in \u001b[0;36m__init__\u001b[0;34m(self, src, **kwds)\u001b[0m\n\u001b[1;32m   1865\u001b[0m \u001b[0;34m\u001b[0m\u001b[0m\n\u001b[1;32m   1866\u001b[0m         \u001b[0;31m# open handles\u001b[0m\u001b[0;34m\u001b[0m\u001b[0;34m\u001b[0m\u001b[0;34m\u001b[0m\u001b[0m\n\u001b[0;32m-> 1867\u001b[0;31m         \u001b[0mself\u001b[0m\u001b[0;34m.\u001b[0m\u001b[0m_open_handles\u001b[0m\u001b[0;34m(\u001b[0m\u001b[0msrc\u001b[0m\u001b[0;34m,\u001b[0m \u001b[0mkwds\u001b[0m\u001b[0;34m)\u001b[0m\u001b[0;34m\u001b[0m\u001b[0;34m\u001b[0m\u001b[0m\n\u001b[0m\u001b[1;32m   1868\u001b[0m         \u001b[0;32massert\u001b[0m \u001b[0mself\u001b[0m\u001b[0;34m.\u001b[0m\u001b[0mhandles\u001b[0m \u001b[0;32mis\u001b[0m \u001b[0;32mnot\u001b[0m \u001b[0;32mNone\u001b[0m\u001b[0;34m\u001b[0m\u001b[0;34m\u001b[0m\u001b[0m\n\u001b[1;32m   1869\u001b[0m         \u001b[0;32mfor\u001b[0m \u001b[0mkey\u001b[0m \u001b[0;32min\u001b[0m \u001b[0;34m(\u001b[0m\u001b[0;34m\"storage_options\"\u001b[0m\u001b[0;34m,\u001b[0m \u001b[0;34m\"encoding\"\u001b[0m\u001b[0;34m,\u001b[0m \u001b[0;34m\"memory_map\"\u001b[0m\u001b[0;34m,\u001b[0m \u001b[0;34m\"compression\"\u001b[0m\u001b[0;34m)\u001b[0m\u001b[0;34m:\u001b[0m\u001b[0;34m\u001b[0m\u001b[0;34m\u001b[0m\u001b[0m\n",
      "\u001b[0;32m/opt/anaconda3/lib/python3.8/site-packages/pandas/io/parsers.py\u001b[0m in \u001b[0;36m_open_handles\u001b[0;34m(self, src, kwds)\u001b[0m\n\u001b[1;32m   1360\u001b[0m         \u001b[0mLet\u001b[0m \u001b[0mthe\u001b[0m \u001b[0mreaders\u001b[0m \u001b[0mopen\u001b[0m \u001b[0mIOHanldes\u001b[0m \u001b[0mafter\u001b[0m \u001b[0mthey\u001b[0m \u001b[0mare\u001b[0m \u001b[0mdone\u001b[0m \u001b[0;32mwith\u001b[0m \u001b[0mtheir\u001b[0m \u001b[0mpotential\u001b[0m \u001b[0mraises\u001b[0m\u001b[0;34m.\u001b[0m\u001b[0;34m\u001b[0m\u001b[0;34m\u001b[0m\u001b[0m\n\u001b[1;32m   1361\u001b[0m         \"\"\"\n\u001b[0;32m-> 1362\u001b[0;31m         self.handles = get_handle(\n\u001b[0m\u001b[1;32m   1363\u001b[0m             \u001b[0msrc\u001b[0m\u001b[0;34m,\u001b[0m\u001b[0;34m\u001b[0m\u001b[0;34m\u001b[0m\u001b[0m\n\u001b[1;32m   1364\u001b[0m             \u001b[0;34m\"r\"\u001b[0m\u001b[0;34m,\u001b[0m\u001b[0;34m\u001b[0m\u001b[0;34m\u001b[0m\u001b[0m\n",
      "\u001b[0;32m/opt/anaconda3/lib/python3.8/site-packages/pandas/io/common.py\u001b[0m in \u001b[0;36mget_handle\u001b[0;34m(path_or_buf, mode, encoding, compression, memory_map, is_text, errors, storage_options)\u001b[0m\n\u001b[1;32m    556\u001b[0m \u001b[0;34m\u001b[0m\u001b[0m\n\u001b[1;32m    557\u001b[0m     \u001b[0;31m# open URLs\u001b[0m\u001b[0;34m\u001b[0m\u001b[0;34m\u001b[0m\u001b[0;34m\u001b[0m\u001b[0m\n\u001b[0;32m--> 558\u001b[0;31m     ioargs = _get_filepath_or_buffer(\n\u001b[0m\u001b[1;32m    559\u001b[0m         \u001b[0mpath_or_buf\u001b[0m\u001b[0;34m,\u001b[0m\u001b[0;34m\u001b[0m\u001b[0;34m\u001b[0m\u001b[0m\n\u001b[1;32m    560\u001b[0m         \u001b[0mencoding\u001b[0m\u001b[0;34m=\u001b[0m\u001b[0mencoding\u001b[0m\u001b[0;34m,\u001b[0m\u001b[0;34m\u001b[0m\u001b[0;34m\u001b[0m\u001b[0m\n",
      "\u001b[0;32m/opt/anaconda3/lib/python3.8/site-packages/pandas/io/common.py\u001b[0m in \u001b[0;36m_get_filepath_or_buffer\u001b[0;34m(filepath_or_buffer, encoding, compression, mode, storage_options)\u001b[0m\n\u001b[1;32m    287\u001b[0m                 \u001b[0;34m\"storage_options passed with file object or non-fsspec file path\"\u001b[0m\u001b[0;34m\u001b[0m\u001b[0;34m\u001b[0m\u001b[0m\n\u001b[1;32m    288\u001b[0m             )\n\u001b[0;32m--> 289\u001b[0;31m         \u001b[0mreq\u001b[0m \u001b[0;34m=\u001b[0m \u001b[0murlopen\u001b[0m\u001b[0;34m(\u001b[0m\u001b[0mfilepath_or_buffer\u001b[0m\u001b[0;34m)\u001b[0m\u001b[0;34m\u001b[0m\u001b[0;34m\u001b[0m\u001b[0m\n\u001b[0m\u001b[1;32m    290\u001b[0m         \u001b[0mcontent_encoding\u001b[0m \u001b[0;34m=\u001b[0m \u001b[0mreq\u001b[0m\u001b[0;34m.\u001b[0m\u001b[0mheaders\u001b[0m\u001b[0;34m.\u001b[0m\u001b[0mget\u001b[0m\u001b[0;34m(\u001b[0m\u001b[0;34m\"Content-Encoding\"\u001b[0m\u001b[0;34m,\u001b[0m \u001b[0;32mNone\u001b[0m\u001b[0;34m)\u001b[0m\u001b[0;34m\u001b[0m\u001b[0;34m\u001b[0m\u001b[0m\n\u001b[1;32m    291\u001b[0m         \u001b[0;32mif\u001b[0m \u001b[0mcontent_encoding\u001b[0m \u001b[0;34m==\u001b[0m \u001b[0;34m\"gzip\"\u001b[0m\u001b[0;34m:\u001b[0m\u001b[0;34m\u001b[0m\u001b[0;34m\u001b[0m\u001b[0m\n",
      "\u001b[0;32m/opt/anaconda3/lib/python3.8/site-packages/pandas/io/common.py\u001b[0m in \u001b[0;36murlopen\u001b[0;34m(*args, **kwargs)\u001b[0m\n\u001b[1;32m    193\u001b[0m     \u001b[0;32mimport\u001b[0m \u001b[0murllib\u001b[0m\u001b[0;34m.\u001b[0m\u001b[0mrequest\u001b[0m\u001b[0;34m\u001b[0m\u001b[0;34m\u001b[0m\u001b[0m\n\u001b[1;32m    194\u001b[0m \u001b[0;34m\u001b[0m\u001b[0m\n\u001b[0;32m--> 195\u001b[0;31m     \u001b[0;32mreturn\u001b[0m \u001b[0murllib\u001b[0m\u001b[0;34m.\u001b[0m\u001b[0mrequest\u001b[0m\u001b[0;34m.\u001b[0m\u001b[0murlopen\u001b[0m\u001b[0;34m(\u001b[0m\u001b[0;34m*\u001b[0m\u001b[0margs\u001b[0m\u001b[0;34m,\u001b[0m \u001b[0;34m**\u001b[0m\u001b[0mkwargs\u001b[0m\u001b[0;34m)\u001b[0m\u001b[0;34m\u001b[0m\u001b[0;34m\u001b[0m\u001b[0m\n\u001b[0m\u001b[1;32m    196\u001b[0m \u001b[0;34m\u001b[0m\u001b[0m\n\u001b[1;32m    197\u001b[0m \u001b[0;34m\u001b[0m\u001b[0m\n",
      "\u001b[0;32m/opt/anaconda3/lib/python3.8/urllib/request.py\u001b[0m in \u001b[0;36murlopen\u001b[0;34m(url, data, timeout, cafile, capath, cadefault, context)\u001b[0m\n\u001b[1;32m    220\u001b[0m     \u001b[0;32melse\u001b[0m\u001b[0;34m:\u001b[0m\u001b[0;34m\u001b[0m\u001b[0;34m\u001b[0m\u001b[0m\n\u001b[1;32m    221\u001b[0m         \u001b[0mopener\u001b[0m \u001b[0;34m=\u001b[0m \u001b[0m_opener\u001b[0m\u001b[0;34m\u001b[0m\u001b[0;34m\u001b[0m\u001b[0m\n\u001b[0;32m--> 222\u001b[0;31m     \u001b[0;32mreturn\u001b[0m \u001b[0mopener\u001b[0m\u001b[0;34m.\u001b[0m\u001b[0mopen\u001b[0m\u001b[0;34m(\u001b[0m\u001b[0murl\u001b[0m\u001b[0;34m,\u001b[0m \u001b[0mdata\u001b[0m\u001b[0;34m,\u001b[0m \u001b[0mtimeout\u001b[0m\u001b[0;34m)\u001b[0m\u001b[0;34m\u001b[0m\u001b[0;34m\u001b[0m\u001b[0m\n\u001b[0m\u001b[1;32m    223\u001b[0m \u001b[0;34m\u001b[0m\u001b[0m\n\u001b[1;32m    224\u001b[0m \u001b[0;32mdef\u001b[0m \u001b[0minstall_opener\u001b[0m\u001b[0;34m(\u001b[0m\u001b[0mopener\u001b[0m\u001b[0;34m)\u001b[0m\u001b[0;34m:\u001b[0m\u001b[0;34m\u001b[0m\u001b[0;34m\u001b[0m\u001b[0m\n",
      "\u001b[0;32m/opt/anaconda3/lib/python3.8/urllib/request.py\u001b[0m in \u001b[0;36mopen\u001b[0;34m(self, fullurl, data, timeout)\u001b[0m\n\u001b[1;32m    529\u001b[0m         \u001b[0;32mfor\u001b[0m \u001b[0mprocessor\u001b[0m \u001b[0;32min\u001b[0m \u001b[0mself\u001b[0m\u001b[0;34m.\u001b[0m\u001b[0mprocess_response\u001b[0m\u001b[0;34m.\u001b[0m\u001b[0mget\u001b[0m\u001b[0;34m(\u001b[0m\u001b[0mprotocol\u001b[0m\u001b[0;34m,\u001b[0m \u001b[0;34m[\u001b[0m\u001b[0;34m]\u001b[0m\u001b[0;34m)\u001b[0m\u001b[0;34m:\u001b[0m\u001b[0;34m\u001b[0m\u001b[0;34m\u001b[0m\u001b[0m\n\u001b[1;32m    530\u001b[0m             \u001b[0mmeth\u001b[0m \u001b[0;34m=\u001b[0m \u001b[0mgetattr\u001b[0m\u001b[0;34m(\u001b[0m\u001b[0mprocessor\u001b[0m\u001b[0;34m,\u001b[0m \u001b[0mmeth_name\u001b[0m\u001b[0;34m)\u001b[0m\u001b[0;34m\u001b[0m\u001b[0;34m\u001b[0m\u001b[0m\n\u001b[0;32m--> 531\u001b[0;31m             \u001b[0mresponse\u001b[0m \u001b[0;34m=\u001b[0m \u001b[0mmeth\u001b[0m\u001b[0;34m(\u001b[0m\u001b[0mreq\u001b[0m\u001b[0;34m,\u001b[0m \u001b[0mresponse\u001b[0m\u001b[0;34m)\u001b[0m\u001b[0;34m\u001b[0m\u001b[0;34m\u001b[0m\u001b[0m\n\u001b[0m\u001b[1;32m    532\u001b[0m \u001b[0;34m\u001b[0m\u001b[0m\n\u001b[1;32m    533\u001b[0m         \u001b[0;32mreturn\u001b[0m \u001b[0mresponse\u001b[0m\u001b[0;34m\u001b[0m\u001b[0;34m\u001b[0m\u001b[0m\n",
      "\u001b[0;32m/opt/anaconda3/lib/python3.8/urllib/request.py\u001b[0m in \u001b[0;36mhttp_response\u001b[0;34m(self, request, response)\u001b[0m\n\u001b[1;32m    638\u001b[0m         \u001b[0;31m# request was successfully received, understood, and accepted.\u001b[0m\u001b[0;34m\u001b[0m\u001b[0;34m\u001b[0m\u001b[0;34m\u001b[0m\u001b[0m\n\u001b[1;32m    639\u001b[0m         \u001b[0;32mif\u001b[0m \u001b[0;32mnot\u001b[0m \u001b[0;34m(\u001b[0m\u001b[0;36m200\u001b[0m \u001b[0;34m<=\u001b[0m \u001b[0mcode\u001b[0m \u001b[0;34m<\u001b[0m \u001b[0;36m300\u001b[0m\u001b[0;34m)\u001b[0m\u001b[0;34m:\u001b[0m\u001b[0;34m\u001b[0m\u001b[0;34m\u001b[0m\u001b[0m\n\u001b[0;32m--> 640\u001b[0;31m             response = self.parent.error(\n\u001b[0m\u001b[1;32m    641\u001b[0m                 'http', request, response, code, msg, hdrs)\n\u001b[1;32m    642\u001b[0m \u001b[0;34m\u001b[0m\u001b[0m\n",
      "\u001b[0;32m/opt/anaconda3/lib/python3.8/urllib/request.py\u001b[0m in \u001b[0;36merror\u001b[0;34m(self, proto, *args)\u001b[0m\n\u001b[1;32m    567\u001b[0m         \u001b[0;32mif\u001b[0m \u001b[0mhttp_err\u001b[0m\u001b[0;34m:\u001b[0m\u001b[0;34m\u001b[0m\u001b[0;34m\u001b[0m\u001b[0m\n\u001b[1;32m    568\u001b[0m             \u001b[0margs\u001b[0m \u001b[0;34m=\u001b[0m \u001b[0;34m(\u001b[0m\u001b[0mdict\u001b[0m\u001b[0;34m,\u001b[0m \u001b[0;34m'default'\u001b[0m\u001b[0;34m,\u001b[0m \u001b[0;34m'http_error_default'\u001b[0m\u001b[0;34m)\u001b[0m \u001b[0;34m+\u001b[0m \u001b[0morig_args\u001b[0m\u001b[0;34m\u001b[0m\u001b[0;34m\u001b[0m\u001b[0m\n\u001b[0;32m--> 569\u001b[0;31m             \u001b[0;32mreturn\u001b[0m \u001b[0mself\u001b[0m\u001b[0;34m.\u001b[0m\u001b[0m_call_chain\u001b[0m\u001b[0;34m(\u001b[0m\u001b[0;34m*\u001b[0m\u001b[0margs\u001b[0m\u001b[0;34m)\u001b[0m\u001b[0;34m\u001b[0m\u001b[0;34m\u001b[0m\u001b[0m\n\u001b[0m\u001b[1;32m    570\u001b[0m \u001b[0;34m\u001b[0m\u001b[0m\n\u001b[1;32m    571\u001b[0m \u001b[0;31m# XXX probably also want an abstract factory that knows when it makes\u001b[0m\u001b[0;34m\u001b[0m\u001b[0;34m\u001b[0m\u001b[0;34m\u001b[0m\u001b[0m\n",
      "\u001b[0;32m/opt/anaconda3/lib/python3.8/urllib/request.py\u001b[0m in \u001b[0;36m_call_chain\u001b[0;34m(self, chain, kind, meth_name, *args)\u001b[0m\n\u001b[1;32m    500\u001b[0m         \u001b[0;32mfor\u001b[0m \u001b[0mhandler\u001b[0m \u001b[0;32min\u001b[0m \u001b[0mhandlers\u001b[0m\u001b[0;34m:\u001b[0m\u001b[0;34m\u001b[0m\u001b[0;34m\u001b[0m\u001b[0m\n\u001b[1;32m    501\u001b[0m             \u001b[0mfunc\u001b[0m \u001b[0;34m=\u001b[0m \u001b[0mgetattr\u001b[0m\u001b[0;34m(\u001b[0m\u001b[0mhandler\u001b[0m\u001b[0;34m,\u001b[0m \u001b[0mmeth_name\u001b[0m\u001b[0;34m)\u001b[0m\u001b[0;34m\u001b[0m\u001b[0;34m\u001b[0m\u001b[0m\n\u001b[0;32m--> 502\u001b[0;31m             \u001b[0mresult\u001b[0m \u001b[0;34m=\u001b[0m \u001b[0mfunc\u001b[0m\u001b[0;34m(\u001b[0m\u001b[0;34m*\u001b[0m\u001b[0margs\u001b[0m\u001b[0;34m)\u001b[0m\u001b[0;34m\u001b[0m\u001b[0;34m\u001b[0m\u001b[0m\n\u001b[0m\u001b[1;32m    503\u001b[0m             \u001b[0;32mif\u001b[0m \u001b[0mresult\u001b[0m \u001b[0;32mis\u001b[0m \u001b[0;32mnot\u001b[0m \u001b[0;32mNone\u001b[0m\u001b[0;34m:\u001b[0m\u001b[0;34m\u001b[0m\u001b[0;34m\u001b[0m\u001b[0m\n\u001b[1;32m    504\u001b[0m                 \u001b[0;32mreturn\u001b[0m \u001b[0mresult\u001b[0m\u001b[0;34m\u001b[0m\u001b[0;34m\u001b[0m\u001b[0m\n",
      "\u001b[0;32m/opt/anaconda3/lib/python3.8/urllib/request.py\u001b[0m in \u001b[0;36mhttp_error_default\u001b[0;34m(self, req, fp, code, msg, hdrs)\u001b[0m\n\u001b[1;32m    647\u001b[0m \u001b[0;32mclass\u001b[0m \u001b[0mHTTPDefaultErrorHandler\u001b[0m\u001b[0;34m(\u001b[0m\u001b[0mBaseHandler\u001b[0m\u001b[0;34m)\u001b[0m\u001b[0;34m:\u001b[0m\u001b[0;34m\u001b[0m\u001b[0;34m\u001b[0m\u001b[0m\n\u001b[1;32m    648\u001b[0m     \u001b[0;32mdef\u001b[0m \u001b[0mhttp_error_default\u001b[0m\u001b[0;34m(\u001b[0m\u001b[0mself\u001b[0m\u001b[0;34m,\u001b[0m \u001b[0mreq\u001b[0m\u001b[0;34m,\u001b[0m \u001b[0mfp\u001b[0m\u001b[0;34m,\u001b[0m \u001b[0mcode\u001b[0m\u001b[0;34m,\u001b[0m \u001b[0mmsg\u001b[0m\u001b[0;34m,\u001b[0m \u001b[0mhdrs\u001b[0m\u001b[0;34m)\u001b[0m\u001b[0;34m:\u001b[0m\u001b[0;34m\u001b[0m\u001b[0;34m\u001b[0m\u001b[0m\n\u001b[0;32m--> 649\u001b[0;31m         \u001b[0;32mraise\u001b[0m \u001b[0mHTTPError\u001b[0m\u001b[0;34m(\u001b[0m\u001b[0mreq\u001b[0m\u001b[0;34m.\u001b[0m\u001b[0mfull_url\u001b[0m\u001b[0;34m,\u001b[0m \u001b[0mcode\u001b[0m\u001b[0;34m,\u001b[0m \u001b[0mmsg\u001b[0m\u001b[0;34m,\u001b[0m \u001b[0mhdrs\u001b[0m\u001b[0;34m,\u001b[0m \u001b[0mfp\u001b[0m\u001b[0;34m)\u001b[0m\u001b[0;34m\u001b[0m\u001b[0;34m\u001b[0m\u001b[0m\n\u001b[0m\u001b[1;32m    650\u001b[0m \u001b[0;34m\u001b[0m\u001b[0m\n\u001b[1;32m    651\u001b[0m \u001b[0;32mclass\u001b[0m \u001b[0mHTTPRedirectHandler\u001b[0m\u001b[0;34m(\u001b[0m\u001b[0mBaseHandler\u001b[0m\u001b[0;34m)\u001b[0m\u001b[0;34m:\u001b[0m\u001b[0;34m\u001b[0m\u001b[0;34m\u001b[0m\u001b[0m\n",
      "\u001b[0;31mHTTPError\u001b[0m: HTTP Error 404: Not Found"
     ]
    }
   ],
   "source": [
    "#read in our data with added variables into a DataFrame to add my columns of data into it\n",
    "# the URL updates therefore this cell may not run with the current URL from Github \n",
    "#but included here to show my process\n",
    "uni_cleaned = pd.read_csv('https://raw.githubusercontent.com/MawadaMF/DSO510/main/universities_cleaned.csv?token=AWOHSXOCGTBT6W33S5JQINTBUKDKG')"
   ]
  },
  {
   "cell_type": "code",
   "execution_count": 7,
   "id": "06db5eb5",
   "metadata": {},
   "outputs": [],
   "source": [
    "#the dataset that I saved into Github with the distance calculations\n",
    "uni_loc = pd.read_csv('https://raw.githubusercontent.com/MawadaMF/DSO510/main/universities_locations.csv?token=AWOHSXNZBNEKPF4NZSFPRWLBUKDVC')"
   ]
  },
  {
   "cell_type": "code",
   "execution_count": 8,
   "id": "31955114",
   "metadata": {},
   "outputs": [
    {
     "data": {
      "text/html": [
       "<div>\n",
       "<style scoped>\n",
       "    .dataframe tbody tr th:only-of-type {\n",
       "        vertical-align: middle;\n",
       "    }\n",
       "\n",
       "    .dataframe tbody tr th {\n",
       "        vertical-align: top;\n",
       "    }\n",
       "\n",
       "    .dataframe thead th {\n",
       "        text-align: right;\n",
       "    }\n",
       "</style>\n",
       "<table border=\"1\" class=\"dataframe\">\n",
       "  <thead>\n",
       "    <tr style=\"text-align: right;\">\n",
       "      <th></th>\n",
       "      <th>Unnamed: 0</th>\n",
       "      <th>School_x</th>\n",
       "      <th>business_school</th>\n",
       "      <th>Acceptance Rate</th>\n",
       "      <th>Average Salary</th>\n",
       "      <th>Distance to Nearest City</th>\n",
       "      <th>Far vs Close</th>\n",
       "    </tr>\n",
       "  </thead>\n",
       "  <tbody>\n",
       "    <tr>\n",
       "      <th>0</th>\n",
       "      <td>0</td>\n",
       "      <td>University of Pennsylvania (Wharton)</td>\n",
       "      <td>Wharton</td>\n",
       "      <td>0.0649</td>\n",
       "      <td>80354</td>\n",
       "      <td>1.560704</td>\n",
       "      <td>Close</td>\n",
       "    </tr>\n",
       "    <tr>\n",
       "      <th>1</th>\n",
       "      <td>1</td>\n",
       "      <td>Washington University in St. Louis (Olin)</td>\n",
       "      <td>Olin</td>\n",
       "      <td>0.0970</td>\n",
       "      <td>67115</td>\n",
       "      <td>235.684726</td>\n",
       "      <td>Far</td>\n",
       "    </tr>\n",
       "    <tr>\n",
       "      <th>2</th>\n",
       "      <td>2</td>\n",
       "      <td>University of California-Berkeley (Haas)</td>\n",
       "      <td>Haas</td>\n",
       "      <td>0.0430</td>\n",
       "      <td>73302</td>\n",
       "      <td>11.315188</td>\n",
       "      <td>Close</td>\n",
       "    </tr>\n",
       "    <tr>\n",
       "      <th>3</th>\n",
       "      <td>3</td>\n",
       "      <td>Cornell University (Dyson)</td>\n",
       "      <td>Dyson</td>\n",
       "      <td>0.0290</td>\n",
       "      <td>74493</td>\n",
       "      <td>178.500330</td>\n",
       "      <td>Far</td>\n",
       "    </tr>\n",
       "    <tr>\n",
       "      <th>4</th>\n",
       "      <td>4</td>\n",
       "      <td>University of Michigan (Ross)</td>\n",
       "      <td>Ross</td>\n",
       "      <td>0.1200</td>\n",
       "      <td>72268</td>\n",
       "      <td>35.657174</td>\n",
       "      <td>Close</td>\n",
       "    </tr>\n",
       "  </tbody>\n",
       "</table>\n",
       "</div>"
      ],
      "text/plain": [
       "   Unnamed: 0                                   School_x business_school  \\\n",
       "0           0       University of Pennsylvania (Wharton)         Wharton   \n",
       "1           1  Washington University in St. Louis (Olin)            Olin   \n",
       "2           2   University of California-Berkeley (Haas)            Haas   \n",
       "3           3                 Cornell University (Dyson)           Dyson   \n",
       "4           4              University of Michigan (Ross)            Ross   \n",
       "\n",
       "   Acceptance Rate  Average Salary  Distance to Nearest City Far vs Close  \n",
       "0           0.0649           80354                  1.560704        Close  \n",
       "1           0.0970           67115                235.684726          Far  \n",
       "2           0.0430           73302                 11.315188        Close  \n",
       "3           0.0290           74493                178.500330          Far  \n",
       "4           0.1200           72268                 35.657174        Close  "
      ]
     },
     "execution_count": 8,
     "metadata": {},
     "output_type": "execute_result"
    }
   ],
   "source": [
    "uni_loc.head()"
   ]
  },
  {
   "cell_type": "code",
   "execution_count": 1,
   "id": "825f6280",
   "metadata": {},
   "outputs": [
    {
     "ename": "NameError",
     "evalue": "name 'uni_loc' is not defined",
     "output_type": "error",
     "traceback": [
      "\u001b[0;31m---------------------------------------------------------------------------\u001b[0m",
      "\u001b[0;31mNameError\u001b[0m                                 Traceback (most recent call last)",
      "\u001b[0;32m<ipython-input-1-aeaf7fc3811c>\u001b[0m in \u001b[0;36m<module>\u001b[0;34m\u001b[0m\n\u001b[0;32m----> 1\u001b[0;31m \u001b[0muni_cleaned\u001b[0m\u001b[0;34m[\u001b[0m\u001b[0;34m'Distance to Nearest City (Miles)'\u001b[0m\u001b[0;34m]\u001b[0m \u001b[0;34m=\u001b[0m \u001b[0muni_loc\u001b[0m\u001b[0;34m[\u001b[0m\u001b[0;34m'Distance to Nearest City'\u001b[0m\u001b[0;34m]\u001b[0m\u001b[0;34m\u001b[0m\u001b[0;34m\u001b[0m\u001b[0m\n\u001b[0m",
      "\u001b[0;31mNameError\u001b[0m: name 'uni_loc' is not defined"
     ]
    }
   ],
   "source": [
    "#adding the columns I created in uni_loc into our final dataset of uni_cleaned\n",
    "uni_cleaned['Distance to Nearest City (Miles)'] = uni_loc['Distance to Nearest City']"
   ]
  },
  {
   "cell_type": "code",
   "execution_count": 18,
   "id": "712f0b58",
   "metadata": {
    "scrolled": true
   },
   "outputs": [],
   "source": [
    "uni_cleaned = uni_cleaned.drop(columns=['Distance to Nearest City'])"
   ]
  },
  {
   "cell_type": "code",
   "execution_count": 20,
   "id": "a8ac62df",
   "metadata": {
    "collapsed": true
   },
   "outputs": [
    {
     "data": {
      "text/html": [
       "<div>\n",
       "<style scoped>\n",
       "    .dataframe tbody tr th:only-of-type {\n",
       "        vertical-align: middle;\n",
       "    }\n",
       "\n",
       "    .dataframe tbody tr th {\n",
       "        vertical-align: top;\n",
       "    }\n",
       "\n",
       "    .dataframe thead th {\n",
       "        text-align: right;\n",
       "    }\n",
       "</style>\n",
       "<table border=\"1\" class=\"dataframe\">\n",
       "  <thead>\n",
       "    <tr style=\"text-align: right;\">\n",
       "      <th></th>\n",
       "      <th>School_x</th>\n",
       "      <th>business_school</th>\n",
       "      <th>Acceptance Rate</th>\n",
       "      <th>Average Salary</th>\n",
       "      <th>Public(0) or Private(1)</th>\n",
       "      <th>Reputation Score</th>\n",
       "      <th>Alumni</th>\n",
       "      <th>Tuition_Fees_17&amp;18</th>\n",
       "      <th>Distance to Nearest City (Miles)</th>\n",
       "    </tr>\n",
       "  </thead>\n",
       "  <tbody>\n",
       "    <tr>\n",
       "      <th>60</th>\n",
       "      <td>Wake Forest University</td>\n",
       "      <td>Wake Forest</td>\n",
       "      <td>0.2480</td>\n",
       "      <td>68300</td>\n",
       "      <td>1</td>\n",
       "      <td>3.6</td>\n",
       "      <td>72452.0</td>\n",
       "      <td>51400.0</td>\n",
       "      <td>70.331593</td>\n",
       "    </tr>\n",
       "    <tr>\n",
       "      <th>58</th>\n",
       "      <td>Evansville University (Schroeder)</td>\n",
       "      <td>Schroeder</td>\n",
       "      <td>0.8860</td>\n",
       "      <td>50537</td>\n",
       "      <td>1</td>\n",
       "      <td>NaN</td>\n",
       "      <td>NaN</td>\n",
       "      <td>35396.0</td>\n",
       "      <td>98.541743</td>\n",
       "    </tr>\n",
       "    <tr>\n",
       "      <th>52</th>\n",
       "      <td>Elon University (Love)</td>\n",
       "      <td>Love</td>\n",
       "      <td>0.7210</td>\n",
       "      <td>52299</td>\n",
       "      <td>1</td>\n",
       "      <td>NaN</td>\n",
       "      <td>NaN</td>\n",
       "      <td>34273.0</td>\n",
       "      <td>96.663637</td>\n",
       "    </tr>\n",
       "    <tr>\n",
       "      <th>35</th>\n",
       "      <td>Ohio State University (Fisher)</td>\n",
       "      <td>Fisher</td>\n",
       "      <td>0.3860</td>\n",
       "      <td>54740</td>\n",
       "      <td>0</td>\n",
       "      <td>4.0</td>\n",
       "      <td>80000.0</td>\n",
       "      <td>20144.0</td>\n",
       "      <td>3.351522</td>\n",
       "    </tr>\n",
       "    <tr>\n",
       "      <th>26</th>\n",
       "      <td>Fordham University (Gabelli)</td>\n",
       "      <td>Gabelli</td>\n",
       "      <td>0.4490</td>\n",
       "      <td>63777</td>\n",
       "      <td>1</td>\n",
       "      <td>3.3</td>\n",
       "      <td>180000.0</td>\n",
       "      <td>50601.0</td>\n",
       "      <td>12.157420</td>\n",
       "    </tr>\n",
       "    <tr>\n",
       "      <th>13</th>\n",
       "      <td>Emory University (Goizueta)</td>\n",
       "      <td>Goizueta</td>\n",
       "      <td>0.1721</td>\n",
       "      <td>66297</td>\n",
       "      <td>1</td>\n",
       "      <td>4.1</td>\n",
       "      <td>26000.0</td>\n",
       "      <td>49392.0</td>\n",
       "      <td>5.053227</td>\n",
       "    </tr>\n",
       "    <tr>\n",
       "      <th>39</th>\n",
       "      <td>University of Kentucky (Gatton)</td>\n",
       "      <td>Gatton</td>\n",
       "      <td>0.6979</td>\n",
       "      <td>49175</td>\n",
       "      <td>0</td>\n",
       "      <td>3.3</td>\n",
       "      <td>300000.0</td>\n",
       "      <td>19994.0</td>\n",
       "      <td>69.752142</td>\n",
       "    </tr>\n",
       "    <tr>\n",
       "      <th>20</th>\n",
       "      <td>The College of William &amp; Mary (Mason)</td>\n",
       "      <td>Mason</td>\n",
       "      <td>0.2240</td>\n",
       "      <td>64724</td>\n",
       "      <td>0</td>\n",
       "      <td>3.4</td>\n",
       "      <td>100000.0</td>\n",
       "      <td>31978.5</td>\n",
       "      <td>114.209191</td>\n",
       "    </tr>\n",
       "    <tr>\n",
       "      <th>8</th>\n",
       "      <td>University of Virginia (McIntire)</td>\n",
       "      <td>McIntire</td>\n",
       "      <td>0.1215</td>\n",
       "      <td>75068</td>\n",
       "      <td>0</td>\n",
       "      <td>4.3</td>\n",
       "      <td>20500.0</td>\n",
       "      <td>31902.5</td>\n",
       "      <td>99.474016</td>\n",
       "    </tr>\n",
       "    <tr>\n",
       "      <th>61</th>\n",
       "      <td>Northeastern University (D'Amore-McKim)</td>\n",
       "      <td>D'Amore-McKim</td>\n",
       "      <td>0.1868</td>\n",
       "      <td>66101</td>\n",
       "      <td>1</td>\n",
       "      <td>3.4</td>\n",
       "      <td>56000.0</td>\n",
       "      <td>49497.0</td>\n",
       "      <td>2.064331</td>\n",
       "    </tr>\n",
       "    <tr>\n",
       "      <th>31</th>\n",
       "      <td>Syracuse University (Whitman)</td>\n",
       "      <td>Whitman</td>\n",
       "      <td>0.3810</td>\n",
       "      <td>59371</td>\n",
       "      <td>1</td>\n",
       "      <td>3.4</td>\n",
       "      <td>30000.0</td>\n",
       "      <td>46755.0</td>\n",
       "      <td>194.539676</td>\n",
       "    </tr>\n",
       "    <tr>\n",
       "      <th>22</th>\n",
       "      <td>University of Washington (Foster)</td>\n",
       "      <td>Foster</td>\n",
       "      <td>0.2095</td>\n",
       "      <td>61039</td>\n",
       "      <td>0</td>\n",
       "      <td>3.9</td>\n",
       "      <td>57000.0</td>\n",
       "      <td>23256.0</td>\n",
       "      <td>3.856963</td>\n",
       "    </tr>\n",
       "    <tr>\n",
       "      <th>43</th>\n",
       "      <td>Santa Clara University (Leavey)</td>\n",
       "      <td>Leavey</td>\n",
       "      <td>0.4350</td>\n",
       "      <td>59333</td>\n",
       "      <td>1</td>\n",
       "      <td>3.3</td>\n",
       "      <td>140000.0</td>\n",
       "      <td>49858.0</td>\n",
       "      <td>2.945132</td>\n",
       "    </tr>\n",
       "    <tr>\n",
       "      <th>64</th>\n",
       "      <td>University of Illinois at Champaign-Urbana (Gies)</td>\n",
       "      <td>Gies</td>\n",
       "      <td>0.4898</td>\n",
       "      <td>63079</td>\n",
       "      <td>0</td>\n",
       "      <td>NaN</td>\n",
       "      <td>70000.0</td>\n",
       "      <td>26006.0</td>\n",
       "      <td>112.339879</td>\n",
       "    </tr>\n",
       "    <tr>\n",
       "      <th>32</th>\n",
       "      <td>University of Massachusetts-Amherst (Isenberg)</td>\n",
       "      <td>Isenberg</td>\n",
       "      <td>0.3060</td>\n",
       "      <td>57782</td>\n",
       "      <td>0</td>\n",
       "      <td>3.4</td>\n",
       "      <td>48000.0</td>\n",
       "      <td>24444.0</td>\n",
       "      <td>75.405513</td>\n",
       "    </tr>\n",
       "    <tr>\n",
       "      <th>6</th>\n",
       "      <td>Carnegie Mellon University (Tepper)</td>\n",
       "      <td>Tepper</td>\n",
       "      <td>0.1200</td>\n",
       "      <td>77987</td>\n",
       "      <td>1</td>\n",
       "      <td>NaN</td>\n",
       "      <td>110000.0</td>\n",
       "      <td>53910.0</td>\n",
       "      <td>255.201810</td>\n",
       "    </tr>\n",
       "    <tr>\n",
       "      <th>36</th>\n",
       "      <td>Pennsylvania State University (Smeal)</td>\n",
       "      <td>Smeal</td>\n",
       "      <td>0.3700</td>\n",
       "      <td>60046</td>\n",
       "      <td>0</td>\n",
       "      <td>3.8</td>\n",
       "      <td>88000.0</td>\n",
       "      <td>19441.0</td>\n",
       "      <td>154.146187</td>\n",
       "    </tr>\n",
       "    <tr>\n",
       "      <th>16</th>\n",
       "      <td>Georgia Institute of Technology (Scheller)</td>\n",
       "      <td>Scheller</td>\n",
       "      <td>0.2370</td>\n",
       "      <td>62545</td>\n",
       "      <td>0</td>\n",
       "      <td>3.9</td>\n",
       "      <td>130000.0</td>\n",
       "      <td>22716.0</td>\n",
       "      <td>1.922996</td>\n",
       "    </tr>\n",
       "    <tr>\n",
       "      <th>77</th>\n",
       "      <td>University of Michigan-Dearborn</td>\n",
       "      <td>Michigan-Dearborn</td>\n",
       "      <td>0.6200</td>\n",
       "      <td>49507</td>\n",
       "      <td>0</td>\n",
       "      <td>NaN</td>\n",
       "      <td>575000.0</td>\n",
       "      <td>18754.0</td>\n",
       "      <td>9.594292</td>\n",
       "    </tr>\n",
       "    <tr>\n",
       "      <th>33</th>\n",
       "      <td>University of Utah (Eccles)</td>\n",
       "      <td>Eccles</td>\n",
       "      <td>0.4080</td>\n",
       "      <td>51478</td>\n",
       "      <td>0</td>\n",
       "      <td>3.5</td>\n",
       "      <td>37000.0</td>\n",
       "      <td>18505.5</td>\n",
       "      <td>363.630499</td>\n",
       "    </tr>\n",
       "  </tbody>\n",
       "</table>\n",
       "</div>"
      ],
      "text/plain": [
       "                                             School_x    business_school  \\\n",
       "60                             Wake Forest University        Wake Forest   \n",
       "58                  Evansville University (Schroeder)          Schroeder   \n",
       "52                             Elon University (Love)               Love   \n",
       "35                     Ohio State University (Fisher)             Fisher   \n",
       "26                       Fordham University (Gabelli)            Gabelli   \n",
       "13                        Emory University (Goizueta)           Goizueta   \n",
       "39                    University of Kentucky (Gatton)             Gatton   \n",
       "20              The College of William & Mary (Mason)              Mason   \n",
       "8                   University of Virginia (McIntire)           McIntire   \n",
       "61            Northeastern University (D'Amore-McKim)      D'Amore-McKim   \n",
       "31                      Syracuse University (Whitman)            Whitman   \n",
       "22                  University of Washington (Foster)             Foster   \n",
       "43                    Santa Clara University (Leavey)             Leavey   \n",
       "64  University of Illinois at Champaign-Urbana (Gies)               Gies   \n",
       "32     University of Massachusetts-Amherst (Isenberg)           Isenberg   \n",
       "6                 Carnegie Mellon University (Tepper)             Tepper   \n",
       "36              Pennsylvania State University (Smeal)              Smeal   \n",
       "16         Georgia Institute of Technology (Scheller)           Scheller   \n",
       "77                    University of Michigan-Dearborn  Michigan-Dearborn   \n",
       "33                        University of Utah (Eccles)             Eccles   \n",
       "\n",
       "    Acceptance Rate  Average Salary  Public(0) or Private(1)  \\\n",
       "60           0.2480           68300                        1   \n",
       "58           0.8860           50537                        1   \n",
       "52           0.7210           52299                        1   \n",
       "35           0.3860           54740                        0   \n",
       "26           0.4490           63777                        1   \n",
       "13           0.1721           66297                        1   \n",
       "39           0.6979           49175                        0   \n",
       "20           0.2240           64724                        0   \n",
       "8            0.1215           75068                        0   \n",
       "61           0.1868           66101                        1   \n",
       "31           0.3810           59371                        1   \n",
       "22           0.2095           61039                        0   \n",
       "43           0.4350           59333                        1   \n",
       "64           0.4898           63079                        0   \n",
       "32           0.3060           57782                        0   \n",
       "6            0.1200           77987                        1   \n",
       "36           0.3700           60046                        0   \n",
       "16           0.2370           62545                        0   \n",
       "77           0.6200           49507                        0   \n",
       "33           0.4080           51478                        0   \n",
       "\n",
       "    Reputation Score    Alumni  Tuition_Fees_17&18  \\\n",
       "60               3.6   72452.0             51400.0   \n",
       "58               NaN       NaN             35396.0   \n",
       "52               NaN       NaN             34273.0   \n",
       "35               4.0   80000.0             20144.0   \n",
       "26               3.3  180000.0             50601.0   \n",
       "13               4.1   26000.0             49392.0   \n",
       "39               3.3  300000.0             19994.0   \n",
       "20               3.4  100000.0             31978.5   \n",
       "8                4.3   20500.0             31902.5   \n",
       "61               3.4   56000.0             49497.0   \n",
       "31               3.4   30000.0             46755.0   \n",
       "22               3.9   57000.0             23256.0   \n",
       "43               3.3  140000.0             49858.0   \n",
       "64               NaN   70000.0             26006.0   \n",
       "32               3.4   48000.0             24444.0   \n",
       "6                NaN  110000.0             53910.0   \n",
       "36               3.8   88000.0             19441.0   \n",
       "16               3.9  130000.0             22716.0   \n",
       "77               NaN  575000.0             18754.0   \n",
       "33               3.5   37000.0             18505.5   \n",
       "\n",
       "    Distance to Nearest City (Miles)  \n",
       "60                         70.331593  \n",
       "58                         98.541743  \n",
       "52                         96.663637  \n",
       "35                          3.351522  \n",
       "26                         12.157420  \n",
       "13                          5.053227  \n",
       "39                         69.752142  \n",
       "20                        114.209191  \n",
       "8                          99.474016  \n",
       "61                          2.064331  \n",
       "31                        194.539676  \n",
       "22                          3.856963  \n",
       "43                          2.945132  \n",
       "64                        112.339879  \n",
       "32                         75.405513  \n",
       "6                         255.201810  \n",
       "36                        154.146187  \n",
       "16                          1.922996  \n",
       "77                          9.594292  \n",
       "33                        363.630499  "
      ]
     },
     "execution_count": 20,
     "metadata": {},
     "output_type": "execute_result"
    }
   ],
   "source": [
    "uni_cleaned.sample(20)"
   ]
  },
  {
   "cell_type": "code",
   "execution_count": 23,
   "id": "2cce68f7",
   "metadata": {},
   "outputs": [],
   "source": [
    "#adding the columns I created in uni_loc into our final dataset of uni_cleaned\n",
    "uni_cleaned['Distance Far vs. Close'] = uni_loc['Far vs Close']"
   ]
  },
  {
   "cell_type": "code",
   "execution_count": 24,
   "id": "3ec3b3ea",
   "metadata": {},
   "outputs": [
    {
     "data": {
      "text/html": [
       "<div>\n",
       "<style scoped>\n",
       "    .dataframe tbody tr th:only-of-type {\n",
       "        vertical-align: middle;\n",
       "    }\n",
       "\n",
       "    .dataframe tbody tr th {\n",
       "        vertical-align: top;\n",
       "    }\n",
       "\n",
       "    .dataframe thead th {\n",
       "        text-align: right;\n",
       "    }\n",
       "</style>\n",
       "<table border=\"1\" class=\"dataframe\">\n",
       "  <thead>\n",
       "    <tr style=\"text-align: right;\">\n",
       "      <th></th>\n",
       "      <th>School_x</th>\n",
       "      <th>business_school</th>\n",
       "      <th>Acceptance Rate</th>\n",
       "      <th>Average Salary</th>\n",
       "      <th>Public(0) or Private(1)</th>\n",
       "      <th>Reputation Score</th>\n",
       "      <th>Alumni</th>\n",
       "      <th>Tuition_Fees_17&amp;18</th>\n",
       "      <th>Distance to Nearest City (Miles)</th>\n",
       "      <th>Distance Far vs. Close</th>\n",
       "    </tr>\n",
       "  </thead>\n",
       "  <tbody>\n",
       "    <tr>\n",
       "      <th>0</th>\n",
       "      <td>University of Pennsylvania (Wharton)</td>\n",
       "      <td>Wharton</td>\n",
       "      <td>0.0649</td>\n",
       "      <td>80354</td>\n",
       "      <td>1</td>\n",
       "      <td>4.8</td>\n",
       "      <td>99000.0</td>\n",
       "      <td>53534.0</td>\n",
       "      <td>1.560704</td>\n",
       "      <td>Close</td>\n",
       "    </tr>\n",
       "    <tr>\n",
       "      <th>1</th>\n",
       "      <td>Washington University in St. Louis (Olin)</td>\n",
       "      <td>Olin</td>\n",
       "      <td>0.0970</td>\n",
       "      <td>67115</td>\n",
       "      <td>1</td>\n",
       "      <td>4.1</td>\n",
       "      <td>21000.0</td>\n",
       "      <td>51533.0</td>\n",
       "      <td>235.684726</td>\n",
       "      <td>Far</td>\n",
       "    </tr>\n",
       "    <tr>\n",
       "      <th>2</th>\n",
       "      <td>University of California-Berkeley (Haas)</td>\n",
       "      <td>Haas</td>\n",
       "      <td>0.0430</td>\n",
       "      <td>73302</td>\n",
       "      <td>0</td>\n",
       "      <td>4.6</td>\n",
       "      <td>39000.0</td>\n",
       "      <td>42184.0</td>\n",
       "      <td>11.315188</td>\n",
       "      <td>Close</td>\n",
       "    </tr>\n",
       "    <tr>\n",
       "      <th>3</th>\n",
       "      <td>Cornell University (Dyson)</td>\n",
       "      <td>Dyson</td>\n",
       "      <td>0.0290</td>\n",
       "      <td>74493</td>\n",
       "      <td>1</td>\n",
       "      <td>4.3</td>\n",
       "      <td>NaN</td>\n",
       "      <td>52853.0</td>\n",
       "      <td>178.500330</td>\n",
       "      <td>Far</td>\n",
       "    </tr>\n",
       "    <tr>\n",
       "      <th>4</th>\n",
       "      <td>University of Michigan (Ross)</td>\n",
       "      <td>Ross</td>\n",
       "      <td>0.1200</td>\n",
       "      <td>72268</td>\n",
       "      <td>0</td>\n",
       "      <td>4.6</td>\n",
       "      <td>52000.0</td>\n",
       "      <td>32451.5</td>\n",
       "      <td>35.657174</td>\n",
       "      <td>Close</td>\n",
       "    </tr>\n",
       "  </tbody>\n",
       "</table>\n",
       "</div>"
      ],
      "text/plain": [
       "                                    School_x business_school  Acceptance Rate  \\\n",
       "0       University of Pennsylvania (Wharton)         Wharton           0.0649   \n",
       "1  Washington University in St. Louis (Olin)            Olin           0.0970   \n",
       "2   University of California-Berkeley (Haas)            Haas           0.0430   \n",
       "3                 Cornell University (Dyson)           Dyson           0.0290   \n",
       "4              University of Michigan (Ross)            Ross           0.1200   \n",
       "\n",
       "   Average Salary  Public(0) or Private(1)  Reputation Score   Alumni  \\\n",
       "0           80354                        1               4.8  99000.0   \n",
       "1           67115                        1               4.1  21000.0   \n",
       "2           73302                        0               4.6  39000.0   \n",
       "3           74493                        1               4.3      NaN   \n",
       "4           72268                        0               4.6  52000.0   \n",
       "\n",
       "   Tuition_Fees_17&18  Distance to Nearest City (Miles) Distance Far vs. Close  \n",
       "0             53534.0                          1.560704                  Close  \n",
       "1             51533.0                        235.684726                    Far  \n",
       "2             42184.0                         11.315188                  Close  \n",
       "3             52853.0                        178.500330                    Far  \n",
       "4             32451.5                         35.657174                  Close  "
      ]
     },
     "execution_count": 24,
     "metadata": {},
     "output_type": "execute_result"
    }
   ],
   "source": [
    "uni_cleaned.head()"
   ]
  },
  {
   "cell_type": "code",
   "execution_count": 25,
   "id": "1f3cfe51",
   "metadata": {},
   "outputs": [],
   "source": [
    "#saving the entire dataframe into the universities cleaned csv\n",
    "uni_cleaned.to_csv('universities_cleaned.csv')"
   ]
  },
  {
   "cell_type": "code",
   "execution_count": 26,
   "id": "8e5c2204",
   "metadata": {},
   "outputs": [],
   "source": [
    "import seaborn as sns"
   ]
  },
  {
   "cell_type": "markdown",
   "id": "709052cc",
   "metadata": {},
   "source": [
    "## Exploratory Data Analysis for Distance Variables"
   ]
  },
  {
   "cell_type": "code",
   "execution_count": 58,
   "id": "a13f54d0",
   "metadata": {},
   "outputs": [
    {
     "data": {
      "text/plain": [
       "<seaborn.axisgrid.FacetGrid at 0x7fb7628bc3d0>"
      ]
     },
     "execution_count": 58,
     "metadata": {},
     "output_type": "execute_result"
    },
    {
     "data": {
      "image/png": "[encoded data removed]",
      "text/plain": [
       "<Figure size 360x360 with 1 Axes>"
      ]
     },
     "metadata": {
      "needs_background": "light"
     },
     "output_type": "display_data"
    }
   ],
   "source": [
    "\n",
    "sns.catplot(x = 'Distance Far vs. Close', kind = 'count',data= uni_cleaned).set(title='Number of Schools that are Far Vs. Close to a City')"
   ]
  },
  {
   "cell_type": "code",
   "execution_count": 59,
   "id": "5c0df806",
   "metadata": {},
   "outputs": [
    {
     "data": {
      "text/plain": [
       "<seaborn.axisgrid.FacetGrid at 0x7fb7636c9d30>"
      ]
     },
     "execution_count": 59,
     "metadata": {},
     "output_type": "execute_result"
    },
    {
     "data": {
      "image/png": "[encoded data removed]",
      "text/plain": [
       "<Figure size 477.25x360 with 1 Axes>"
      ]
     },
     "metadata": {
      "needs_background": "light"
     },
     "output_type": "display_data"
    }
   ],
   "source": [
    "sns.catplot(x = 'Distance Far vs. Close', hue ='Public(0) or Private(1)',kind = 'count',data= uni_cleaned).set(title='Number of Schools that are Far Vs. Close to a City')"
   ]
  },
  {
   "cell_type": "code",
   "execution_count": 30,
   "id": "b37a1d34",
   "metadata": {},
   "outputs": [
    {
     "data": {
      "text/html": [
       "<div>\n",
       "<style scoped>\n",
       "    .dataframe tbody tr th:only-of-type {\n",
       "        vertical-align: middle;\n",
       "    }\n",
       "\n",
       "    .dataframe tbody tr th {\n",
       "        vertical-align: top;\n",
       "    }\n",
       "\n",
       "    .dataframe thead th {\n",
       "        text-align: right;\n",
       "    }\n",
       "</style>\n",
       "<table border=\"1\" class=\"dataframe\">\n",
       "  <thead>\n",
       "    <tr style=\"text-align: right;\">\n",
       "      <th></th>\n",
       "      <th>Acceptance Rate</th>\n",
       "      <th>Average Salary</th>\n",
       "      <th>Public(0) or Private(1)</th>\n",
       "      <th>Reputation Score</th>\n",
       "      <th>Alumni</th>\n",
       "      <th>Tuition_Fees_17&amp;18</th>\n",
       "      <th>Distance to Nearest City (Miles)</th>\n",
       "    </tr>\n",
       "  </thead>\n",
       "  <tbody>\n",
       "    <tr>\n",
       "      <th>count</th>\n",
       "      <td>88.000000</td>\n",
       "      <td>88.000000</td>\n",
       "      <td>88.000000</td>\n",
       "      <td>54.000000</td>\n",
       "      <td>67.000000</td>\n",
       "      <td>88.000000</td>\n",
       "      <td>88.000000</td>\n",
       "    </tr>\n",
       "    <tr>\n",
       "      <th>mean</th>\n",
       "      <td>0.436984</td>\n",
       "      <td>58914.818182</td>\n",
       "      <td>0.500000</td>\n",
       "      <td>3.729630</td>\n",
       "      <td>69711.492537</td>\n",
       "      <td>33717.818182</td>\n",
       "      <td>85.813164</td>\n",
       "    </tr>\n",
       "    <tr>\n",
       "      <th>std</th>\n",
       "      <td>0.228013</td>\n",
       "      <td>8506.707040</td>\n",
       "      <td>0.502865</td>\n",
       "      <td>0.420974</td>\n",
       "      <td>77011.608504</td>\n",
       "      <td>14134.582935</td>\n",
       "      <td>96.301393</td>\n",
       "    </tr>\n",
       "    <tr>\n",
       "      <th>min</th>\n",
       "      <td>0.029000</td>\n",
       "      <td>34708.000000</td>\n",
       "      <td>0.000000</td>\n",
       "      <td>3.200000</td>\n",
       "      <td>19000.000000</td>\n",
       "      <td>5460.000000</td>\n",
       "      <td>0.641885</td>\n",
       "    </tr>\n",
       "    <tr>\n",
       "      <th>25%</th>\n",
       "      <td>0.234750</td>\n",
       "      <td>53429.750000</td>\n",
       "      <td>0.000000</td>\n",
       "      <td>3.400000</td>\n",
       "      <td>37000.000000</td>\n",
       "      <td>21899.875000</td>\n",
       "      <td>5.787753</td>\n",
       "    </tr>\n",
       "    <tr>\n",
       "      <th>50%</th>\n",
       "      <td>0.437500</td>\n",
       "      <td>58430.000000</td>\n",
       "      <td>0.500000</td>\n",
       "      <td>3.650000</td>\n",
       "      <td>48000.000000</td>\n",
       "      <td>31940.500000</td>\n",
       "      <td>56.435758</td>\n",
       "    </tr>\n",
       "    <tr>\n",
       "      <th>75%</th>\n",
       "      <td>0.620000</td>\n",
       "      <td>63901.500000</td>\n",
       "      <td>1.000000</td>\n",
       "      <td>4.000000</td>\n",
       "      <td>80000.000000</td>\n",
       "      <td>48921.000000</td>\n",
       "      <td>112.807207</td>\n",
       "    </tr>\n",
       "    <tr>\n",
       "      <th>max</th>\n",
       "      <td>0.886000</td>\n",
       "      <td>80546.000000</td>\n",
       "      <td>1.000000</td>\n",
       "      <td>4.800000</td>\n",
       "      <td>575000.000000</td>\n",
       "      <td>53910.000000</td>\n",
       "      <td>363.630499</td>\n",
       "    </tr>\n",
       "  </tbody>\n",
       "</table>\n",
       "</div>"
      ],
      "text/plain": [
       "       Acceptance Rate  Average Salary  Public(0) or Private(1)  \\\n",
       "count        88.000000       88.000000                88.000000   \n",
       "mean          0.436984    58914.818182                 0.500000   \n",
       "std           0.228013     8506.707040                 0.502865   \n",
       "min           0.029000    34708.000000                 0.000000   \n",
       "25%           0.234750    53429.750000                 0.000000   \n",
       "50%           0.437500    58430.000000                 0.500000   \n",
       "75%           0.620000    63901.500000                 1.000000   \n",
       "max           0.886000    80546.000000                 1.000000   \n",
       "\n",
       "       Reputation Score         Alumni  Tuition_Fees_17&18  \\\n",
       "count         54.000000      67.000000           88.000000   \n",
       "mean           3.729630   69711.492537        33717.818182   \n",
       "std            0.420974   77011.608504        14134.582935   \n",
       "min            3.200000   19000.000000         5460.000000   \n",
       "25%            3.400000   37000.000000        21899.875000   \n",
       "50%            3.650000   48000.000000        31940.500000   \n",
       "75%            4.000000   80000.000000        48921.000000   \n",
       "max            4.800000  575000.000000        53910.000000   \n",
       "\n",
       "       Distance to Nearest City (Miles)  \n",
       "count                         88.000000  \n",
       "mean                          85.813164  \n",
       "std                           96.301393  \n",
       "min                            0.641885  \n",
       "25%                            5.787753  \n",
       "50%                           56.435758  \n",
       "75%                          112.807207  \n",
       "max                          363.630499  "
      ]
     },
     "execution_count": 30,
     "metadata": {},
     "output_type": "execute_result"
    }
   ],
   "source": [
    "uni_cleaned.describe()"
   ]
  },
  {
   "cell_type": "code",
   "execution_count": 60,
   "id": "8e1e91ef",
   "metadata": {},
   "outputs": [
    {
     "data": {
      "text/plain": [
       "<seaborn.axisgrid.FacetGrid at 0x7fb762b4df40>"
      ]
     },
     "execution_count": 60,
     "metadata": {},
     "output_type": "execute_result"
    },
    {
     "data": {
      "image/png": "[encoded data removed]",
      "text/plain": [
       "<Figure size 360x360 with 1 Axes>"
      ]
     },
     "metadata": {
      "needs_background": "light"
     },
     "output_type": "display_data"
    }
   ],
   "source": [
    "sns.displot(uni_cleaned['Distance to Nearest City (Miles)']).set(title='Distribution of Distances')"
   ]
  },
  {
   "cell_type": "code",
   "execution_count": 61,
   "id": "b17b2854",
   "metadata": {},
   "outputs": [
    {
     "data": {
      "text/plain": [
       "[Text(0.5, 1.0, 'Acceptance Rate vs. Distance to Nearest City')]"
      ]
     },
     "execution_count": 61,
     "metadata": {},
     "output_type": "execute_result"
    },
    {
     "data": {
      "image/png": "[encoded data removed]",
      "text/plain": [
       "<Figure size 432x288 with 1 Axes>"
      ]
     },
     "metadata": {
      "needs_background": "light"
     },
     "output_type": "display_data"
    }
   ],
   "source": [
    "sns.scatterplot(y = 'Acceptance Rate', x= 'Distance to Nearest City (Miles)',data= uni_cleaned).set(title='Acceptance Rate vs. Distance to Nearest City')"
   ]
  },
  {
   "cell_type": "code",
   "execution_count": 40,
   "id": "7bcfab64",
   "metadata": {},
   "outputs": [
    {
     "data": {
      "text/plain": [
       "<AxesSubplot:xlabel='Distance to Nearest City (Miles)', ylabel='Acceptance Rate'>"
      ]
     },
     "execution_count": 40,
     "metadata": {},
     "output_type": "execute_result"
    },
    {
     "data": {
      "image/png": "[encoded data removed]",
      "text/plain": [
       "<Figure size 432x288 with 1 Axes>"
      ]
     },
     "metadata": {
      "needs_background": "light"
     },
     "output_type": "display_data"
    }
   ],
   "source": [
    "sns.scatterplot(y = 'Acceptance Rate', x= 'Distance to Nearest City (Miles)',hue='Public(0) or Private(1)',data= uni_cleaned)"
   ]
  },
  {
   "cell_type": "code",
   "execution_count": 39,
   "id": "9e29cb71",
   "metadata": {},
   "outputs": [
    {
     "data": {
      "text/plain": [
       "<AxesSubplot:xlabel='Distance to Nearest City (Miles)', ylabel='Average Salary'>"
      ]
     },
     "execution_count": 39,
     "metadata": {},
     "output_type": "execute_result"
    },
    {
     "data": {
      "image/png": "[encoded data removed]",
      "text/plain": [
       "<Figure size 432x288 with 1 Axes>"
      ]
     },
     "metadata": {
      "needs_background": "light"
     },
     "output_type": "display_data"
    }
   ],
   "source": [
    "sns.scatterplot(y = 'Average Salary', x= 'Distance to Nearest City (Miles)',hue='Public(0) or Private(1)',data= uni_cleaned)"
   ]
  },
  {
   "cell_type": "code",
   "execution_count": 62,
   "id": "d169d586",
   "metadata": {},
   "outputs": [
    {
     "data": {
      "text/plain": [
       "[Text(0.5, 1.0, 'Average Salary vs Distance to Nearest City')]"
      ]
     },
     "execution_count": 62,
     "metadata": {},
     "output_type": "execute_result"
    },
    {
     "data": {
      "image/png": "[encoded data removed]",
      "text/plain": [
       "<Figure size 432x288 with 1 Axes>"
      ]
     },
     "metadata": {
      "needs_background": "light"
     },
     "output_type": "display_data"
    }
   ],
   "source": [
    "sns.scatterplot(y = 'Average Salary', x= 'Distance to Nearest City (Miles)',data= uni_cleaned).set(title='Average Salary vs Distance to Nearest City')"
   ]
  },
  {
   "cell_type": "code",
   "execution_count": 34,
   "id": "42385c45",
   "metadata": {},
   "outputs": [
    {
     "data": {
      "text/plain": [
       "<AxesSubplot:xlabel='Acceptance Rate', ylabel='Average Salary'>"
      ]
     },
     "execution_count": 34,
     "metadata": {},
     "output_type": "execute_result"
    },
    {
     "data": {
      "image/png": "[encoded data removed]",
      "text/plain": [
       "<Figure size 432x288 with 1 Axes>"
      ]
     },
     "metadata": {
      "needs_background": "light"
     },
     "output_type": "display_data"
    }
   ],
   "source": [
    "sns.scatterplot(x = 'Acceptance Rate', y= 'Average Salary',data= uni_cleaned)"
   ]
  },
  {
   "cell_type": "code",
   "execution_count": 37,
   "id": "db5b03d6",
   "metadata": {
    "scrolled": true
   },
   "outputs": [
    {
     "data": {
      "text/plain": [
       "<AxesSubplot:>"
      ]
     },
     "execution_count": 37,
     "metadata": {},
     "output_type": "execute_result"
    },
    {
     "data": {
      "image/png": "[encoded data removed]",
      "text/plain": [
       "<Figure size 432x288 with 2 Axes>"
      ]
     },
     "metadata": {
      "needs_background": "light"
     },
     "output_type": "display_data"
    }
   ],
   "source": [
    "sns.heatmap(uni_cleaned.corr(),cmap='Reds',annot=True)"
   ]
  },
  {
   "cell_type": "markdown",
   "id": "dce5a929",
   "metadata": {},
   "source": [
    "## Regression Analysis for Distance Variable"
   ]
  },
  {
   "cell_type": "code",
   "execution_count": 54,
   "id": "8aab856a",
   "metadata": {},
   "outputs": [
    {
     "name": "stdout",
     "output_type": "stream",
     "text": [
      "                            OLS Regression Results                            \n",
      "==============================================================================\n",
      "Dep. Variable:                      Y   R-squared:                       0.025\n",
      "Model:                            OLS   Adj. R-squared:                  0.014\n",
      "Method:                 Least Squares   F-statistic:                     2.206\n",
      "Date:                Sun, 28 Nov 2021   Prob (F-statistic):              0.141\n",
      "Time:                        14:32:26   Log-Likelihood:                -919.53\n",
      "No. Observations:                  88   AIC:                             1843.\n",
      "Df Residuals:                      86   BIC:                             1848.\n",
      "Df Model:                           1                                         \n",
      "Covariance Type:            nonrobust                                         \n",
      "==============================================================================\n",
      "                 coef    std err          t      P>|t|      [0.025      0.975]\n",
      "------------------------------------------------------------------------------\n",
      "Intercept   6.011e+04   1209.343     49.708      0.000    5.77e+04    6.25e+04\n",
      "X            -13.9684      9.405     -1.485      0.141     -32.666       4.729\n",
      "==============================================================================\n",
      "Omnibus:                        2.469   Durbin-Watson:                   0.691\n",
      "Prob(Omnibus):                  0.291   Jarque-Bera (JB):                1.872\n",
      "Skew:                           0.203   Prob(JB):                        0.392\n",
      "Kurtosis:                       3.588   Cond. No.                         173.\n",
      "==============================================================================\n",
      "\n",
      "Notes:\n",
      "[1] Standard Errors assume that the covariance matrix of the errors is correctly specified.\n"
     ]
    }
   ],
   "source": [
    "import statsmodels.formula.api as smf\n",
    "X=uni_cleaned['Distance to Nearest City (Miles)']\n",
    "Y=uni_cleaned['Average Salary']\n",
    "# Initialise and fit linear regression model using `statsmodels`\n",
    "model = smf.ols('Y ~ X', data=uni_cleaned)\n",
    "model = model.fit()\n",
    "print(model.summary())"
   ]
  },
  {
   "cell_type": "code",
   "execution_count": 55,
   "id": "bbe27ade",
   "metadata": {
    "scrolled": true
   },
   "outputs": [
    {
     "name": "stdout",
     "output_type": "stream",
     "text": [
      "                            OLS Regression Results                            \n",
      "==============================================================================\n",
      "Dep. Variable:                      D   R-squared:                       0.022\n",
      "Model:                            OLS   Adj. R-squared:                  0.010\n",
      "Method:                 Least Squares   F-statistic:                     1.900\n",
      "Date:                Sun, 28 Nov 2021   Prob (F-statistic):              0.172\n",
      "Time:                        14:41:54   Log-Likelihood:                 6.6927\n",
      "No. Observations:                  88   AIC:                            -9.385\n",
      "Df Residuals:                      86   BIC:                            -4.431\n",
      "Df Model:                           1                                         \n",
      "Covariance Type:            nonrobust                                         \n",
      "==============================================================================\n",
      "                 coef    std err          t      P>|t|      [0.025      0.975]\n",
      "------------------------------------------------------------------------------\n",
      "Intercept      0.4071      0.032     12.538      0.000       0.343       0.472\n",
      "I              0.0003      0.000      1.378      0.172      -0.000       0.001\n",
      "==============================================================================\n",
      "Omnibus:                       14.730   Durbin-Watson:                   0.522\n",
      "Prob(Omnibus):                  0.001   Jarque-Bera (JB):                4.110\n",
      "Skew:                           0.056   Prob(JB):                        0.128\n",
      "Kurtosis:                       1.947   Cond. No.                         173.\n",
      "==============================================================================\n",
      "\n",
      "Notes:\n",
      "[1] Standard Errors assume that the covariance matrix of the errors is correctly specified.\n"
     ]
    }
   ],
   "source": [
    "import statsmodels.formula.api as smf\n",
    "I=uni_cleaned['Distance to Nearest City (Miles)']\n",
    "D=uni_cleaned['Acceptance Rate']\n",
    "# Initialise and fit linear regression model using `statsmodels`\n",
    "model = smf.ols('D ~ I', data=uni_cleaned)\n",
    "model = model.fit()\n",
    "print(model.summary())"
   ]
  },
  {
   "cell_type": "code",
   "execution_count": 5,
   "id": "27973473",
   "metadata": {},
   "outputs": [],
   "source": [
    "uni_cleaned = pd.read_csv('universities_cleaned.csv')"
   ]
  },
  {
   "cell_type": "code",
   "execution_count": 6,
   "id": "5d4161c9",
   "metadata": {},
   "outputs": [],
   "source": [
    "import numpy as np"
   ]
  },
  {
   "cell_type": "code",
   "execution_count": 7,
   "id": "c2e8022b",
   "metadata": {},
   "outputs": [],
   "source": [
    "uni_cleaned['ln_Distance'] = np.log(uni_cleaned['Distance to Nearest City (Miles)'])"
   ]
  },
  {
   "cell_type": "code",
   "execution_count": 8,
   "id": "f4a94b92",
   "metadata": {},
   "outputs": [],
   "source": [
    "uni_cleaned['ln_AccRate'] = np.log(uni_cleaned['Acceptance Rate'])"
   ]
  },
  {
   "cell_type": "code",
   "execution_count": 9,
   "id": "bc728a98",
   "metadata": {},
   "outputs": [],
   "source": [
    "uni_cleaned['ln_AvgSal'] = np.log(uni_cleaned['Average Salary'])"
   ]
  },
  {
   "cell_type": "markdown",
   "id": "483a25d1",
   "metadata": {},
   "source": [
    "## Natural Log Regression Model for Distance"
   ]
  },
  {
   "cell_type": "code",
   "execution_count": 12,
   "id": "2f70d134",
   "metadata": {},
   "outputs": [
    {
     "name": "stdout",
     "output_type": "stream",
     "text": [
      "                            OLS Regression Results                            \n",
      "==============================================================================\n",
      "Dep. Variable:                     De   R-squared:                       0.056\n",
      "Model:                            OLS   Adj. R-squared:                  0.046\n",
      "Method:                 Least Squares   F-statistic:                     5.150\n",
      "Date:                Tue, 30 Nov 2021   Prob (F-statistic):             0.0258\n",
      "Time:                        12:38:09   Log-Likelihood:                 8.2901\n",
      "No. Observations:                  88   AIC:                            -12.58\n",
      "Df Residuals:                      86   BIC:                            -7.625\n",
      "Df Model:                           1                                         \n",
      "Covariance Type:            nonrobust                                         \n",
      "==============================================================================\n",
      "                 coef    std err          t      P>|t|      [0.025      0.975]\n",
      "------------------------------------------------------------------------------\n",
      "Intercept      0.3320      0.052      6.386      0.000       0.229       0.435\n",
      "In             0.0305      0.013      2.269      0.026       0.004       0.057\n",
      "==============================================================================\n",
      "Omnibus:                        7.022   Durbin-Watson:                   0.529\n",
      "Prob(Omnibus):                  0.030   Jarque-Bera (JB):                2.874\n",
      "Skew:                           0.057   Prob(JB):                        0.238\n",
      "Kurtosis:                       2.122   Cond. No.                         8.91\n",
      "==============================================================================\n",
      "\n",
      "Notes:\n",
      "[1] Standard Errors assume that the covariance matrix of the errors is correctly specified.\n"
     ]
    }
   ],
   "source": [
    "import statsmodels.formula.api as smf\n",
    "In=uni_cleaned['ln_Distance']\n",
    "De=uni_cleaned['Acceptance Rate']\n",
    "# Initialise and fit linear regression model using `statsmodels`\n",
    "model = smf.ols('De ~ In', data=uni_cleaned)\n",
    "model = model.fit()\n",
    "print(model.summary())"
   ]
  },
  {
   "cell_type": "code",
   "execution_count": 18,
   "id": "ac8dae07",
   "metadata": {},
   "outputs": [
    {
     "name": "stdout",
     "output_type": "stream",
     "text": [
      "                            OLS Regression Results                            \n",
      "==============================================================================\n",
      "Dep. Variable:              lnSal_Dep   R-squared:                       0.023\n",
      "Model:                            OLS   Adj. R-squared:                  0.012\n",
      "Method:                 Least Squares   F-statistic:                     2.046\n",
      "Date:                Tue, 30 Nov 2021   Prob (F-statistic):              0.156\n",
      "Time:                        12:53:32   Log-Likelihood:                 45.686\n",
      "No. Observations:                  88   AIC:                            -87.37\n",
      "Df Residuals:                      86   BIC:                            -82.42\n",
      "Df Model:                           1                                         \n",
      "Covariance Type:            nonrobust                                         \n",
      "==============================================================================\n",
      "                 coef    std err          t      P>|t|      [0.025      0.975]\n",
      "------------------------------------------------------------------------------\n",
      "Intercept     10.9933      0.021    527.308      0.000      10.952      11.035\n",
      "Dist_Ind      -0.0002      0.000     -1.431      0.156      -0.001    9.04e-05\n",
      "==============================================================================\n",
      "Omnibus:                        7.091   Durbin-Watson:                   0.800\n",
      "Prob(Omnibus):                  0.029   Jarque-Bera (JB):                8.568\n",
      "Skew:                          -0.383   Prob(JB):                       0.0138\n",
      "Kurtosis:                       4.323   Cond. No.                         173.\n",
      "==============================================================================\n",
      "\n",
      "Notes:\n",
      "[1] Standard Errors assume that the covariance matrix of the errors is correctly specified.\n"
     ]
    }
   ],
   "source": [
    "import statsmodels.formula.api as smf\n",
    "Dist_Ind=uni_cleaned['Distance to Nearest City (Miles)']\n",
    "lnSal_Dep=uni_cleaned['ln_AvgSal']\n",
    "# Initialise and fit linear regression model using `statsmodels`\n",
    "model = smf.ols('lnSal_Dep ~ Dist_Ind', data=uni_cleaned)\n",
    "model = model.fit()\n",
    "print(model.summary())"
   ]
  }
 ],
 "metadata": {
  "kernelspec": {
   "display_name": "Python 3",
   "language": "python",
   "name": "python3"
  },
  "language_info": {
   "codemirror_mode": {
    "name": "ipython",
    "version": 3
   },
   "file_extension": ".py",
   "mimetype": "text/x-python",
   "name": "python",
   "nbconvert_exporter": "python",
   "pygments_lexer": "ipython3",
   "version": "3.8.8"
  }
 },
 "nbformat": 4,
 "nbformat_minor": 5
}

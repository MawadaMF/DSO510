{
 "cells": [
  {
   "cell_type": "markdown",
   "id": "1e22848c",
   "metadata": {},
   "source": [
    "# DSO 510 Project EDA for Public vs. Private Schools"
   ]
  },
  {
   "cell_type": "code",
   "execution_count": 1,
   "id": "289e6e45",
   "metadata": {},
   "outputs": [],
   "source": [
    "import pandas as pd\n",
    "import numpy as np\n",
    "import seaborn as sns\n",
    "import statsmodels.formula.api as sm\n",
    "df=pd.read_csv('universities_cleaned.csv')"
   ]
  },
  {
   "cell_type": "code",
   "execution_count": 2,
   "id": "f704a15b",
   "metadata": {},
   "outputs": [
    {
     "data": {
      "text/html": [
       "<div>\n",
       "<style scoped>\n",
       "    .dataframe tbody tr th:only-of-type {\n",
       "        vertical-align: middle;\n",
       "    }\n",
       "\n",
       "    .dataframe tbody tr th {\n",
       "        vertical-align: top;\n",
       "    }\n",
       "\n",
       "    .dataframe thead th {\n",
       "        text-align: right;\n",
       "    }\n",
       "</style>\n",
       "<table border=\"1\" class=\"dataframe\">\n",
       "  <thead>\n",
       "    <tr style=\"text-align: right;\">\n",
       "      <th></th>\n",
       "      <th>School_x</th>\n",
       "      <th>business_school</th>\n",
       "      <th>Acceptance Rate</th>\n",
       "      <th>Average Salary</th>\n",
       "      <th>Public(0) or Private(1)</th>\n",
       "    </tr>\n",
       "  </thead>\n",
       "  <tbody>\n",
       "    <tr>\n",
       "      <th>0</th>\n",
       "      <td>University of Pennsylvania (Wharton)</td>\n",
       "      <td>Wharton</td>\n",
       "      <td>0.0649</td>\n",
       "      <td>80354</td>\n",
       "      <td>1</td>\n",
       "    </tr>\n",
       "    <tr>\n",
       "      <th>1</th>\n",
       "      <td>Washington University in St. Louis (Olin)</td>\n",
       "      <td>Olin</td>\n",
       "      <td>0.0970</td>\n",
       "      <td>67115</td>\n",
       "      <td>1</td>\n",
       "    </tr>\n",
       "    <tr>\n",
       "      <th>2</th>\n",
       "      <td>University of California-Berkeley (Haas)</td>\n",
       "      <td>Haas</td>\n",
       "      <td>0.0430</td>\n",
       "      <td>73302</td>\n",
       "      <td>0</td>\n",
       "    </tr>\n",
       "    <tr>\n",
       "      <th>3</th>\n",
       "      <td>Cornell University (Dyson)</td>\n",
       "      <td>Dyson</td>\n",
       "      <td>0.0290</td>\n",
       "      <td>74493</td>\n",
       "      <td>1</td>\n",
       "    </tr>\n",
       "    <tr>\n",
       "      <th>4</th>\n",
       "      <td>University of Michigan (Ross)</td>\n",
       "      <td>Ross</td>\n",
       "      <td>0.1200</td>\n",
       "      <td>72268</td>\n",
       "      <td>0</td>\n",
       "    </tr>\n",
       "    <tr>\n",
       "      <th>5</th>\n",
       "      <td>New York University (Stern)</td>\n",
       "      <td>Stern</td>\n",
       "      <td>0.0800</td>\n",
       "      <td>80546</td>\n",
       "      <td>1</td>\n",
       "    </tr>\n",
       "    <tr>\n",
       "      <th>6</th>\n",
       "      <td>Carnegie Mellon University (Tepper)</td>\n",
       "      <td>Tepper</td>\n",
       "      <td>0.1200</td>\n",
       "      <td>77987</td>\n",
       "      <td>1</td>\n",
       "    </tr>\n",
       "    <tr>\n",
       "      <th>7</th>\n",
       "      <td>Georgetown University (McDonough)</td>\n",
       "      <td>McDonough</td>\n",
       "      <td>0.1584</td>\n",
       "      <td>73019</td>\n",
       "      <td>1</td>\n",
       "    </tr>\n",
       "    <tr>\n",
       "      <th>8</th>\n",
       "      <td>University of Virginia (McIntire)</td>\n",
       "      <td>McIntire</td>\n",
       "      <td>0.1215</td>\n",
       "      <td>75068</td>\n",
       "      <td>0</td>\n",
       "    </tr>\n",
       "    <tr>\n",
       "      <th>9</th>\n",
       "      <td>University of Notre Dame (Mendoza)</td>\n",
       "      <td>Mendoza</td>\n",
       "      <td>0.1900</td>\n",
       "      <td>65000</td>\n",
       "      <td>1</td>\n",
       "    </tr>\n",
       "    <tr>\n",
       "      <th>10</th>\n",
       "      <td>University of California-Irvine (Merage)</td>\n",
       "      <td>Merage</td>\n",
       "      <td>0.2200</td>\n",
       "      <td>54479</td>\n",
       "      <td>0</td>\n",
       "    </tr>\n",
       "    <tr>\n",
       "      <th>11</th>\n",
       "      <td>University of North Carolina at Chapel Hill (K...</td>\n",
       "      <td>Kenan-Flagler</td>\n",
       "      <td>0.1217</td>\n",
       "      <td>66667</td>\n",
       "      <td>0</td>\n",
       "    </tr>\n",
       "    <tr>\n",
       "      <th>12</th>\n",
       "      <td>Southern Methodist University (Cox)</td>\n",
       "      <td>Cox</td>\n",
       "      <td>0.1112</td>\n",
       "      <td>67138</td>\n",
       "      <td>1</td>\n",
       "    </tr>\n",
       "    <tr>\n",
       "      <th>13</th>\n",
       "      <td>Emory University (Goizueta)</td>\n",
       "      <td>Goizueta</td>\n",
       "      <td>0.1721</td>\n",
       "      <td>66297</td>\n",
       "      <td>1</td>\n",
       "    </tr>\n",
       "    <tr>\n",
       "      <th>14</th>\n",
       "      <td>Boston College (Carroll)</td>\n",
       "      <td>Carroll</td>\n",
       "      <td>0.2500</td>\n",
       "      <td>65814</td>\n",
       "      <td>1</td>\n",
       "    </tr>\n",
       "  </tbody>\n",
       "</table>\n",
       "</div>"
      ],
      "text/plain": [
       "                                             School_x business_school  \\\n",
       "0                University of Pennsylvania (Wharton)         Wharton   \n",
       "1           Washington University in St. Louis (Olin)            Olin   \n",
       "2            University of California-Berkeley (Haas)            Haas   \n",
       "3                          Cornell University (Dyson)           Dyson   \n",
       "4                       University of Michigan (Ross)            Ross   \n",
       "5                         New York University (Stern)           Stern   \n",
       "6                 Carnegie Mellon University (Tepper)          Tepper   \n",
       "7                   Georgetown University (McDonough)       McDonough   \n",
       "8                   University of Virginia (McIntire)        McIntire   \n",
       "9                  University of Notre Dame (Mendoza)         Mendoza   \n",
       "10           University of California-Irvine (Merage)          Merage   \n",
       "11  University of North Carolina at Chapel Hill (K...   Kenan-Flagler   \n",
       "12                Southern Methodist University (Cox)             Cox   \n",
       "13                        Emory University (Goizueta)        Goizueta   \n",
       "14                           Boston College (Carroll)         Carroll   \n",
       "\n",
       "    Acceptance Rate  Average Salary  Public(0) or Private(1)  \n",
       "0            0.0649           80354                        1  \n",
       "1            0.0970           67115                        1  \n",
       "2            0.0430           73302                        0  \n",
       "3            0.0290           74493                        1  \n",
       "4            0.1200           72268                        0  \n",
       "5            0.0800           80546                        1  \n",
       "6            0.1200           77987                        1  \n",
       "7            0.1584           73019                        1  \n",
       "8            0.1215           75068                        0  \n",
       "9            0.1900           65000                        1  \n",
       "10           0.2200           54479                        0  \n",
       "11           0.1217           66667                        0  \n",
       "12           0.1112           67138                        1  \n",
       "13           0.1721           66297                        1  \n",
       "14           0.2500           65814                        1  "
      ]
     },
     "execution_count": 2,
     "metadata": {},
     "output_type": "execute_result"
    }
   ],
   "source": [
    "df.head(15)"
   ]
  },
  {
   "cell_type": "code",
   "execution_count": 3,
   "id": "47127c74",
   "metadata": {},
   "outputs": [
    {
     "data": {
      "text/html": [
       "<div>\n",
       "<style scoped>\n",
       "    .dataframe tbody tr th:only-of-type {\n",
       "        vertical-align: middle;\n",
       "    }\n",
       "\n",
       "    .dataframe tbody tr th {\n",
       "        vertical-align: top;\n",
       "    }\n",
       "\n",
       "    .dataframe thead th {\n",
       "        text-align: right;\n",
       "    }\n",
       "</style>\n",
       "<table border=\"1\" class=\"dataframe\">\n",
       "  <thead>\n",
       "    <tr style=\"text-align: right;\">\n",
       "      <th></th>\n",
       "      <th>School_x</th>\n",
       "      <th>business_school</th>\n",
       "      <th>Acceptance Rate</th>\n",
       "      <th>Average Salary</th>\n",
       "      <th>Public(0) or Private(1)</th>\n",
       "    </tr>\n",
       "  </thead>\n",
       "  <tbody>\n",
       "    <tr>\n",
       "      <th>73</th>\n",
       "      <td>Lipscomb University</td>\n",
       "      <td>Lipscomb</td>\n",
       "      <td>0.6100</td>\n",
       "      <td>46875</td>\n",
       "      <td>1</td>\n",
       "    </tr>\n",
       "    <tr>\n",
       "      <th>74</th>\n",
       "      <td>University of North Carolina-Wilmington</td>\n",
       "      <td>North Carolina-Wilmington</td>\n",
       "      <td>0.6100</td>\n",
       "      <td>44507</td>\n",
       "      <td>0</td>\n",
       "    </tr>\n",
       "    <tr>\n",
       "      <th>75</th>\n",
       "      <td>Ithaca College</td>\n",
       "      <td>Ithaca</td>\n",
       "      <td>0.8018</td>\n",
       "      <td>50649</td>\n",
       "      <td>1</td>\n",
       "    </tr>\n",
       "    <tr>\n",
       "      <th>76</th>\n",
       "      <td>Northern Illinois University</td>\n",
       "      <td>Northern Illinois</td>\n",
       "      <td>0.5384</td>\n",
       "      <td>51120</td>\n",
       "      <td>0</td>\n",
       "    </tr>\n",
       "    <tr>\n",
       "      <th>77</th>\n",
       "      <td>University of Michigan-Dearborn</td>\n",
       "      <td>Michigan-Dearborn</td>\n",
       "      <td>0.6200</td>\n",
       "      <td>49507</td>\n",
       "      <td>0</td>\n",
       "    </tr>\n",
       "    <tr>\n",
       "      <th>78</th>\n",
       "      <td>Duquesne University (Palumbo-Donahue)</td>\n",
       "      <td>Palumbo-Donahue</td>\n",
       "      <td>0.7600</td>\n",
       "      <td>50592</td>\n",
       "      <td>1</td>\n",
       "    </tr>\n",
       "    <tr>\n",
       "      <th>79</th>\n",
       "      <td>Bowling Green State University</td>\n",
       "      <td>Bowling Green</td>\n",
       "      <td>0.7000</td>\n",
       "      <td>53300</td>\n",
       "      <td>0</td>\n",
       "    </tr>\n",
       "    <tr>\n",
       "      <th>80</th>\n",
       "      <td>University of Miami</td>\n",
       "      <td>Miami</td>\n",
       "      <td>0.3044</td>\n",
       "      <td>60801</td>\n",
       "      <td>1</td>\n",
       "    </tr>\n",
       "    <tr>\n",
       "      <th>81</th>\n",
       "      <td>Brigham Young University (Marriott)</td>\n",
       "      <td>Marriott</td>\n",
       "      <td>0.6316</td>\n",
       "      <td>55148</td>\n",
       "      <td>1</td>\n",
       "    </tr>\n",
       "    <tr>\n",
       "      <th>82</th>\n",
       "      <td>The College of New Jersey</td>\n",
       "      <td>TCNJ</td>\n",
       "      <td>0.4100</td>\n",
       "      <td>58000</td>\n",
       "      <td>0</td>\n",
       "    </tr>\n",
       "    <tr>\n",
       "      <th>83</th>\n",
       "      <td>University of South Carolina (Darla Moore)</td>\n",
       "      <td>Darla Moore</td>\n",
       "      <td>0.6510</td>\n",
       "      <td>61946</td>\n",
       "      <td>0</td>\n",
       "    </tr>\n",
       "    <tr>\n",
       "      <th>84</th>\n",
       "      <td>University of Delaware (Lerner)</td>\n",
       "      <td>Lerner</td>\n",
       "      <td>0.4640</td>\n",
       "      <td>54087</td>\n",
       "      <td>0</td>\n",
       "    </tr>\n",
       "    <tr>\n",
       "      <th>85</th>\n",
       "      <td>University of Missouri-Columbia (Trulaske)</td>\n",
       "      <td>Trulaske</td>\n",
       "      <td>0.6917</td>\n",
       "      <td>48827</td>\n",
       "      <td>0</td>\n",
       "    </tr>\n",
       "    <tr>\n",
       "      <th>86</th>\n",
       "      <td>St. Louis University (Chaifetz)</td>\n",
       "      <td>Chaifetz</td>\n",
       "      <td>0.8303</td>\n",
       "      <td>63333</td>\n",
       "      <td>1</td>\n",
       "    </tr>\n",
       "    <tr>\n",
       "      <th>87</th>\n",
       "      <td>Sacred Heart University (Jack Welch)</td>\n",
       "      <td>Jack Welch</td>\n",
       "      <td>0.6080</td>\n",
       "      <td>54784</td>\n",
       "      <td>1</td>\n",
       "    </tr>\n",
       "  </tbody>\n",
       "</table>\n",
       "</div>"
      ],
      "text/plain": [
       "                                      School_x            business_school  \\\n",
       "73                         Lipscomb University                   Lipscomb   \n",
       "74     University of North Carolina-Wilmington  North Carolina-Wilmington   \n",
       "75                              Ithaca College                     Ithaca   \n",
       "76                Northern Illinois University          Northern Illinois   \n",
       "77             University of Michigan-Dearborn          Michigan-Dearborn   \n",
       "78       Duquesne University (Palumbo-Donahue)            Palumbo-Donahue   \n",
       "79              Bowling Green State University              Bowling Green   \n",
       "80                         University of Miami                      Miami   \n",
       "81         Brigham Young University (Marriott)                   Marriott   \n",
       "82                   The College of New Jersey                       TCNJ   \n",
       "83  University of South Carolina (Darla Moore)                Darla Moore   \n",
       "84             University of Delaware (Lerner)                     Lerner   \n",
       "85  University of Missouri-Columbia (Trulaske)                   Trulaske   \n",
       "86             St. Louis University (Chaifetz)                   Chaifetz   \n",
       "87        Sacred Heart University (Jack Welch)                 Jack Welch   \n",
       "\n",
       "    Acceptance Rate  Average Salary  Public(0) or Private(1)  \n",
       "73           0.6100           46875                        1  \n",
       "74           0.6100           44507                        0  \n",
       "75           0.8018           50649                        1  \n",
       "76           0.5384           51120                        0  \n",
       "77           0.6200           49507                        0  \n",
       "78           0.7600           50592                        1  \n",
       "79           0.7000           53300                        0  \n",
       "80           0.3044           60801                        1  \n",
       "81           0.6316           55148                        1  \n",
       "82           0.4100           58000                        0  \n",
       "83           0.6510           61946                        0  \n",
       "84           0.4640           54087                        0  \n",
       "85           0.6917           48827                        0  \n",
       "86           0.8303           63333                        1  \n",
       "87           0.6080           54784                        1  "
      ]
     },
     "execution_count": 3,
     "metadata": {},
     "output_type": "execute_result"
    }
   ],
   "source": [
    "df.tail(15)"
   ]
  },
  {
   "cell_type": "code",
   "execution_count": 4,
   "id": "f6b10632",
   "metadata": {},
   "outputs": [
    {
     "data": {
      "text/plain": [
       "0    44\n",
       "1    44\n",
       "Name: Public(0) or Private(1), dtype: int64"
      ]
     },
     "execution_count": 4,
     "metadata": {},
     "output_type": "execute_result"
    }
   ],
   "source": [
    "# Compare the number of public schools and the number of private schools in the sample\n",
    "df['Public(0) or Private(1)'].value_counts()"
   ]
  },
  {
   "cell_type": "markdown",
   "id": "60a3172a",
   "metadata": {},
   "source": [
    "## Does Average Salary Differ Between Public and Private Schools?"
   ]
  },
  {
   "cell_type": "code",
   "execution_count": 5,
   "id": "3817fb89",
   "metadata": {},
   "outputs": [
    {
     "data": {
      "text/plain": [
       "Public(0) or Private(1)\n",
       "0    57142.0\n",
       "1    60687.0\n",
       "Name: Average Salary, dtype: float64"
      ]
     },
     "execution_count": 5,
     "metadata": {},
     "output_type": "execute_result"
    }
   ],
   "source": [
    "# Compare the average salary between public and private schools in the sample\n",
    "df.groupby('Public(0) or Private(1)')['Average Salary'].mean().round()"
   ]
  },
  {
   "cell_type": "code",
   "execution_count": 6,
   "id": "e26a1a3c",
   "metadata": {},
   "outputs": [
    {
     "data": {
      "image/png": "[encoded data removed]",
      "text/plain": [
       "<Figure size 360x360 with 1 Axes>"
      ]
     },
     "metadata": {
      "needs_background": "light"
     },
     "output_type": "display_data"
    }
   ],
   "source": [
    "# Display the average salary distribution for public schools and for private schools\n",
    "sns.catplot(x='Public(0) or Private(1)',y='Average Salary',jitter=False,data=df);"
   ]
  },
  {
   "cell_type": "code",
   "execution_count": 7,
   "id": "7918246c",
   "metadata": {},
   "outputs": [
    {
     "data": {
      "image/png": "[encoded data removed]",
      "text/plain": [
       "<Figure size 432x288 with 1 Axes>"
      ]
     },
     "metadata": {
      "needs_background": "light"
     },
     "output_type": "display_data"
    }
   ],
   "source": [
    "# Use side by side boxplots to highlight outliers\n",
    "sns.boxplot(x='Public(0) or Private(1)',y='Average Salary',data=df);"
   ]
  },
  {
   "cell_type": "markdown",
   "id": "b3ebe126",
   "metadata": {},
   "source": [
    "## Does Acceptance Rate Differ Between Public and Private Schools?"
   ]
  },
  {
   "cell_type": "code",
   "execution_count": 8,
   "id": "1a6d83c2",
   "metadata": {},
   "outputs": [
    {
     "data": {
      "text/plain": [
       "Public(0) or Private(1)\n",
       "0    0.4641\n",
       "1    0.4098\n",
       "Name: Acceptance Rate, dtype: float64"
      ]
     },
     "execution_count": 8,
     "metadata": {},
     "output_type": "execute_result"
    }
   ],
   "source": [
    "# Compare the acceptance rate between public and private schools in the sample\n",
    "df.groupby('Public(0) or Private(1)')['Acceptance Rate'].mean().round(4)"
   ]
  },
  {
   "cell_type": "code",
   "execution_count": 9,
   "id": "9f7fa27c",
   "metadata": {},
   "outputs": [
    {
     "data": {
      "image/png": "[encoded data removed]",
      "text/plain": [
       "<Figure size 360x360 with 1 Axes>"
      ]
     },
     "metadata": {
      "needs_background": "light"
     },
     "output_type": "display_data"
    }
   ],
   "source": [
    "# Display the acceptance rate distribution for public schools and for private schools\n",
    "sns.catplot(x='Public(0) or Private(1)',y='Acceptance Rate',jitter=False,data=df);"
   ]
  },
  {
   "cell_type": "code",
   "execution_count": 10,
   "id": "e459484b",
   "metadata": {},
   "outputs": [
    {
     "data": {
      "image/png": "[encoded data removed]",
      "text/plain": [
       "<Figure size 432x288 with 1 Axes>"
      ]
     },
     "metadata": {
      "needs_background": "light"
     },
     "output_type": "display_data"
    }
   ],
   "source": [
    "# Use side by side boxplots to highlight outliers\n",
    "sns.boxplot(x='Public(0) or Private(1)',y='Acceptance Rate',data=df);"
   ]
  },
  {
   "cell_type": "code",
   "execution_count": 11,
   "id": "1999ad20",
   "metadata": {},
   "outputs": [
    {
     "data": {
      "image/png": "[encoded data removed]",
      "text/plain": [
       "<Figure size 432x288 with 1 Axes>"
      ]
     },
     "metadata": {
      "needs_background": "light"
     },
     "output_type": "display_data"
    }
   ],
   "source": [
    "# Display relationship between acceptance rate and salary, broken down by school type \n",
    "sns.scatterplot(x='Acceptance Rate',y='Average Salary',hue='Public(0) or Private(1)',data=df);"
   ]
  },
  {
   "cell_type": "code",
   "execution_count": 12,
   "id": "fff78e1a",
   "metadata": {},
   "outputs": [
    {
     "data": {
      "text/plain": [
       "Index(['School_x', 'business_school', 'Acceptance Rate', 'Average Salary',\n",
       "       'Public(0) or Private(1)'],\n",
       "      dtype='object')"
      ]
     },
     "execution_count": 12,
     "metadata": {},
     "output_type": "execute_result"
    }
   ],
   "source": [
    "df.columns"
   ]
  },
  {
   "cell_type": "code",
   "execution_count": 13,
   "id": "06ad8f79",
   "metadata": {},
   "outputs": [],
   "source": [
    "# Reformat column names\n",
    "df.rename(columns={'School_x':'school', \n",
    "                   'Acceptance Rate':'acceptance_rate',\n",
    "                   'Average Salary':'average_salary', \n",
    "                   'Public(0) or Private(1)':'public_private'},inplace=True)"
   ]
  },
  {
   "cell_type": "code",
   "execution_count": 14,
   "id": "0ae6cc31",
   "metadata": {},
   "outputs": [
    {
     "data": {
      "text/html": [
       "<div>\n",
       "<style scoped>\n",
       "    .dataframe tbody tr th:only-of-type {\n",
       "        vertical-align: middle;\n",
       "    }\n",
       "\n",
       "    .dataframe tbody tr th {\n",
       "        vertical-align: top;\n",
       "    }\n",
       "\n",
       "    .dataframe thead th {\n",
       "        text-align: right;\n",
       "    }\n",
       "</style>\n",
       "<table border=\"1\" class=\"dataframe\">\n",
       "  <thead>\n",
       "    <tr style=\"text-align: right;\">\n",
       "      <th></th>\n",
       "      <th>school</th>\n",
       "      <th>business_school</th>\n",
       "      <th>acceptance_rate</th>\n",
       "      <th>average_salary</th>\n",
       "      <th>public_private</th>\n",
       "    </tr>\n",
       "  </thead>\n",
       "  <tbody>\n",
       "    <tr>\n",
       "      <th>0</th>\n",
       "      <td>University of Pennsylvania (Wharton)</td>\n",
       "      <td>Wharton</td>\n",
       "      <td>0.0649</td>\n",
       "      <td>80354</td>\n",
       "      <td>1</td>\n",
       "    </tr>\n",
       "    <tr>\n",
       "      <th>1</th>\n",
       "      <td>Washington University in St. Louis (Olin)</td>\n",
       "      <td>Olin</td>\n",
       "      <td>0.0970</td>\n",
       "      <td>67115</td>\n",
       "      <td>1</td>\n",
       "    </tr>\n",
       "    <tr>\n",
       "      <th>2</th>\n",
       "      <td>University of California-Berkeley (Haas)</td>\n",
       "      <td>Haas</td>\n",
       "      <td>0.0430</td>\n",
       "      <td>73302</td>\n",
       "      <td>0</td>\n",
       "    </tr>\n",
       "    <tr>\n",
       "      <th>3</th>\n",
       "      <td>Cornell University (Dyson)</td>\n",
       "      <td>Dyson</td>\n",
       "      <td>0.0290</td>\n",
       "      <td>74493</td>\n",
       "      <td>1</td>\n",
       "    </tr>\n",
       "    <tr>\n",
       "      <th>4</th>\n",
       "      <td>University of Michigan (Ross)</td>\n",
       "      <td>Ross</td>\n",
       "      <td>0.1200</td>\n",
       "      <td>72268</td>\n",
       "      <td>0</td>\n",
       "    </tr>\n",
       "  </tbody>\n",
       "</table>\n",
       "</div>"
      ],
      "text/plain": [
       "                                      school business_school  acceptance_rate  \\\n",
       "0       University of Pennsylvania (Wharton)         Wharton           0.0649   \n",
       "1  Washington University in St. Louis (Olin)            Olin           0.0970   \n",
       "2   University of California-Berkeley (Haas)            Haas           0.0430   \n",
       "3                 Cornell University (Dyson)           Dyson           0.0290   \n",
       "4              University of Michigan (Ross)            Ross           0.1200   \n",
       "\n",
       "   average_salary  public_private  \n",
       "0           80354               1  \n",
       "1           67115               1  \n",
       "2           73302               0  \n",
       "3           74493               1  \n",
       "4           72268               0  "
      ]
     },
     "execution_count": 14,
     "metadata": {},
     "output_type": "execute_result"
    }
   ],
   "source": [
    "df.head()"
   ]
  },
  {
   "cell_type": "markdown",
   "id": "6a0b1b83",
   "metadata": {},
   "source": [
    "## Regressions on Variables of Interest"
   ]
  },
  {
   "cell_type": "code",
   "execution_count": 15,
   "id": "4c0ef8a5",
   "metadata": {},
   "outputs": [
    {
     "name": "stdout",
     "output_type": "stream",
     "text": [
      "                            OLS Regression Results                            \n",
      "==============================================================================\n",
      "Dep. Variable:         average_salary   R-squared:                       0.536\n",
      "Model:                            OLS   Adj. R-squared:                  0.530\n",
      "Method:                 Least Squares   F-statistic:                     99.28\n",
      "Date:                Mon, 29 Nov 2021   Prob (F-statistic):           5.39e-16\n",
      "Time:                        21:11:19   Log-Likelihood:                -886.87\n",
      "No. Observations:                  88   AIC:                             1778.\n",
      "Df Residuals:                      86   BIC:                             1783.\n",
      "Df Model:                           1                                         \n",
      "Covariance Type:            nonrobust                                         \n",
      "===================================================================================\n",
      "                      coef    std err          t      P>|t|      [0.025      0.975]\n",
      "-----------------------------------------------------------------------------------\n",
      "Intercept        7.085e+04   1349.317     52.507      0.000    6.82e+04    7.35e+04\n",
      "acceptance_rate -2.731e+04   2740.872     -9.964      0.000   -3.28e+04   -2.19e+04\n",
      "==============================================================================\n",
      "Omnibus:                       10.802   Durbin-Watson:                   1.504\n",
      "Prob(Omnibus):                  0.005   Jarque-Bera (JB):               16.766\n",
      "Skew:                          -0.488   Prob(JB):                     0.000229\n",
      "Kurtosis:                       4.903   Cond. No.                         5.29\n",
      "==============================================================================\n",
      "\n",
      "Notes:\n",
      "[1] Standard Errors assume that the covariance matrix of the errors is correctly specified.\n"
     ]
    }
   ],
   "source": [
    "# Regress average salary on acceptance rate\n",
    "result = sm.ols(formula=\"average_salary ~ acceptance_rate\", \n",
    "                data=df).fit()\n",
    "print(result.summary())"
   ]
  },
  {
   "cell_type": "code",
   "execution_count": 16,
   "id": "48f6fba2",
   "metadata": {},
   "outputs": [],
   "source": [
    "# Create a new variable for the log of average salary\n",
    "df['ln_average_salary']=np.log(df['average_salary'])"
   ]
  },
  {
   "cell_type": "code",
   "execution_count": 17,
   "id": "58cb5701",
   "metadata": {},
   "outputs": [
    {
     "name": "stdout",
     "output_type": "stream",
     "text": [
      "                            OLS Regression Results                            \n",
      "==============================================================================\n",
      "Dep. Variable:      ln_average_salary   R-squared:                       0.504\n",
      "Model:                            OLS   Adj. R-squared:                  0.498\n",
      "Method:                 Least Squares   F-statistic:                     87.33\n",
      "Date:                Mon, 29 Nov 2021   Prob (F-statistic):           9.76e-15\n",
      "Time:                        21:11:19   Log-Likelihood:                 75.489\n",
      "No. Observations:                  88   AIC:                            -147.0\n",
      "Df Residuals:                      86   BIC:                            -142.0\n",
      "Df Model:                           1                                         \n",
      "Covariance Type:            nonrobust                                         \n",
      "===================================================================================\n",
      "                      coef    std err          t      P>|t|      [0.025      0.975]\n",
      "-----------------------------------------------------------------------------------\n",
      "Intercept          11.1727      0.024    464.995      0.000      11.125      11.220\n",
      "acceptance_rate    -0.4561      0.049     -9.345      0.000      -0.553      -0.359\n",
      "==============================================================================\n",
      "Omnibus:                       34.875   Durbin-Watson:                   1.587\n",
      "Prob(Omnibus):                  0.000   Jarque-Bera (JB):              110.212\n",
      "Skew:                          -1.254   Prob(JB):                     1.17e-24\n",
      "Kurtosis:                       7.875   Cond. No.                         5.29\n",
      "==============================================================================\n",
      "\n",
      "Notes:\n",
      "[1] Standard Errors assume that the covariance matrix of the errors is correctly specified.\n"
     ]
    }
   ],
   "source": [
    "# Regress the log of average salary on acceptance rate\n",
    "result = sm.ols(formula=\"ln_average_salary ~ acceptance_rate\", \n",
    "                data=df).fit()\n",
    "print(result.summary())"
   ]
  },
  {
   "cell_type": "code",
   "execution_count": 19,
   "id": "a3196b20",
   "metadata": {},
   "outputs": [
    {
     "name": "stdout",
     "output_type": "stream",
     "text": [
      "                            OLS Regression Results                            \n",
      "==============================================================================\n",
      "Dep. Variable:      ln_average_salary   R-squared:                       0.035\n",
      "Model:                            OLS   Adj. R-squared:                  0.024\n",
      "Method:                 Least Squares   F-statistic:                     3.146\n",
      "Date:                Mon, 29 Nov 2021   Prob (F-statistic):             0.0797\n",
      "Time:                        21:11:46   Log-Likelihood:                 46.232\n",
      "No. Observations:                  88   AIC:                            -88.46\n",
      "Df Residuals:                      86   BIC:                            -83.51\n",
      "Df Model:                           1                                         \n",
      "Covariance Type:            nonrobust                                         \n",
      "==================================================================================\n",
      "                     coef    std err          t      P>|t|      [0.025      0.975]\n",
      "----------------------------------------------------------------------------------\n",
      "Intercept         10.9460      0.022    501.637      0.000      10.903      10.989\n",
      "public_private     0.0547      0.031      1.774      0.080      -0.007       0.116\n",
      "==============================================================================\n",
      "Omnibus:                        9.448   Durbin-Watson:                   0.805\n",
      "Prob(Omnibus):                  0.009   Jarque-Bera (JB):               11.790\n",
      "Skew:                          -0.519   Prob(JB):                      0.00275\n",
      "Kurtosis:                       4.463   Cond. No.                         2.62\n",
      "==============================================================================\n",
      "\n",
      "Notes:\n",
      "[1] Standard Errors assume that the covariance matrix of the errors is correctly specified.\n"
     ]
    }
   ],
   "source": [
    "# Regress the log of average salary on public vs private dummy variable\n",
    "result = sm.ols(formula=\"ln_average_salary ~ public_private\", \n",
    "                data=df).fit()\n",
    "print(result.summary())"
   ]
  },
  {
   "cell_type": "code",
   "execution_count": 21,
   "id": "5bf43788",
   "metadata": {},
   "outputs": [
    {
     "name": "stdout",
     "output_type": "stream",
     "text": [
      "                            OLS Regression Results                            \n",
      "==============================================================================\n",
      "Dep. Variable:        acceptance_rate   R-squared:                       0.014\n",
      "Model:                            OLS   Adj. R-squared:                  0.003\n",
      "Method:                 Least Squares   F-statistic:                     1.252\n",
      "Date:                Mon, 29 Nov 2021   Prob (F-statistic):              0.266\n",
      "Time:                        21:13:09   Log-Likelihood:                 6.3672\n",
      "No. Observations:                  88   AIC:                            -8.734\n",
      "Df Residuals:                      86   BIC:                            -3.780\n",
      "Df Model:                           1                                         \n",
      "Covariance Type:            nonrobust                                         \n",
      "==================================================================================\n",
      "                     coef    std err          t      P>|t|      [0.025      0.975]\n",
      "----------------------------------------------------------------------------------\n",
      "Intercept          0.4641      0.034     13.522      0.000       0.396       0.532\n",
      "public_private    -0.0543      0.049     -1.119      0.266      -0.151       0.042\n",
      "==============================================================================\n",
      "Omnibus:                       12.780   Durbin-Watson:                   0.473\n",
      "Prob(Omnibus):                  0.002   Jarque-Bera (JB):                4.040\n",
      "Skew:                           0.135   Prob(JB):                        0.133\n",
      "Kurtosis:                       1.986   Cond. No.                         2.62\n",
      "==============================================================================\n",
      "\n",
      "Notes:\n",
      "[1] Standard Errors assume that the covariance matrix of the errors is correctly specified.\n"
     ]
    }
   ],
   "source": [
    "# Regress acceptance rate on public vs private dummy variable\n",
    "result = sm.ols(formula=\"acceptance_rate ~ public_private\", \n",
    "                data=df).fit()\n",
    "print(result.summary())"
   ]
  }
 ],
 "metadata": {
  "kernelspec": {
   "display_name": "Python 3",
   "language": "python",
   "name": "python3"
  },
  "language_info": {
   "codemirror_mode": {
    "name": "ipython",
    "version": 3
   },
   "file_extension": ".py",
   "mimetype": "text/x-python",
   "name": "python",
   "nbconvert_exporter": "python",
   "pygments_lexer": "ipython3",
   "version": "3.8.8"
  }
 },
 "nbformat": 4,
 "nbformat_minor": 5
}

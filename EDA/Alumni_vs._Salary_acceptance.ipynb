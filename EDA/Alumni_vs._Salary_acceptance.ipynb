{
 "cells": [
  {
   "cell_type": "code",
   "execution_count": 1,
   "id": "7cc470ea",
   "metadata": {},
   "outputs": [],
   "source": [
    "import numpy as np\n",
    "import pandas as pd\n",
    "import matplotlib.pyplot as plt\n",
    "import seaborn as sns\n",
    "from scipy import stats\n",
    "import statsmodels.formula.api as sm\n"
   ]
  },
  {
   "cell_type": "markdown",
   "id": "1e2060e2",
   "metadata": {},
   "source": [
    "# Read data"
   ]
  },
  {
   "cell_type": "code",
   "execution_count": 2,
   "id": "e71f7779",
   "metadata": {},
   "outputs": [
    {
     "data": {
      "text/html": [
       "<div>\n",
       "<style scoped>\n",
       "    .dataframe tbody tr th:only-of-type {\n",
       "        vertical-align: middle;\n",
       "    }\n",
       "\n",
       "    .dataframe tbody tr th {\n",
       "        vertical-align: top;\n",
       "    }\n",
       "\n",
       "    .dataframe thead th {\n",
       "        text-align: right;\n",
       "    }\n",
       "</style>\n",
       "<table border=\"1\" class=\"dataframe\">\n",
       "  <thead>\n",
       "    <tr style=\"text-align: right;\">\n",
       "      <th></th>\n",
       "      <th>Unnamed: 0</th>\n",
       "      <th>School_x</th>\n",
       "      <th>business_school</th>\n",
       "      <th>Acceptance Rate</th>\n",
       "      <th>Average Salary</th>\n",
       "      <th>Public(0) or Private(1)</th>\n",
       "      <th>Reputation Score</th>\n",
       "      <th>Alumni</th>\n",
       "      <th>Tuition_Fees_17&amp;18</th>\n",
       "      <th>Distance to Nearest City (Miles)</th>\n",
       "      <th>Distance Far vs. Close</th>\n",
       "    </tr>\n",
       "  </thead>\n",
       "  <tbody>\n",
       "    <tr>\n",
       "      <th>0</th>\n",
       "      <td>0</td>\n",
       "      <td>University of Pennsylvania (Wharton)</td>\n",
       "      <td>Wharton</td>\n",
       "      <td>0.0649</td>\n",
       "      <td>80354</td>\n",
       "      <td>1</td>\n",
       "      <td>4.8</td>\n",
       "      <td>99000.0</td>\n",
       "      <td>53534.0</td>\n",
       "      <td>1.560704</td>\n",
       "      <td>Close</td>\n",
       "    </tr>\n",
       "    <tr>\n",
       "      <th>1</th>\n",
       "      <td>1</td>\n",
       "      <td>Washington University in St. Louis (Olin)</td>\n",
       "      <td>Olin</td>\n",
       "      <td>0.0970</td>\n",
       "      <td>67115</td>\n",
       "      <td>1</td>\n",
       "      <td>4.1</td>\n",
       "      <td>21000.0</td>\n",
       "      <td>51533.0</td>\n",
       "      <td>235.684726</td>\n",
       "      <td>Far</td>\n",
       "    </tr>\n",
       "    <tr>\n",
       "      <th>2</th>\n",
       "      <td>2</td>\n",
       "      <td>University of California-Berkeley (Haas)</td>\n",
       "      <td>Haas</td>\n",
       "      <td>0.0430</td>\n",
       "      <td>73302</td>\n",
       "      <td>0</td>\n",
       "      <td>4.6</td>\n",
       "      <td>39000.0</td>\n",
       "      <td>42184.0</td>\n",
       "      <td>11.315188</td>\n",
       "      <td>Close</td>\n",
       "    </tr>\n",
       "    <tr>\n",
       "      <th>3</th>\n",
       "      <td>3</td>\n",
       "      <td>Cornell University (Dyson)</td>\n",
       "      <td>Dyson</td>\n",
       "      <td>0.0290</td>\n",
       "      <td>74493</td>\n",
       "      <td>1</td>\n",
       "      <td>4.3</td>\n",
       "      <td>NaN</td>\n",
       "      <td>52853.0</td>\n",
       "      <td>178.500330</td>\n",
       "      <td>Far</td>\n",
       "    </tr>\n",
       "    <tr>\n",
       "      <th>4</th>\n",
       "      <td>4</td>\n",
       "      <td>University of Michigan (Ross)</td>\n",
       "      <td>Ross</td>\n",
       "      <td>0.1200</td>\n",
       "      <td>72268</td>\n",
       "      <td>0</td>\n",
       "      <td>4.6</td>\n",
       "      <td>52000.0</td>\n",
       "      <td>32451.5</td>\n",
       "      <td>35.657174</td>\n",
       "      <td>Close</td>\n",
       "    </tr>\n",
       "    <tr>\n",
       "      <th>...</th>\n",
       "      <td>...</td>\n",
       "      <td>...</td>\n",
       "      <td>...</td>\n",
       "      <td>...</td>\n",
       "      <td>...</td>\n",
       "      <td>...</td>\n",
       "      <td>...</td>\n",
       "      <td>...</td>\n",
       "      <td>...</td>\n",
       "      <td>...</td>\n",
       "      <td>...</td>\n",
       "    </tr>\n",
       "    <tr>\n",
       "      <th>83</th>\n",
       "      <td>83</td>\n",
       "      <td>University of South Carolina (Darla Moore)</td>\n",
       "      <td>Darla Moore</td>\n",
       "      <td>0.6510</td>\n",
       "      <td>61946</td>\n",
       "      <td>0</td>\n",
       "      <td>3.6</td>\n",
       "      <td>48000.0</td>\n",
       "      <td>23155.0</td>\n",
       "      <td>36.649280</td>\n",
       "      <td>Close</td>\n",
       "    </tr>\n",
       "    <tr>\n",
       "      <th>84</th>\n",
       "      <td>84</td>\n",
       "      <td>University of Delaware (Lerner)</td>\n",
       "      <td>Lerner</td>\n",
       "      <td>0.4640</td>\n",
       "      <td>54087</td>\n",
       "      <td>0</td>\n",
       "      <td>NaN</td>\n",
       "      <td>34400.0</td>\n",
       "      <td>18146.5</td>\n",
       "      <td>335.203680</td>\n",
       "      <td>Far</td>\n",
       "    </tr>\n",
       "    <tr>\n",
       "      <th>85</th>\n",
       "      <td>85</td>\n",
       "      <td>University of Missouri-Columbia (Trulaske)</td>\n",
       "      <td>Trulaske</td>\n",
       "      <td>0.6917</td>\n",
       "      <td>48827</td>\n",
       "      <td>0</td>\n",
       "      <td>3.2</td>\n",
       "      <td>32000.0</td>\n",
       "      <td>42166.0</td>\n",
       "      <td>232.209889</td>\n",
       "      <td>Far</td>\n",
       "    </tr>\n",
       "    <tr>\n",
       "      <th>86</th>\n",
       "      <td>86</td>\n",
       "      <td>St. Louis University (Chaifetz)</td>\n",
       "      <td>Chaifetz</td>\n",
       "      <td>0.8303</td>\n",
       "      <td>63333</td>\n",
       "      <td>1</td>\n",
       "      <td>NaN</td>\n",
       "      <td>25625.0</td>\n",
       "      <td>39820.0</td>\n",
       "      <td>53.214610</td>\n",
       "      <td>Far</td>\n",
       "    </tr>\n",
       "    <tr>\n",
       "      <th>87</th>\n",
       "      <td>87</td>\n",
       "      <td>Sacred Heart University (Jack Welch)</td>\n",
       "      <td>Jack Welch</td>\n",
       "      <td>0.6080</td>\n",
       "      <td>54784</td>\n",
       "      <td>1</td>\n",
       "      <td>NaN</td>\n",
       "      <td>NaN</td>\n",
       "      <td>36394.0</td>\n",
       "      <td>257.681562</td>\n",
       "      <td>Far</td>\n",
       "    </tr>\n",
       "  </tbody>\n",
       "</table>\n",
       "<p>88 rows × 11 columns</p>\n",
       "</div>"
      ],
      "text/plain": [
       "    Unnamed: 0                                    School_x business_school  \\\n",
       "0            0        University of Pennsylvania (Wharton)         Wharton   \n",
       "1            1   Washington University in St. Louis (Olin)            Olin   \n",
       "2            2    University of California-Berkeley (Haas)            Haas   \n",
       "3            3                  Cornell University (Dyson)           Dyson   \n",
       "4            4               University of Michigan (Ross)            Ross   \n",
       "..         ...                                         ...             ...   \n",
       "83          83  University of South Carolina (Darla Moore)     Darla Moore   \n",
       "84          84             University of Delaware (Lerner)          Lerner   \n",
       "85          85  University of Missouri-Columbia (Trulaske)        Trulaske   \n",
       "86          86             St. Louis University (Chaifetz)        Chaifetz   \n",
       "87          87        Sacred Heart University (Jack Welch)      Jack Welch   \n",
       "\n",
       "    Acceptance Rate  Average Salary  Public(0) or Private(1)  \\\n",
       "0            0.0649           80354                        1   \n",
       "1            0.0970           67115                        1   \n",
       "2            0.0430           73302                        0   \n",
       "3            0.0290           74493                        1   \n",
       "4            0.1200           72268                        0   \n",
       "..              ...             ...                      ...   \n",
       "83           0.6510           61946                        0   \n",
       "84           0.4640           54087                        0   \n",
       "85           0.6917           48827                        0   \n",
       "86           0.8303           63333                        1   \n",
       "87           0.6080           54784                        1   \n",
       "\n",
       "    Reputation Score   Alumni  Tuition_Fees_17&18  \\\n",
       "0                4.8  99000.0             53534.0   \n",
       "1                4.1  21000.0             51533.0   \n",
       "2                4.6  39000.0             42184.0   \n",
       "3                4.3      NaN             52853.0   \n",
       "4                4.6  52000.0             32451.5   \n",
       "..               ...      ...                 ...   \n",
       "83               3.6  48000.0             23155.0   \n",
       "84               NaN  34400.0             18146.5   \n",
       "85               3.2  32000.0             42166.0   \n",
       "86               NaN  25625.0             39820.0   \n",
       "87               NaN      NaN             36394.0   \n",
       "\n",
       "    Distance to Nearest City (Miles) Distance Far vs. Close  \n",
       "0                           1.560704                  Close  \n",
       "1                         235.684726                    Far  \n",
       "2                          11.315188                  Close  \n",
       "3                         178.500330                    Far  \n",
       "4                          35.657174                  Close  \n",
       "..                               ...                    ...  \n",
       "83                         36.649280                  Close  \n",
       "84                        335.203680                    Far  \n",
       "85                        232.209889                    Far  \n",
       "86                         53.214610                    Far  \n",
       "87                        257.681562                    Far  \n",
       "\n",
       "[88 rows x 11 columns]"
      ]
     },
     "execution_count": 2,
     "metadata": {},
     "output_type": "execute_result"
    }
   ],
   "source": [
    "#read the data\n",
    "data=pd.read_csv('universities_cleaned.csv')\n",
    "data"
   ]
  },
  {
   "cell_type": "markdown",
   "id": "1e970a9a",
   "metadata": {},
   "source": [
    "# Explore variable"
   ]
  },
  {
   "cell_type": "code",
   "execution_count": 3,
   "id": "e769fbe8",
   "metadata": {},
   "outputs": [
    {
     "data": {
      "text/plain": [
       "<AxesSubplot:xlabel='Alumni', ylabel='Count'>"
      ]
     },
     "execution_count": 3,
     "metadata": {},
     "output_type": "execute_result"
    },
    {
     "data": {
      "image/png": "[encoded data removed]",
      "text/plain": [
       "<Figure size 432x288 with 1 Axes>"
      ]
     },
     "metadata": {
      "needs_background": "light"
     },
     "output_type": "display_data"
    }
   ],
   "source": [
    "#distribution of alumni size\n",
    "sns.histplot(data.Alumni)"
   ]
  },
  {
   "cell_type": "markdown",
   "id": "c54a03db",
   "metadata": {},
   "source": [
    "- we have high outliers"
   ]
  },
  {
   "cell_type": "code",
   "execution_count": 4,
   "id": "a519d89d",
   "metadata": {},
   "outputs": [
    {
     "data": {
      "text/plain": [
       "21"
      ]
     },
     "execution_count": 4,
     "metadata": {},
     "output_type": "execute_result"
    }
   ],
   "source": [
    "#number of universities with no value\n",
    "data.Alumni.isna().sum()"
   ]
  },
  {
   "cell_type": "code",
   "execution_count": 5,
   "id": "abc2344b",
   "metadata": {},
   "outputs": [
    {
     "data": {
      "text/plain": [
       "<AxesSubplot:xlabel='Average Salary', ylabel='Alumni'>"
      ]
     },
     "execution_count": 5,
     "metadata": {},
     "output_type": "execute_result"
    },
    {
     "data": {
      "image/png": "[encoded data removed]",
      "text/plain": [
       "<Figure size 576x576 with 2 Axes>"
      ]
     },
     "metadata": {
      "needs_background": "light"
     },
     "output_type": "display_data"
    }
   ],
   "source": [
    "fig, ax= plt.subplots(2,1, figsize=(8,8))\n",
    "\n",
    "sns.scatterplot(x=data['Acceptance Rate'], y=data['Alumni'], ax=ax[0])\n",
    "sns.scatterplot(x=data['Average Salary'], y=data['Alumni'], ax=ax[1])"
   ]
  },
  {
   "cell_type": "markdown",
   "id": "5ab318ca",
   "metadata": {},
   "source": [
    "- doesn't seem to be a relationship between alumni size and acceptance rate or average salary"
   ]
  },
  {
   "cell_type": "markdown",
   "id": "af708251",
   "metadata": {},
   "source": [
    "# Cleaning data"
   ]
  },
  {
   "cell_type": "markdown",
   "id": "931df527",
   "metadata": {},
   "source": [
    "## Dropping outliers"
   ]
  },
  {
   "cell_type": "code",
   "execution_count": 6,
   "id": "21d26312",
   "metadata": {
    "scrolled": true
   },
   "outputs": [
    {
     "data": {
      "text/html": [
       "<div>\n",
       "<style scoped>\n",
       "    .dataframe tbody tr th:only-of-type {\n",
       "        vertical-align: middle;\n",
       "    }\n",
       "\n",
       "    .dataframe tbody tr th {\n",
       "        vertical-align: top;\n",
       "    }\n",
       "\n",
       "    .dataframe thead th {\n",
       "        text-align: right;\n",
       "    }\n",
       "</style>\n",
       "<table border=\"1\" class=\"dataframe\">\n",
       "  <thead>\n",
       "    <tr style=\"text-align: right;\">\n",
       "      <th></th>\n",
       "      <th>Unnamed: 0</th>\n",
       "      <th>School_x</th>\n",
       "      <th>business_school</th>\n",
       "      <th>Acceptance Rate</th>\n",
       "      <th>Average Salary</th>\n",
       "      <th>Public(0) or Private(1)</th>\n",
       "      <th>Reputation Score</th>\n",
       "      <th>Alumni</th>\n",
       "      <th>Tuition_Fees_17&amp;18</th>\n",
       "      <th>Distance to Nearest City (Miles)</th>\n",
       "      <th>Distance Far vs. Close</th>\n",
       "    </tr>\n",
       "  </thead>\n",
       "  <tbody>\n",
       "    <tr>\n",
       "      <th>77</th>\n",
       "      <td>77</td>\n",
       "      <td>University of Michigan-Dearborn</td>\n",
       "      <td>Michigan-Dearborn</td>\n",
       "      <td>0.6200</td>\n",
       "      <td>49507</td>\n",
       "      <td>0</td>\n",
       "      <td>NaN</td>\n",
       "      <td>575000.0</td>\n",
       "      <td>18754.0</td>\n",
       "      <td>9.594292</td>\n",
       "      <td>Close</td>\n",
       "    </tr>\n",
       "    <tr>\n",
       "      <th>39</th>\n",
       "      <td>39</td>\n",
       "      <td>University of Kentucky (Gatton)</td>\n",
       "      <td>Gatton</td>\n",
       "      <td>0.6979</td>\n",
       "      <td>49175</td>\n",
       "      <td>0</td>\n",
       "      <td>3.3</td>\n",
       "      <td>300000.0</td>\n",
       "      <td>19994.0</td>\n",
       "      <td>69.752142</td>\n",
       "      <td>Far</td>\n",
       "    </tr>\n",
       "    <tr>\n",
       "      <th>26</th>\n",
       "      <td>26</td>\n",
       "      <td>Fordham University (Gabelli)</td>\n",
       "      <td>Gabelli</td>\n",
       "      <td>0.4490</td>\n",
       "      <td>63777</td>\n",
       "      <td>1</td>\n",
       "      <td>3.3</td>\n",
       "      <td>180000.0</td>\n",
       "      <td>50601.0</td>\n",
       "      <td>12.157420</td>\n",
       "      <td>Close</td>\n",
       "    </tr>\n",
       "    <tr>\n",
       "      <th>43</th>\n",
       "      <td>43</td>\n",
       "      <td>Santa Clara University (Leavey)</td>\n",
       "      <td>Leavey</td>\n",
       "      <td>0.4350</td>\n",
       "      <td>59333</td>\n",
       "      <td>1</td>\n",
       "      <td>3.3</td>\n",
       "      <td>140000.0</td>\n",
       "      <td>49858.0</td>\n",
       "      <td>2.945132</td>\n",
       "      <td>Close</td>\n",
       "    </tr>\n",
       "    <tr>\n",
       "      <th>59</th>\n",
       "      <td>59</td>\n",
       "      <td>Villanova University</td>\n",
       "      <td>Villanova</td>\n",
       "      <td>0.2207</td>\n",
       "      <td>63709</td>\n",
       "      <td>1</td>\n",
       "      <td>3.4</td>\n",
       "      <td>130000.0</td>\n",
       "      <td>51284.0</td>\n",
       "      <td>11.107455</td>\n",
       "      <td>Close</td>\n",
       "    </tr>\n",
       "  </tbody>\n",
       "</table>\n",
       "</div>"
      ],
      "text/plain": [
       "    Unnamed: 0                         School_x    business_school  \\\n",
       "77          77  University of Michigan-Dearborn  Michigan-Dearborn   \n",
       "39          39  University of Kentucky (Gatton)             Gatton   \n",
       "26          26     Fordham University (Gabelli)            Gabelli   \n",
       "43          43  Santa Clara University (Leavey)             Leavey   \n",
       "59          59             Villanova University          Villanova   \n",
       "\n",
       "    Acceptance Rate  Average Salary  Public(0) or Private(1)  \\\n",
       "77           0.6200           49507                        0   \n",
       "39           0.6979           49175                        0   \n",
       "26           0.4490           63777                        1   \n",
       "43           0.4350           59333                        1   \n",
       "59           0.2207           63709                        1   \n",
       "\n",
       "    Reputation Score    Alumni  Tuition_Fees_17&18  \\\n",
       "77               NaN  575000.0             18754.0   \n",
       "39               3.3  300000.0             19994.0   \n",
       "26               3.3  180000.0             50601.0   \n",
       "43               3.3  140000.0             49858.0   \n",
       "59               3.4  130000.0             51284.0   \n",
       "\n",
       "    Distance to Nearest City (Miles) Distance Far vs. Close  \n",
       "77                          9.594292                  Close  \n",
       "39                         69.752142                    Far  \n",
       "26                         12.157420                  Close  \n",
       "43                          2.945132                  Close  \n",
       "59                         11.107455                  Close  "
      ]
     },
     "execution_count": 6,
     "metadata": {},
     "output_type": "execute_result"
    }
   ],
   "source": [
    "data.sort_values(by='Alumni', ascending=False).head()"
   ]
  },
  {
   "cell_type": "code",
   "execution_count": 7,
   "id": "c7d79784",
   "metadata": {},
   "outputs": [],
   "source": [
    "#drop outliers\n",
    "d=data.drop([77, 39])"
   ]
  },
  {
   "cell_type": "code",
   "execution_count": 8,
   "id": "1ad0ac01",
   "metadata": {},
   "outputs": [
    {
     "data": {
      "text/plain": [
       "<AxesSubplot:xlabel='Average Salary', ylabel='Alumni'>"
      ]
     },
     "execution_count": 8,
     "metadata": {},
     "output_type": "execute_result"
    },
    {
     "data": {
      "image/png": "[encoded data removed]",
      "text/plain": [
       "<Figure size 576x576 with 2 Axes>"
      ]
     },
     "metadata": {
      "needs_background": "light"
     },
     "output_type": "display_data"
    }
   ],
   "source": [
    "fig, ax= plt.subplots(2,1, figsize=(8,8))\n",
    "\n",
    "sns.scatterplot(x=d['Acceptance Rate'], y=d['Alumni'], hue=d['Public(0) or Private(1)'], ax=ax[0])\n",
    "sns.scatterplot(x=d['Average Salary'], y=d['Alumni'], hue=d['Public(0) or Private(1)'], ax=ax[1])"
   ]
  },
  {
   "cell_type": "markdown",
   "id": "dfe5f3d2",
   "metadata": {},
   "source": [
    "- doesn't seem to be a pattern between alumni size or type of school (public/private)"
   ]
  },
  {
   "cell_type": "markdown",
   "id": "d7e2b2e6",
   "metadata": {},
   "source": [
    "## Dealing with missing data"
   ]
  },
  {
   "cell_type": "markdown",
   "id": "55530695",
   "metadata": {},
   "source": [
    "### Fill in with zeros"
   ]
  },
  {
   "cell_type": "code",
   "execution_count": 9,
   "id": "84e2a56f",
   "metadata": {},
   "outputs": [
    {
     "data": {
      "text/html": [
       "<div>\n",
       "<style scoped>\n",
       "    .dataframe tbody tr th:only-of-type {\n",
       "        vertical-align: middle;\n",
       "    }\n",
       "\n",
       "    .dataframe tbody tr th {\n",
       "        vertical-align: top;\n",
       "    }\n",
       "\n",
       "    .dataframe thead th {\n",
       "        text-align: right;\n",
       "    }\n",
       "</style>\n",
       "<table border=\"1\" class=\"dataframe\">\n",
       "  <thead>\n",
       "    <tr style=\"text-align: right;\">\n",
       "      <th></th>\n",
       "      <th>Unnamed: 0</th>\n",
       "      <th>School_x</th>\n",
       "      <th>business_school</th>\n",
       "      <th>Acceptance Rate</th>\n",
       "      <th>Average Salary</th>\n",
       "      <th>Public(0) or Private(1)</th>\n",
       "      <th>Reputation Score</th>\n",
       "      <th>Alumni</th>\n",
       "      <th>Tuition_Fees_17&amp;18</th>\n",
       "      <th>Distance to Nearest City (Miles)</th>\n",
       "      <th>Distance Far vs. Close</th>\n",
       "    </tr>\n",
       "  </thead>\n",
       "  <tbody>\n",
       "    <tr>\n",
       "      <th>0</th>\n",
       "      <td>0</td>\n",
       "      <td>University of Pennsylvania (Wharton)</td>\n",
       "      <td>Wharton</td>\n",
       "      <td>0.0649</td>\n",
       "      <td>80354</td>\n",
       "      <td>1</td>\n",
       "      <td>4.8</td>\n",
       "      <td>99000.0</td>\n",
       "      <td>53534.0</td>\n",
       "      <td>1.560704</td>\n",
       "      <td>Close</td>\n",
       "    </tr>\n",
       "    <tr>\n",
       "      <th>1</th>\n",
       "      <td>1</td>\n",
       "      <td>Washington University in St. Louis (Olin)</td>\n",
       "      <td>Olin</td>\n",
       "      <td>0.0970</td>\n",
       "      <td>67115</td>\n",
       "      <td>1</td>\n",
       "      <td>4.1</td>\n",
       "      <td>21000.0</td>\n",
       "      <td>51533.0</td>\n",
       "      <td>235.684726</td>\n",
       "      <td>Far</td>\n",
       "    </tr>\n",
       "    <tr>\n",
       "      <th>2</th>\n",
       "      <td>2</td>\n",
       "      <td>University of California-Berkeley (Haas)</td>\n",
       "      <td>Haas</td>\n",
       "      <td>0.0430</td>\n",
       "      <td>73302</td>\n",
       "      <td>0</td>\n",
       "      <td>4.6</td>\n",
       "      <td>39000.0</td>\n",
       "      <td>42184.0</td>\n",
       "      <td>11.315188</td>\n",
       "      <td>Close</td>\n",
       "    </tr>\n",
       "    <tr>\n",
       "      <th>3</th>\n",
       "      <td>3</td>\n",
       "      <td>Cornell University (Dyson)</td>\n",
       "      <td>Dyson</td>\n",
       "      <td>0.0290</td>\n",
       "      <td>74493</td>\n",
       "      <td>1</td>\n",
       "      <td>4.3</td>\n",
       "      <td>0.0</td>\n",
       "      <td>52853.0</td>\n",
       "      <td>178.500330</td>\n",
       "      <td>Far</td>\n",
       "    </tr>\n",
       "    <tr>\n",
       "      <th>4</th>\n",
       "      <td>4</td>\n",
       "      <td>University of Michigan (Ross)</td>\n",
       "      <td>Ross</td>\n",
       "      <td>0.1200</td>\n",
       "      <td>72268</td>\n",
       "      <td>0</td>\n",
       "      <td>4.6</td>\n",
       "      <td>52000.0</td>\n",
       "      <td>32451.5</td>\n",
       "      <td>35.657174</td>\n",
       "      <td>Close</td>\n",
       "    </tr>\n",
       "  </tbody>\n",
       "</table>\n",
       "</div>"
      ],
      "text/plain": [
       "   Unnamed: 0                                   School_x business_school  \\\n",
       "0           0       University of Pennsylvania (Wharton)         Wharton   \n",
       "1           1  Washington University in St. Louis (Olin)            Olin   \n",
       "2           2   University of California-Berkeley (Haas)            Haas   \n",
       "3           3                 Cornell University (Dyson)           Dyson   \n",
       "4           4              University of Michigan (Ross)            Ross   \n",
       "\n",
       "   Acceptance Rate  Average Salary  Public(0) or Private(1)  Reputation Score  \\\n",
       "0           0.0649           80354                        1               4.8   \n",
       "1           0.0970           67115                        1               4.1   \n",
       "2           0.0430           73302                        0               4.6   \n",
       "3           0.0290           74493                        1               4.3   \n",
       "4           0.1200           72268                        0               4.6   \n",
       "\n",
       "    Alumni  Tuition_Fees_17&18  Distance to Nearest City (Miles)  \\\n",
       "0  99000.0             53534.0                          1.560704   \n",
       "1  21000.0             51533.0                        235.684726   \n",
       "2  39000.0             42184.0                         11.315188   \n",
       "3      0.0             52853.0                        178.500330   \n",
       "4  52000.0             32451.5                         35.657174   \n",
       "\n",
       "  Distance Far vs. Close  \n",
       "0                  Close  \n",
       "1                    Far  \n",
       "2                  Close  \n",
       "3                    Far  \n",
       "4                  Close  "
      ]
     },
     "execution_count": 9,
     "metadata": {},
     "output_type": "execute_result"
    }
   ],
   "source": [
    "#replace empty results for Alumni with zero\n",
    "d['Alumni']=d['Alumni'].fillna(0)\n",
    "d.head()"
   ]
  },
  {
   "cell_type": "code",
   "execution_count": 10,
   "id": "b93b0808",
   "metadata": {},
   "outputs": [
    {
     "data": {
      "image/png": "[encoded data removed]",
      "text/plain": [
       "<Figure size 576x576 with 2 Axes>"
      ]
     },
     "metadata": {
      "needs_background": "light"
     },
     "output_type": "display_data"
    }
   ],
   "source": [
    "fig, ax= plt.subplots(2,1, figsize=(8,8))\n",
    "\n",
    "# get coeffs of linear fit\n",
    "slope1, intercept1, r_value1, p_value1, std_err1 = stats.linregress(d['Acceptance Rate'],d['Alumni'])\n",
    "slope2, intercept2, r_value2, p_value2, std_err2 = stats.linregress(d['Average Salary'],d['Alumni'])\n",
    "\n",
    "\n",
    "# use line_kws to set line label for legend\n",
    "ax1 = sns.regplot(x=\"Acceptance Rate\", y=\"Alumni\", data=d, color='b', \n",
    " line_kws={'label':\"y={0:.1f}x+{1:.1f}\".format(slope1,intercept1)}, ax=ax[0])\n",
    "\n",
    "ax2 = sns.regplot(x=\"Average Salary\", y=\"Alumni\", data=d, color='b', \n",
    " line_kws={'label':\"y={0:.1f}x+{1:.1f}\".format(slope2,intercept2)}, ax=ax[1])\n",
    "\n",
    "# plot legend\n",
    "ax1.legend()\n",
    "ax2.legend()\n",
    "\n",
    "plt.show()"
   ]
  },
  {
   "cell_type": "markdown",
   "id": "121116ab",
   "metadata": {},
   "source": [
    "### Drop universities with no alumni size value"
   ]
  },
  {
   "cell_type": "code",
   "execution_count": 11,
   "id": "5975c383",
   "metadata": {},
   "outputs": [
    {
     "data": {
      "text/html": [
       "<div>\n",
       "<style scoped>\n",
       "    .dataframe tbody tr th:only-of-type {\n",
       "        vertical-align: middle;\n",
       "    }\n",
       "\n",
       "    .dataframe tbody tr th {\n",
       "        vertical-align: top;\n",
       "    }\n",
       "\n",
       "    .dataframe thead th {\n",
       "        text-align: right;\n",
       "    }\n",
       "</style>\n",
       "<table border=\"1\" class=\"dataframe\">\n",
       "  <thead>\n",
       "    <tr style=\"text-align: right;\">\n",
       "      <th></th>\n",
       "      <th>Unnamed: 0</th>\n",
       "      <th>School_x</th>\n",
       "      <th>business_school</th>\n",
       "      <th>Acceptance Rate</th>\n",
       "      <th>Average Salary</th>\n",
       "      <th>Public(0) or Private(1)</th>\n",
       "      <th>Reputation Score</th>\n",
       "      <th>Alumni</th>\n",
       "      <th>Tuition_Fees_17&amp;18</th>\n",
       "      <th>Distance to Nearest City (Miles)</th>\n",
       "      <th>Distance Far vs. Close</th>\n",
       "    </tr>\n",
       "  </thead>\n",
       "  <tbody>\n",
       "    <tr>\n",
       "      <th>0</th>\n",
       "      <td>0</td>\n",
       "      <td>University of Pennsylvania (Wharton)</td>\n",
       "      <td>Wharton</td>\n",
       "      <td>0.0649</td>\n",
       "      <td>80354</td>\n",
       "      <td>1</td>\n",
       "      <td>4.8</td>\n",
       "      <td>99000.0</td>\n",
       "      <td>53534.0</td>\n",
       "      <td>1.560704</td>\n",
       "      <td>Close</td>\n",
       "    </tr>\n",
       "    <tr>\n",
       "      <th>1</th>\n",
       "      <td>1</td>\n",
       "      <td>Washington University in St. Louis (Olin)</td>\n",
       "      <td>Olin</td>\n",
       "      <td>0.0970</td>\n",
       "      <td>67115</td>\n",
       "      <td>1</td>\n",
       "      <td>4.1</td>\n",
       "      <td>21000.0</td>\n",
       "      <td>51533.0</td>\n",
       "      <td>235.684726</td>\n",
       "      <td>Far</td>\n",
       "    </tr>\n",
       "    <tr>\n",
       "      <th>2</th>\n",
       "      <td>2</td>\n",
       "      <td>University of California-Berkeley (Haas)</td>\n",
       "      <td>Haas</td>\n",
       "      <td>0.0430</td>\n",
       "      <td>73302</td>\n",
       "      <td>0</td>\n",
       "      <td>4.6</td>\n",
       "      <td>39000.0</td>\n",
       "      <td>42184.0</td>\n",
       "      <td>11.315188</td>\n",
       "      <td>Close</td>\n",
       "    </tr>\n",
       "    <tr>\n",
       "      <th>4</th>\n",
       "      <td>4</td>\n",
       "      <td>University of Michigan (Ross)</td>\n",
       "      <td>Ross</td>\n",
       "      <td>0.1200</td>\n",
       "      <td>72268</td>\n",
       "      <td>0</td>\n",
       "      <td>4.6</td>\n",
       "      <td>52000.0</td>\n",
       "      <td>32451.5</td>\n",
       "      <td>35.657174</td>\n",
       "      <td>Close</td>\n",
       "    </tr>\n",
       "    <tr>\n",
       "      <th>5</th>\n",
       "      <td>5</td>\n",
       "      <td>New York University (Stern)</td>\n",
       "      <td>Stern</td>\n",
       "      <td>0.0800</td>\n",
       "      <td>80546</td>\n",
       "      <td>1</td>\n",
       "      <td>4.4</td>\n",
       "      <td>48000.0</td>\n",
       "      <td>50464.0</td>\n",
       "      <td>1.326962</td>\n",
       "      <td>Close</td>\n",
       "    </tr>\n",
       "  </tbody>\n",
       "</table>\n",
       "</div>"
      ],
      "text/plain": [
       "   Unnamed: 0                                   School_x business_school  \\\n",
       "0           0       University of Pennsylvania (Wharton)         Wharton   \n",
       "1           1  Washington University in St. Louis (Olin)            Olin   \n",
       "2           2   University of California-Berkeley (Haas)            Haas   \n",
       "4           4              University of Michigan (Ross)            Ross   \n",
       "5           5                New York University (Stern)           Stern   \n",
       "\n",
       "   Acceptance Rate  Average Salary  Public(0) or Private(1)  Reputation Score  \\\n",
       "0           0.0649           80354                        1               4.8   \n",
       "1           0.0970           67115                        1               4.1   \n",
       "2           0.0430           73302                        0               4.6   \n",
       "4           0.1200           72268                        0               4.6   \n",
       "5           0.0800           80546                        1               4.4   \n",
       "\n",
       "    Alumni  Tuition_Fees_17&18  Distance to Nearest City (Miles)  \\\n",
       "0  99000.0             53534.0                          1.560704   \n",
       "1  21000.0             51533.0                        235.684726   \n",
       "2  39000.0             42184.0                         11.315188   \n",
       "4  52000.0             32451.5                         35.657174   \n",
       "5  48000.0             50464.0                          1.326962   \n",
       "\n",
       "  Distance Far vs. Close  \n",
       "0                  Close  \n",
       "1                    Far  \n",
       "2                  Close  \n",
       "4                  Close  \n",
       "5                  Close  "
      ]
     },
     "execution_count": 11,
     "metadata": {},
     "output_type": "execute_result"
    }
   ],
   "source": [
    "#drop universities with empty alumni size\n",
    "data = pd.read_csv('universities_cleaned.csv')\n",
    "dd = data.drop([77, 39])\n",
    "dd = dd[dd['Alumni'].notna()]\n",
    "dd.head()"
   ]
  },
  {
   "cell_type": "code",
   "execution_count": 12,
   "id": "28ffb146",
   "metadata": {},
   "outputs": [
    {
     "data": {
      "image/png": "[encoded data removed]",
      "text/plain": [
       "<Figure size 576x576 with 2 Axes>"
      ]
     },
     "metadata": {
      "needs_background": "light"
     },
     "output_type": "display_data"
    }
   ],
   "source": [
    "fig, ax= plt.subplots(2,1, figsize=(8,8))\n",
    "\n",
    "# get coeffs of linear fit\n",
    "slope1, intercept1, r_value1, p_value1, std_err1 = stats.linregress(dd['Acceptance Rate'],dd['Alumni'])\n",
    "slope2, intercept2, r_value2, p_value2, std_err2 = stats.linregress(dd['Average Salary'],dd['Alumni'])\n",
    "\n",
    "\n",
    "# use line_kws to set line label for legend\n",
    "ax1 = sns.regplot(x=\"Acceptance Rate\", y=\"Alumni\", data=dd, color='b', \n",
    " line_kws={'label':\"y={0:.1f}x+{1:.1f}\".format(slope1,intercept1)}, ax=ax[0])\n",
    "\n",
    "ax2 = sns.regplot(x=\"Average Salary\", y=\"Alumni\", data=dd, color='b', \n",
    " line_kws={'label':\"y={0:.1f}x+{1:.1f}\".format(slope2,intercept2)}, ax=ax[1])\n",
    "\n",
    "# plot legend\n",
    "ax1.legend()\n",
    "ax2.legend()\n",
    "\n",
    "plt.show()"
   ]
  },
  {
   "cell_type": "code",
   "execution_count": 20,
   "id": "86bc5542",
   "metadata": {},
   "outputs": [
    {
     "data": {
      "image/png": "[encoded data removed]",
      "text/plain": [
       "<Figure size 576x576 with 2 Axes>"
      ]
     },
     "metadata": {
      "needs_background": "light"
     },
     "output_type": "display_data"
    }
   ],
   "source": [
    "fig, ax= plt.subplots(2,1, figsize=(8,8))\n",
    "\n",
    "# get coeffs of linear fit\n",
    "slope1, intercept1, r_value1, p_value1, std_err1 = stats.linregress(dd['Acceptance'],dd['Alumni'])\n",
    "slope2, intercept2, r_value2, p_value2, std_err2 = stats.linregress(dd['ln_Salary'],dd['Alumni'])\n",
    "\n",
    "\n",
    "# use line_kws to set line label for legend\n",
    "ax1 = sns.regplot(x=\"Acceptance\", y=\"Alumni\", data=dd, color='b', \n",
    " line_kws={'label':\"y={0:.1f}x+{1:.1f}\".format(slope1,intercept1)}, ax=ax[0])\n",
    "\n",
    "ax2 = sns.regplot(x=\"ln_Salary\", y=\"Alumni\", data=dd, color='b', \n",
    " line_kws={'label':\"y={0:.1f}x+{1:.1f}\".format(slope2,intercept2)}, ax=ax[1])\n",
    "\n",
    "# plot legend\n",
    "ax1.legend()\n",
    "ax2.legend()\n",
    "\n",
    "plt.show()"
   ]
  },
  {
   "cell_type": "markdown",
   "id": "35a0b87b",
   "metadata": {},
   "source": [
    "# Regression"
   ]
  },
  {
   "cell_type": "code",
   "execution_count": 18,
   "id": "98143fe8",
   "metadata": {},
   "outputs": [],
   "source": [
    "data=data.rename(columns={\n",
    "    'Average Salary':'Salary','Acceptance Rate':'Acceptance',  'Public(0) or Private(1)':'Private',\n",
    "    'Reputation Score':'Reputation','Tuition_Fees_17&18':'Tuition','Distance to Nearest City (Miles)':'Distance'})\n",
    "d=d.rename(columns={\n",
    "    'Average Salary':'Salary','Acceptance Rate':'Acceptance',  'Public(0) or Private(1)':'Private',\n",
    "    'Reputation Score':'Reputation','Tuition_Fees_17&18':'Tuition','Distance to Nearest City (Miles)':'Distance'})\n",
    "dd=dd.rename(columns={\n",
    "    'Average Salary':'Salary','Acceptance Rate':'Acceptance',  'Public(0) or Private(1)':'Private',\n",
    "    'Reputation Score':'Reputation','Tuition_Fees_17&18':'Tuition','Distance to Nearest City (Miles)':'Distance'})"
   ]
  },
  {
   "cell_type": "code",
   "execution_count": 30,
   "id": "0bd52908",
   "metadata": {},
   "outputs": [],
   "source": [
    "data[\"ln_Salary\"] = np.log(data[\"Salary\"])\n",
    "d[\"ln_Salary\"] = np.log(d[\"Salary\"])\n",
    "dd[\"ln_Salary\"] = np.log(dd[\"Salary\"])\n",
    "\n",
    "data[\"ln_Alumni\"] = np.log(data[\"Alumni\"])\n",
    "d[\"ln_Alumni\"] = np.log(d[\"Alumni\"]+1)\n",
    "dd[\"ln_Alumni\"] = np.log(dd[\"Alumni\"])"
   ]
  },
  {
   "cell_type": "markdown",
   "id": "a411b741",
   "metadata": {},
   "source": [
    "## Relationship between average log salary and acceptance rate"
   ]
  },
  {
   "cell_type": "code",
   "execution_count": 21,
   "id": "2e156594",
   "metadata": {},
   "outputs": [
    {
     "name": "stdout",
     "output_type": "stream",
     "text": [
      "                            OLS Regression Results                            \n",
      "==============================================================================\n",
      "Dep. Variable:              ln_Salary   R-squared:                       0.504\n",
      "Model:                            OLS   Adj. R-squared:                  0.498\n",
      "Method:                 Least Squares   F-statistic:                     87.33\n",
      "Date:                Tue, 30 Nov 2021   Prob (F-statistic):           9.76e-15\n",
      "Time:                        14:27:03   Log-Likelihood:                 75.489\n",
      "No. Observations:                  88   AIC:                            -147.0\n",
      "Df Residuals:                      86   BIC:                            -142.0\n",
      "Df Model:                           1                                         \n",
      "Covariance Type:            nonrobust                                         \n",
      "==============================================================================\n",
      "                 coef    std err          t      P>|t|      [0.025      0.975]\n",
      "------------------------------------------------------------------------------\n",
      "Intercept     11.1727      0.024    464.995      0.000      11.125      11.220\n",
      "Acceptance    -0.4561      0.049     -9.345      0.000      -0.553      -0.359\n",
      "==============================================================================\n",
      "Omnibus:                       34.875   Durbin-Watson:                   1.587\n",
      "Prob(Omnibus):                  0.000   Jarque-Bera (JB):              110.212\n",
      "Skew:                          -1.254   Prob(JB):                     1.17e-24\n",
      "Kurtosis:                       7.875   Cond. No.                         5.29\n",
      "==============================================================================\n",
      "\n",
      "Notes:\n",
      "[1] Standard Errors assume that the covariance matrix of the errors is correctly specified.\n"
     ]
    }
   ],
   "source": [
    "result = sm.ols(formula=\"ln_Salary ~ Acceptance\", \n",
    "                data=data).fit()\n",
    "print(result.summary())"
   ]
  },
  {
   "cell_type": "markdown",
   "id": "e2ca2858",
   "metadata": {},
   "source": [
    "## Relationship between log average salary and alumni size "
   ]
  },
  {
   "cell_type": "code",
   "execution_count": 22,
   "id": "75273b9f",
   "metadata": {},
   "outputs": [
    {
     "name": "stdout",
     "output_type": "stream",
     "text": [
      "                            OLS Regression Results                            \n",
      "==============================================================================\n",
      "Dep. Variable:              ln_Salary   R-squared:                       0.016\n",
      "Model:                            OLS   Adj. R-squared:                  0.001\n",
      "Method:                 Least Squares   F-statistic:                     1.085\n",
      "Date:                Tue, 30 Nov 2021   Prob (F-statistic):              0.301\n",
      "Time:                        14:27:05   Log-Likelihood:                 40.378\n",
      "No. Observations:                  67   AIC:                            -76.76\n",
      "Df Residuals:                      65   BIC:                            -72.35\n",
      "Df Model:                           1                                         \n",
      "Covariance Type:            nonrobust                                         \n",
      "==============================================================================\n",
      "                 coef    std err          t      P>|t|      [0.025      0.975]\n",
      "------------------------------------------------------------------------------\n",
      "Intercept     11.0101      0.022    495.195      0.000      10.966      11.055\n",
      "Alumni     -2.239e-07   2.15e-07     -1.042      0.301   -6.53e-07    2.05e-07\n",
      "==============================================================================\n",
      "Omnibus:                        0.189   Durbin-Watson:                   0.582\n",
      "Prob(Omnibus):                  0.910   Jarque-Bera (JB):                0.017\n",
      "Skew:                           0.038   Prob(JB):                        0.992\n",
      "Kurtosis:                       3.020   Cond. No.                     1.40e+05\n",
      "==============================================================================\n",
      "\n",
      "Notes:\n",
      "[1] Standard Errors assume that the covariance matrix of the errors is correctly specified.\n",
      "[2] The condition number is large, 1.4e+05. This might indicate that there are\n",
      "strong multicollinearity or other numerical problems.\n"
     ]
    }
   ],
   "source": [
    "result = sm.ols(formula=\"ln_Salary ~  Alumni\", \n",
    "                data=data).fit()\n",
    "print(result.summary())"
   ]
  },
  {
   "cell_type": "code",
   "execution_count": 23,
   "id": "b3d6a2d5",
   "metadata": {},
   "outputs": [
    {
     "name": "stdout",
     "output_type": "stream",
     "text": [
      "                            OLS Regression Results                            \n",
      "==============================================================================\n",
      "Dep. Variable:              ln_Salary   R-squared:                       0.086\n",
      "Model:                            OLS   Adj. R-squared:                  0.075\n",
      "Method:                 Least Squares   F-statistic:                     7.886\n",
      "Date:                Tue, 30 Nov 2021   Prob (F-statistic):            0.00619\n",
      "Time:                        14:27:06   Log-Likelihood:                 47.840\n",
      "No. Observations:                  86   AIC:                            -91.68\n",
      "Df Residuals:                      84   BIC:                            -86.77\n",
      "Df Model:                           1                                         \n",
      "Covariance Type:            nonrobust                                         \n",
      "==============================================================================\n",
      "                 coef    std err          t      P>|t|      [0.025      0.975]\n",
      "------------------------------------------------------------------------------\n",
      "Intercept     10.9288      0.023    476.090      0.000      10.883      10.974\n",
      "Alumni      1.098e-06   3.91e-07      2.808      0.006     3.2e-07    1.88e-06\n",
      "==============================================================================\n",
      "Omnibus:                        3.506   Durbin-Watson:                   0.808\n",
      "Prob(Omnibus):                  0.173   Jarque-Bera (JB):                3.237\n",
      "Skew:                          -0.212   Prob(JB):                        0.198\n",
      "Kurtosis:                       3.851   Cond. No.                     8.90e+04\n",
      "==============================================================================\n",
      "\n",
      "Notes:\n",
      "[1] Standard Errors assume that the covariance matrix of the errors is correctly specified.\n",
      "[2] The condition number is large, 8.9e+04. This might indicate that there are\n",
      "strong multicollinearity or other numerical problems.\n"
     ]
    }
   ],
   "source": [
    "#(empty alumni size replaced with zero)\n",
    "result = sm.ols(formula=\"ln_Salary ~  Alumni\", \n",
    "                data=d).fit()\n",
    "print(result.summary())"
   ]
  },
  {
   "cell_type": "code",
   "execution_count": 24,
   "id": "e471f608",
   "metadata": {},
   "outputs": [
    {
     "name": "stdout",
     "output_type": "stream",
     "text": [
      "                            OLS Regression Results                            \n",
      "==============================================================================\n",
      "Dep. Variable:              ln_Salary   R-squared:                       0.035\n",
      "Model:                            OLS   Adj. R-squared:                  0.019\n",
      "Method:                 Least Squares   F-statistic:                     2.271\n",
      "Date:                Tue, 30 Nov 2021   Prob (F-statistic):              0.137\n",
      "Time:                        14:27:07   Log-Likelihood:                 40.847\n",
      "No. Observations:                  65   AIC:                            -77.69\n",
      "Df Residuals:                      63   BIC:                            -73.34\n",
      "Df Model:                           1                                         \n",
      "Covariance Type:            nonrobust                                         \n",
      "==============================================================================\n",
      "                 coef    std err          t      P>|t|      [0.025      0.975]\n",
      "------------------------------------------------------------------------------\n",
      "Intercept     10.9581      0.032    338.412      0.000      10.893      11.023\n",
      "Alumni      7.226e-07    4.8e-07      1.507      0.137   -2.36e-07    1.68e-06\n",
      "==============================================================================\n",
      "Omnibus:                        0.391   Durbin-Watson:                   0.549\n",
      "Prob(Omnibus):                  0.823   Jarque-Bera (JB):                0.125\n",
      "Skew:                           0.101   Prob(JB):                        0.939\n",
      "Kurtosis:                       3.071   Cond. No.                     1.34e+05\n",
      "==============================================================================\n",
      "\n",
      "Notes:\n",
      "[1] Standard Errors assume that the covariance matrix of the errors is correctly specified.\n",
      "[2] The condition number is large, 1.34e+05. This might indicate that there are\n",
      "strong multicollinearity or other numerical problems.\n"
     ]
    }
   ],
   "source": [
    "#(universities with empty alumni size dropped)\n",
    "result = sm.ols(formula=\"ln_Salary ~  Alumni\", \n",
    "                data=dd).fit()\n",
    "print(result.summary())"
   ]
  },
  {
   "cell_type": "code",
   "execution_count": 25,
   "id": "a5af0f89",
   "metadata": {},
   "outputs": [
    {
     "data": {
      "text/plain": [
       "Intercept    1.095813e+01\n",
       "Alumni       7.225503e-07\n",
       "dtype: float64"
      ]
     },
     "execution_count": 25,
     "metadata": {},
     "output_type": "execute_result"
    }
   ],
   "source": [
    "result.params"
   ]
  },
  {
   "cell_type": "code",
   "execution_count": 26,
   "id": "ae75db59",
   "metadata": {},
   "outputs": [
    {
     "data": {
      "text/plain": [
       "57419.07330002995"
      ]
     },
     "execution_count": 26,
     "metadata": {},
     "output_type": "execute_result"
    }
   ],
   "source": [
    "np.exp(result.params[0])"
   ]
  },
  {
   "cell_type": "markdown",
   "id": "b0637e39",
   "metadata": {},
   "source": [
    "## Relationship between log average salary and log alumni size \n"
   ]
  },
  {
   "cell_type": "code",
   "execution_count": 27,
   "id": "59d100cb",
   "metadata": {},
   "outputs": [
    {
     "name": "stdout",
     "output_type": "stream",
     "text": [
      "                            OLS Regression Results                            \n",
      "==============================================================================\n",
      "Dep. Variable:              ln_Salary   R-squared:                       0.000\n",
      "Model:                            OLS   Adj. R-squared:                 -0.015\n",
      "Method:                 Least Squares   F-statistic:                 1.138e-07\n",
      "Date:                Tue, 30 Nov 2021   Prob (F-statistic):               1.00\n",
      "Time:                        14:27:59   Log-Likelihood:                 39.823\n",
      "No. Observations:                  67   AIC:                            -75.65\n",
      "Df Residuals:                      65   BIC:                            -71.24\n",
      "Df Model:                           1                                         \n",
      "Covariance Type:            nonrobust                                         \n",
      "==============================================================================\n",
      "                 coef    std err          t      P>|t|      [0.025      0.975]\n",
      "------------------------------------------------------------------------------\n",
      "Intercept     10.9944      0.282     38.925      0.000      10.430      11.559\n",
      "ln_Alumni   8.734e-06      0.026      0.000      1.000      -0.052       0.052\n",
      "==============================================================================\n",
      "Omnibus:                        0.068   Durbin-Watson:                   0.547\n",
      "Prob(Omnibus):                  0.966   Jarque-Bera (JB):                0.043\n",
      "Skew:                           0.044   Prob(JB):                        0.979\n",
      "Kurtosis:                       2.912   Cond. No.                         188.\n",
      "==============================================================================\n",
      "\n",
      "Notes:\n",
      "[1] Standard Errors assume that the covariance matrix of the errors is correctly specified.\n"
     ]
    }
   ],
   "source": [
    "result = sm.ols(formula=\"ln_Salary ~  ln_Alumni\", \n",
    "                data=data).fit()\n",
    "print(result.summary())"
   ]
  },
  {
   "cell_type": "code",
   "execution_count": 31,
   "id": "ffa34352",
   "metadata": {},
   "outputs": [
    {
     "name": "stdout",
     "output_type": "stream",
     "text": [
      "                            OLS Regression Results                            \n",
      "==============================================================================\n",
      "Dep. Variable:              ln_Salary   R-squared:                       0.085\n",
      "Model:                            OLS   Adj. R-squared:                  0.074\n",
      "Method:                 Least Squares   F-statistic:                     7.812\n",
      "Date:                Tue, 30 Nov 2021   Prob (F-statistic):            0.00643\n",
      "Time:                        14:29:08   Log-Likelihood:                 47.805\n",
      "No. Observations:                  86   AIC:                            -91.61\n",
      "Df Residuals:                      84   BIC:                            -86.70\n",
      "Df Model:                           1                                         \n",
      "Covariance Type:            nonrobust                                         \n",
      "==============================================================================\n",
      "                 coef    std err          t      P>|t|      [0.025      0.975]\n",
      "------------------------------------------------------------------------------\n",
      "Intercept     10.9032      0.031    357.134      0.000      10.842      10.964\n",
      "ln_Alumni      0.0091      0.003      2.795      0.006       0.003       0.015\n",
      "==============================================================================\n",
      "Omnibus:                        2.796   Durbin-Watson:                   0.870\n",
      "Prob(Omnibus):                  0.247   Jarque-Bera (JB):                2.213\n",
      "Skew:                          -0.224   Prob(JB):                        0.331\n",
      "Kurtosis:                       3.646   Cond. No.                         19.2\n",
      "==============================================================================\n",
      "\n",
      "Notes:\n",
      "[1] Standard Errors assume that the covariance matrix of the errors is correctly specified.\n"
     ]
    }
   ],
   "source": [
    "#(empty alumni size replaced with zero)\n",
    "#alumni size was increased by 1 before taking the log\n",
    "result = sm.ols(formula=\"ln_Salary ~  ln_Alumni\", \n",
    "                data=d).fit()\n",
    "print(result.summary())"
   ]
  },
  {
   "cell_type": "code",
   "execution_count": 32,
   "id": "12e68e9f",
   "metadata": {},
   "outputs": [
    {
     "name": "stdout",
     "output_type": "stream",
     "text": [
      "                            OLS Regression Results                            \n",
      "==============================================================================\n",
      "Dep. Variable:              ln_Salary   R-squared:                       0.030\n",
      "Model:                            OLS   Adj. R-squared:                  0.015\n",
      "Method:                 Least Squares   F-statistic:                     1.950\n",
      "Date:                Tue, 30 Nov 2021   Prob (F-statistic):              0.167\n",
      "Time:                        14:29:11   Log-Likelihood:                 40.687\n",
      "No. Observations:                  65   AIC:                            -77.37\n",
      "Df Residuals:                      63   BIC:                            -73.03\n",
      "Df Model:                           1                                         \n",
      "Covariance Type:            nonrobust                                         \n",
      "==============================================================================\n",
      "                 coef    std err          t      P>|t|      [0.025      0.975]\n",
      "------------------------------------------------------------------------------\n",
      "Intercept     10.5393      0.331     31.884      0.000       9.879      11.200\n",
      "ln_Alumni      0.0426      0.030      1.397      0.167      -0.018       0.104\n",
      "==============================================================================\n",
      "Omnibus:                        0.350   Durbin-Watson:                   0.529\n",
      "Prob(Omnibus):                  0.839   Jarque-Bera (JB):                0.123\n",
      "Skew:                           0.105   Prob(JB):                        0.940\n",
      "Kurtosis:                       3.042   Cond. No.                         222.\n",
      "==============================================================================\n",
      "\n",
      "Notes:\n",
      "[1] Standard Errors assume that the covariance matrix of the errors is correctly specified.\n"
     ]
    }
   ],
   "source": [
    "#(universities with empty alumni size dropped)\n",
    "result = sm.ols(formula=\"ln_Salary ~  ln_Alumni\", \n",
    "                data=dd).fit()\n",
    "print(result.summary())"
   ]
  },
  {
   "cell_type": "markdown",
   "id": "419b65d0",
   "metadata": {},
   "source": [
    "## Relationship between acceptance rate and alumni size "
   ]
  },
  {
   "cell_type": "code",
   "execution_count": 33,
   "id": "56b5f161",
   "metadata": {},
   "outputs": [
    {
     "name": "stdout",
     "output_type": "stream",
     "text": [
      "                            OLS Regression Results                            \n",
      "==============================================================================\n",
      "Dep. Variable:             Acceptance   R-squared:                       0.005\n",
      "Model:                            OLS   Adj. R-squared:                 -0.011\n",
      "Method:                 Least Squares   F-statistic:                    0.2985\n",
      "Date:                Tue, 30 Nov 2021   Prob (F-statistic):              0.587\n",
      "Time:                        14:29:56   Log-Likelihood:                 5.9073\n",
      "No. Observations:                  67   AIC:                            -7.815\n",
      "Df Residuals:                      65   BIC:                            -3.405\n",
      "Df Model:                           1                                         \n",
      "Covariance Type:            nonrobust                                         \n",
      "==============================================================================\n",
      "                 coef    std err          t      P>|t|      [0.025      0.975]\n",
      "------------------------------------------------------------------------------\n",
      "Intercept      0.4029      0.037     10.832      0.000       0.329       0.477\n",
      "Alumni      1.964e-07    3.6e-07      0.546      0.587   -5.22e-07    9.14e-07\n",
      "==============================================================================\n",
      "Omnibus:                       13.607   Durbin-Watson:                   0.503\n",
      "Prob(Omnibus):                  0.001   Jarque-Bera (JB):                3.998\n",
      "Skew:                           0.215   Prob(JB):                        0.135\n",
      "Kurtosis:                       1.884   Cond. No.                     1.40e+05\n",
      "==============================================================================\n",
      "\n",
      "Notes:\n",
      "[1] Standard Errors assume that the covariance matrix of the errors is correctly specified.\n",
      "[2] The condition number is large, 1.4e+05. This might indicate that there are\n",
      "strong multicollinearity or other numerical problems.\n"
     ]
    }
   ],
   "source": [
    "result = sm.ols(formula=\"Acceptance ~  Alumni\", \n",
    "                data=data).fit()\n",
    "print(result.summary())"
   ]
  },
  {
   "cell_type": "code",
   "execution_count": 34,
   "id": "67d20dc9",
   "metadata": {},
   "outputs": [
    {
     "name": "stdout",
     "output_type": "stream",
     "text": [
      "                            OLS Regression Results                            \n",
      "==============================================================================\n",
      "Dep. Variable:             Acceptance   R-squared:                       0.058\n",
      "Model:                            OLS   Adj. R-squared:                  0.047\n",
      "Method:                 Least Squares   F-statistic:                     5.214\n",
      "Date:                Tue, 30 Nov 2021   Prob (F-statistic):             0.0249\n",
      "Time:                        14:29:58   Log-Likelihood:                 8.2009\n",
      "No. Observations:                  86   AIC:                            -12.40\n",
      "Df Residuals:                      84   BIC:                            -7.493\n",
      "Df Model:                           1                                         \n",
      "Covariance Type:            nonrobust                                         \n",
      "==============================================================================\n",
      "                 coef    std err          t      P>|t|      [0.025      0.975]\n",
      "------------------------------------------------------------------------------\n",
      "Intercept      0.4943      0.036     13.581      0.000       0.422       0.567\n",
      "Alumni     -1.416e-06    6.2e-07     -2.283      0.025   -2.65e-06   -1.83e-07\n",
      "==============================================================================\n",
      "Omnibus:                       10.171   Durbin-Watson:                   0.553\n",
      "Prob(Omnibus):                  0.006   Jarque-Bera (JB):                3.408\n",
      "Skew:                          -0.033   Prob(JB):                        0.182\n",
      "Kurtosis:                       2.027   Cond. No.                     8.90e+04\n",
      "==============================================================================\n",
      "\n",
      "Notes:\n",
      "[1] Standard Errors assume that the covariance matrix of the errors is correctly specified.\n",
      "[2] The condition number is large, 8.9e+04. This might indicate that there are\n",
      "strong multicollinearity or other numerical problems.\n"
     ]
    }
   ],
   "source": [
    "#(empty alumni size replaced with zero)\n",
    "result = sm.ols(formula=\"Acceptance ~  Alumni\", \n",
    "                data=d).fit()\n",
    "print(result.summary())"
   ]
  },
  {
   "cell_type": "code",
   "execution_count": 35,
   "id": "481a8837",
   "metadata": {},
   "outputs": [
    {
     "name": "stdout",
     "output_type": "stream",
     "text": [
      "                            OLS Regression Results                            \n",
      "==============================================================================\n",
      "Dep. Variable:             Acceptance   R-squared:                       0.039\n",
      "Model:                            OLS   Adj. R-squared:                  0.024\n",
      "Method:                 Least Squares   F-statistic:                     2.551\n",
      "Date:                Tue, 30 Nov 2021   Prob (F-statistic):              0.115\n",
      "Time:                        14:29:59   Log-Likelihood:                 7.1323\n",
      "No. Observations:                  65   AIC:                            -10.26\n",
      "Df Residuals:                      63   BIC:                            -5.916\n",
      "Df Model:                           1                                         \n",
      "Covariance Type:            nonrobust                                         \n",
      "==============================================================================\n",
      "                 coef    std err          t      P>|t|      [0.025      0.975]\n",
      "------------------------------------------------------------------------------\n",
      "Intercept      0.4842      0.054      8.902      0.000       0.376       0.593\n",
      "Alumni     -1.287e-06   8.05e-07     -1.597      0.115    -2.9e-06    3.23e-07\n",
      "==============================================================================\n",
      "Omnibus:                       10.917   Durbin-Watson:                   0.548\n",
      "Prob(Omnibus):                  0.004   Jarque-Bera (JB):                3.231\n",
      "Skew:                           0.071   Prob(JB):                        0.199\n",
      "Kurtosis:                       1.917   Cond. No.                     1.34e+05\n",
      "==============================================================================\n",
      "\n",
      "Notes:\n",
      "[1] Standard Errors assume that the covariance matrix of the errors is correctly specified.\n",
      "[2] The condition number is large, 1.34e+05. This might indicate that there are\n",
      "strong multicollinearity or other numerical problems.\n"
     ]
    }
   ],
   "source": [
    "#(universities with empty alumni size dropped)\n",
    "result = sm.ols(formula=\"Acceptance ~  Alumni\", \n",
    "                data=dd).fit()\n",
    "print(result.summary())"
   ]
  },
  {
   "cell_type": "code",
   "execution_count": 36,
   "id": "bb79da3f",
   "metadata": {},
   "outputs": [
    {
     "data": {
      "text/plain": [
       "Intercept    0.484227\n",
       "Alumni      -0.000001\n",
       "dtype: float64"
      ]
     },
     "execution_count": 36,
     "metadata": {},
     "output_type": "execute_result"
    }
   ],
   "source": [
    "result.params"
   ]
  },
  {
   "cell_type": "code",
   "execution_count": 37,
   "id": "87746cdb",
   "metadata": {},
   "outputs": [
    {
     "data": {
      "text/plain": [
       "0.5970388405835941"
      ]
     },
     "execution_count": 37,
     "metadata": {},
     "output_type": "execute_result"
    }
   ],
   "source": [
    "np.exp(result.params[0]-1)"
   ]
  },
  {
   "cell_type": "markdown",
   "id": "d1c7936b",
   "metadata": {},
   "source": [
    "## Relationship between acceptance rate and log alumni size "
   ]
  },
  {
   "cell_type": "code",
   "execution_count": 38,
   "id": "cc828918",
   "metadata": {},
   "outputs": [
    {
     "name": "stdout",
     "output_type": "stream",
     "text": [
      "                            OLS Regression Results                            \n",
      "==============================================================================\n",
      "Dep. Variable:             Acceptance   R-squared:                       0.003\n",
      "Model:                            OLS   Adj. R-squared:                 -0.013\n",
      "Method:                 Least Squares   F-statistic:                    0.1792\n",
      "Date:                Tue, 30 Nov 2021   Prob (F-statistic):              0.673\n",
      "Time:                        14:30:51   Log-Likelihood:                 5.8460\n",
      "No. Observations:                  67   AIC:                            -7.692\n",
      "Df Residuals:                      65   BIC:                            -3.283\n",
      "Df Model:                           1                                         \n",
      "Covariance Type:            nonrobust                                         \n",
      "==============================================================================\n",
      "                 coef    std err          t      P>|t|      [0.025      0.975]\n",
      "------------------------------------------------------------------------------\n",
      "Intercept      0.6147      0.469      1.311      0.195      -0.322       1.551\n",
      "ln_Alumni     -0.0182      0.043     -0.423      0.673      -0.104       0.068\n",
      "==============================================================================\n",
      "Omnibus:                       15.810   Durbin-Watson:                   0.498\n",
      "Prob(Omnibus):                  0.000   Jarque-Bera (JB):                4.009\n",
      "Skew:                           0.152   Prob(JB):                        0.135\n",
      "Kurtosis:                       1.841   Cond. No.                         188.\n",
      "==============================================================================\n",
      "\n",
      "Notes:\n",
      "[1] Standard Errors assume that the covariance matrix of the errors is correctly specified.\n"
     ]
    }
   ],
   "source": [
    "result = sm.ols(formula=\"Acceptance ~  ln_Alumni\", \n",
    "                data=data).fit()\n",
    "print(result.summary())"
   ]
  },
  {
   "cell_type": "code",
   "execution_count": 39,
   "id": "b4d29b1a",
   "metadata": {},
   "outputs": [
    {
     "name": "stdout",
     "output_type": "stream",
     "text": [
      "                            OLS Regression Results                            \n",
      "==============================================================================\n",
      "Dep. Variable:             Acceptance   R-squared:                       0.037\n",
      "Model:                            OLS   Adj. R-squared:                  0.025\n",
      "Method:                 Least Squares   F-statistic:                     3.213\n",
      "Date:                Tue, 30 Nov 2021   Prob (F-statistic):             0.0767\n",
      "Time:                        14:30:51   Log-Likelihood:                 7.2252\n",
      "No. Observations:                  86   AIC:                            -10.45\n",
      "Df Residuals:                      84   BIC:                            -5.542\n",
      "Df Model:                           1                                         \n",
      "Covariance Type:            nonrobust                                         \n",
      "==============================================================================\n",
      "                 coef    std err          t      P>|t|      [0.025      0.975]\n",
      "------------------------------------------------------------------------------\n",
      "Intercept      0.5080      0.049     10.380      0.000       0.411       0.605\n",
      "ln_Alumni     -0.0093      0.005     -1.792      0.077      -0.020       0.001\n",
      "==============================================================================\n",
      "Omnibus:                        9.845   Durbin-Watson:                   0.548\n",
      "Prob(Omnibus):                  0.007   Jarque-Bera (JB):                3.451\n",
      "Skew:                           0.097   Prob(JB):                        0.178\n",
      "Kurtosis:                       2.038   Cond. No.                         19.2\n",
      "==============================================================================\n",
      "\n",
      "Notes:\n",
      "[1] Standard Errors assume that the covariance matrix of the errors is correctly specified.\n"
     ]
    }
   ],
   "source": [
    "#(empty alumni size replaced with zero)\n",
    "#alumni size was increased by 1 before taking the log\n",
    "result = sm.ols(formula=\"Acceptance ~  ln_Alumni\", \n",
    "                data=d).fit()\n",
    "print(result.summary())"
   ]
  },
  {
   "cell_type": "code",
   "execution_count": 40,
   "id": "bf7b015d",
   "metadata": {},
   "outputs": [
    {
     "name": "stdout",
     "output_type": "stream",
     "text": [
      "                            OLS Regression Results                            \n",
      "==============================================================================\n",
      "Dep. Variable:             Acceptance   R-squared:                       0.038\n",
      "Model:                            OLS   Adj. R-squared:                  0.023\n",
      "Method:                 Least Squares   F-statistic:                     2.481\n",
      "Date:                Tue, 30 Nov 2021   Prob (F-statistic):              0.120\n",
      "Time:                        14:30:52   Log-Likelihood:                 7.0975\n",
      "No. Observations:                  65   AIC:                            -10.19\n",
      "Df Residuals:                      63   BIC:                            -5.846\n",
      "Df Model:                           1                                         \n",
      "Covariance Type:            nonrobust                                         \n",
      "==============================================================================\n",
      "                 coef    std err          t      P>|t|      [0.025      0.975]\n",
      "------------------------------------------------------------------------------\n",
      "Intercept      1.2810      0.554      2.311      0.024       0.174       2.388\n",
      "ln_Alumni     -0.0805      0.051     -1.575      0.120      -0.183       0.022\n",
      "==============================================================================\n",
      "Omnibus:                        8.636   Durbin-Watson:                   0.552\n",
      "Prob(Omnibus):                  0.013   Jarque-Bera (JB):                2.892\n",
      "Skew:                           0.062   Prob(JB):                        0.236\n",
      "Kurtosis:                       1.974   Cond. No.                         222.\n",
      "==============================================================================\n",
      "\n",
      "Notes:\n",
      "[1] Standard Errors assume that the covariance matrix of the errors is correctly specified.\n"
     ]
    }
   ],
   "source": [
    "#(universities with empty alumni size dropped)\n",
    "result = sm.ols(formula=\"Acceptance ~  ln_Alumni\", \n",
    "                data=dd).fit()\n",
    "print(result.summary())"
   ]
  },
  {
   "cell_type": "markdown",
   "id": "77a1b03f",
   "metadata": {},
   "source": [
    "## Relationship between log average salary and acceptance rate controlling alumni size \n"
   ]
  },
  {
   "cell_type": "code",
   "execution_count": 41,
   "id": "8298a647",
   "metadata": {},
   "outputs": [
    {
     "name": "stdout",
     "output_type": "stream",
     "text": [
      "                            OLS Regression Results                            \n",
      "==============================================================================\n",
      "Dep. Variable:              ln_Salary   R-squared:                       0.612\n",
      "Model:                            OLS   Adj. R-squared:                  0.600\n",
      "Method:                 Least Squares   F-statistic:                     50.40\n",
      "Date:                Tue, 30 Nov 2021   Prob (F-statistic):           7.15e-14\n",
      "Time:                        14:31:31   Log-Likelihood:                 71.511\n",
      "No. Observations:                  67   AIC:                            -137.0\n",
      "Df Residuals:                      64   BIC:                            -130.4\n",
      "Df Model:                           2                                         \n",
      "Covariance Type:            nonrobust                                         \n",
      "==============================================================================\n",
      "                 coef    std err          t      P>|t|      [0.025      0.975]\n",
      "------------------------------------------------------------------------------\n",
      "Intercept     11.1975      0.024    474.872      0.000      11.150      11.245\n",
      "Acceptance    -0.4651      0.047     -9.905      0.000      -0.559      -0.371\n",
      "Alumni     -1.325e-07   1.36e-07     -0.971      0.335   -4.05e-07     1.4e-07\n",
      "==============================================================================\n",
      "Omnibus:                        1.271   Durbin-Watson:                   1.501\n",
      "Prob(Omnibus):                  0.530   Jarque-Bera (JB):                0.650\n",
      "Skew:                           0.163   Prob(JB):                        0.722\n",
      "Kurtosis:                       3.356   Cond. No.                     5.06e+05\n",
      "==============================================================================\n",
      "\n",
      "Notes:\n",
      "[1] Standard Errors assume that the covariance matrix of the errors is correctly specified.\n",
      "[2] The condition number is large, 5.06e+05. This might indicate that there are\n",
      "strong multicollinearity or other numerical problems.\n"
     ]
    }
   ],
   "source": [
    "result = sm.ols(formula=\"ln_Salary ~ Acceptance + Alumni\", \n",
    "                data=data).fit()\n",
    "print(result.summary())"
   ]
  },
  {
   "cell_type": "code",
   "execution_count": 42,
   "id": "ab526697",
   "metadata": {},
   "outputs": [
    {
     "name": "stdout",
     "output_type": "stream",
     "text": [
      "                            OLS Regression Results                            \n",
      "==============================================================================\n",
      "Dep. Variable:              ln_Salary   R-squared:                       0.510\n",
      "Model:                            OLS   Adj. R-squared:                  0.498\n",
      "Method:                 Least Squares   F-statistic:                     43.11\n",
      "Date:                Tue, 30 Nov 2021   Prob (F-statistic):           1.45e-13\n",
      "Time:                        14:31:52   Log-Likelihood:                 74.613\n",
      "No. Observations:                  86   AIC:                            -143.2\n",
      "Df Residuals:                      83   BIC:                            -135.9\n",
      "Df Model:                           2                                         \n",
      "Covariance Type:            nonrobust                                         \n",
      "==============================================================================\n",
      "                 coef    std err          t      P>|t|      [0.025      0.975]\n",
      "------------------------------------------------------------------------------\n",
      "Intercept     11.1411      0.030    368.433      0.000      11.081      11.201\n",
      "Acceptance    -0.4294      0.051     -8.468      0.000      -0.530      -0.329\n",
      "Alumni      4.902e-07   2.97e-07      1.651      0.103      -1e-07    1.08e-06\n",
      "==============================================================================\n",
      "Omnibus:                       30.764   Durbin-Watson:                   1.546\n",
      "Prob(Omnibus):                  0.000   Jarque-Bera (JB):               86.759\n",
      "Skew:                          -1.150   Prob(JB):                     1.45e-19\n",
      "Kurtosis:                       7.350   Cond. No.                     3.01e+05\n",
      "==============================================================================\n",
      "\n",
      "Notes:\n",
      "[1] Standard Errors assume that the covariance matrix of the errors is correctly specified.\n",
      "[2] The condition number is large, 3.01e+05. This might indicate that there are\n",
      "strong multicollinearity or other numerical problems.\n"
     ]
    }
   ],
   "source": [
    "#(empty alumni size replaced with zero)\n",
    "result = sm.ols(formula=\"ln_Salary ~ Acceptance + Alumni\", \n",
    "                data=d).fit()\n",
    "print(result.summary())"
   ]
  },
  {
   "cell_type": "code",
   "execution_count": 43,
   "id": "1bf53a3c",
   "metadata": {},
   "outputs": [
    {
     "name": "stdout",
     "output_type": "stream",
     "text": [
      "                            OLS Regression Results                            \n",
      "==============================================================================\n",
      "Dep. Variable:              ln_Salary   R-squared:                       0.593\n",
      "Model:                            OLS   Adj. R-squared:                  0.579\n",
      "Method:                 Least Squares   F-statistic:                     45.09\n",
      "Date:                Tue, 30 Nov 2021   Prob (F-statistic):           8.16e-13\n",
      "Time:                        14:31:56   Log-Likelihood:                 68.878\n",
      "No. Observations:                  65   AIC:                            -131.8\n",
      "Df Residuals:                      62   BIC:                            -125.2\n",
      "Df Model:                           2                                         \n",
      "Covariance Type:            nonrobust                                         \n",
      "==============================================================================\n",
      "                 coef    std err          t      P>|t|      [0.025      0.975]\n",
      "------------------------------------------------------------------------------\n",
      "Intercept     11.1773      0.032    350.755      0.000      11.114      11.241\n",
      "Acceptance    -0.4525      0.049     -9.213      0.000      -0.551      -0.354\n",
      "Alumni      1.403e-07    3.2e-07      0.438      0.663      -5e-07    7.81e-07\n",
      "==============================================================================\n",
      "Omnibus:                        1.435   Durbin-Watson:                   1.493\n",
      "Prob(Omnibus):                  0.488   Jarque-Bera (JB):                0.763\n",
      "Skew:                           0.157   Prob(JB):                        0.683\n",
      "Kurtosis:                       3.428   Cond. No.                     3.52e+05\n",
      "==============================================================================\n",
      "\n",
      "Notes:\n",
      "[1] Standard Errors assume that the covariance matrix of the errors is correctly specified.\n",
      "[2] The condition number is large, 3.52e+05. This might indicate that there are\n",
      "strong multicollinearity or other numerical problems.\n"
     ]
    }
   ],
   "source": [
    "#(universities with empty alumni size dropped)\n",
    "result = sm.ols(formula=\"ln_Salary ~ Acceptance + Alumni\", \n",
    "                data=dd).fit()\n",
    "print(result.summary())"
   ]
  },
  {
   "cell_type": "markdown",
   "id": "1b0c90aa",
   "metadata": {},
   "source": [
    "## Relationship between log average salary and acceptance rate controlling log alumni size "
   ]
  },
  {
   "cell_type": "code",
   "execution_count": 44,
   "id": "d99f6a19",
   "metadata": {},
   "outputs": [
    {
     "name": "stdout",
     "output_type": "stream",
     "text": [
      "                            OLS Regression Results                            \n",
      "==============================================================================\n",
      "Dep. Variable:              ln_Salary   R-squared:                       0.608\n",
      "Model:                            OLS   Adj. R-squared:                  0.595\n",
      "Method:                 Least Squares   F-statistic:                     49.55\n",
      "Date:                Tue, 30 Nov 2021   Prob (F-statistic):           9.97e-14\n",
      "Time:                        14:32:41   Log-Likelihood:                 71.163\n",
      "No. Observations:                  67   AIC:                            -136.3\n",
      "Df Residuals:                      64   BIC:                            -129.7\n",
      "Df Model:                           2                                         \n",
      "Covariance Type:            nonrobust                                         \n",
      "==============================================================================\n",
      "                 coef    std err          t      P>|t|      [0.025      0.975]\n",
      "------------------------------------------------------------------------------\n",
      "Intercept     11.2830      0.181     62.458      0.000      10.922      11.644\n",
      "Acceptance    -0.4694      0.047     -9.955      0.000      -0.564      -0.375\n",
      "ln_Alumni     -0.0085      0.016     -0.521      0.604      -0.041       0.024\n",
      "==============================================================================\n",
      "Omnibus:                        1.211   Durbin-Watson:                   1.506\n",
      "Prob(Omnibus):                  0.546   Jarque-Bera (JB):                0.634\n",
      "Skew:                           0.190   Prob(JB):                        0.728\n",
      "Kurtosis:                       3.288   Cond. No.                         190.\n",
      "==============================================================================\n",
      "\n",
      "Notes:\n",
      "[1] Standard Errors assume that the covariance matrix of the errors is correctly specified.\n"
     ]
    }
   ],
   "source": [
    "result = sm.ols(formula=\"ln_Salary ~ Acceptance + ln_Alumni\", \n",
    "                data=data).fit()\n",
    "print(result.summary())"
   ]
  },
  {
   "cell_type": "code",
   "execution_count": 45,
   "id": "92024862",
   "metadata": {},
   "outputs": [
    {
     "name": "stdout",
     "output_type": "stream",
     "text": [
      "                            OLS Regression Results                            \n",
      "==============================================================================\n",
      "Dep. Variable:              ln_Salary   R-squared:                       0.592\n",
      "Model:                            OLS   Adj. R-squared:                  0.579\n",
      "Method:                 Least Squares   F-statistic:                     44.96\n",
      "Date:                Tue, 30 Nov 2021   Prob (F-statistic):           8.59e-13\n",
      "Time:                        14:33:02   Log-Likelihood:                 68.823\n",
      "No. Observations:                  65   AIC:                            -131.6\n",
      "Df Residuals:                      62   BIC:                            -125.1\n",
      "Df Model:                           2                                         \n",
      "Covariance Type:            nonrobust                                         \n",
      "==============================================================================\n",
      "                 coef    std err          t      P>|t|      [0.025      0.975]\n",
      "------------------------------------------------------------------------------\n",
      "Intercept     11.1208      0.225     49.402      0.000      10.671      11.571\n",
      "Acceptance    -0.4540      0.049     -9.239      0.000      -0.552      -0.356\n",
      "ln_Alumni      0.0060      0.020      0.297      0.768      -0.035       0.047\n",
      "==============================================================================\n",
      "Omnibus:                        1.376   Durbin-Watson:                   1.493\n",
      "Prob(Omnibus):                  0.502   Jarque-Bera (JB):                0.715\n",
      "Skew:                           0.153   Prob(JB):                        0.699\n",
      "Kurtosis:                       3.412   Cond. No.                         231.\n",
      "==============================================================================\n",
      "\n",
      "Notes:\n",
      "[1] Standard Errors assume that the covariance matrix of the errors is correctly specified.\n"
     ]
    }
   ],
   "source": [
    "#(empty alumni size replaced with zero)\n",
    "#alumni size was increased by 1 before taking the log\n",
    "result = sm.ols(formula=\"ln_Salary ~ Acceptance + ln_Alumni\", \n",
    "                data=dd).fit()\n",
    "print(result.summary())"
   ]
  },
  {
   "cell_type": "code",
   "execution_count": 46,
   "id": "5927d1ee",
   "metadata": {},
   "outputs": [
    {
     "name": "stdout",
     "output_type": "stream",
     "text": [
      "                            OLS Regression Results                            \n",
      "==============================================================================\n",
      "Dep. Variable:              ln_Salary   R-squared:                       0.592\n",
      "Model:                            OLS   Adj. R-squared:                  0.579\n",
      "Method:                 Least Squares   F-statistic:                     44.96\n",
      "Date:                Tue, 30 Nov 2021   Prob (F-statistic):           8.59e-13\n",
      "Time:                        14:33:04   Log-Likelihood:                 68.823\n",
      "No. Observations:                  65   AIC:                            -131.6\n",
      "Df Residuals:                      62   BIC:                            -125.1\n",
      "Df Model:                           2                                         \n",
      "Covariance Type:            nonrobust                                         \n",
      "==============================================================================\n",
      "                 coef    std err          t      P>|t|      [0.025      0.975]\n",
      "------------------------------------------------------------------------------\n",
      "Intercept     11.1208      0.225     49.402      0.000      10.671      11.571\n",
      "Acceptance    -0.4540      0.049     -9.239      0.000      -0.552      -0.356\n",
      "ln_Alumni      0.0060      0.020      0.297      0.768      -0.035       0.047\n",
      "==============================================================================\n",
      "Omnibus:                        1.376   Durbin-Watson:                   1.493\n",
      "Prob(Omnibus):                  0.502   Jarque-Bera (JB):                0.715\n",
      "Skew:                           0.153   Prob(JB):                        0.699\n",
      "Kurtosis:                       3.412   Cond. No.                         231.\n",
      "==============================================================================\n",
      "\n",
      "Notes:\n",
      "[1] Standard Errors assume that the covariance matrix of the errors is correctly specified.\n"
     ]
    }
   ],
   "source": [
    "#(universities with empty alumni size dropped)\n",
    "result = sm.ols(formula=\"ln_Salary ~ Acceptance + ln_Alumni\", \n",
    "                data=dd).fit()\n",
    "print(result.summary())"
   ]
  },
  {
   "cell_type": "markdown",
   "id": "90602e53",
   "metadata": {},
   "source": [
    "## Relationship between log average salary and acceptance rate controlling all variables "
   ]
  },
  {
   "cell_type": "code",
   "execution_count": 47,
   "id": "3f6901f4",
   "metadata": {},
   "outputs": [
    {
     "data": {
      "text/plain": [
       "Index(['Unnamed: 0', 'School_x', 'business_school', 'Acceptance', 'Salary',\n",
       "       'Private', 'Reputation', 'Alumni', 'Tuition', 'Distance',\n",
       "       'Distance Far vs. Close', 'ln_Salary', 'ln_Alumni'],\n",
       "      dtype='object')"
      ]
     },
     "execution_count": 47,
     "metadata": {},
     "output_type": "execute_result"
    }
   ],
   "source": [
    "data.columns"
   ]
  },
  {
   "cell_type": "code",
   "execution_count": 48,
   "id": "fef4049f",
   "metadata": {},
   "outputs": [
    {
     "name": "stdout",
     "output_type": "stream",
     "text": [
      "                            OLS Regression Results                            \n",
      "==============================================================================\n",
      "Dep. Variable:              ln_Salary   R-squared:                       0.752\n",
      "Model:                            OLS   Adj. R-squared:                  0.706\n",
      "Method:                 Least Squares   F-statistic:                     16.43\n",
      "Date:                Tue, 30 Nov 2021   Prob (F-statistic):           9.66e-10\n",
      "Time:                        14:33:28   Log-Likelihood:                 66.342\n",
      "No. Observations:                  46   AIC:                            -116.7\n",
      "Df Residuals:                      38   BIC:                            -102.1\n",
      "Df Model:                           7                                         \n",
      "Covariance Type:            nonrobust                                         \n",
      "===================================================================================\n",
      "                      coef    std err          t      P>|t|      [0.025      0.975]\n",
      "-----------------------------------------------------------------------------------\n",
      "Intercept          10.8177      0.147     73.581      0.000      10.520      11.115\n",
      "Acceptance         -0.2894      0.070     -4.151      0.000      -0.431      -0.148\n",
      "Private             0.0599      0.077      0.776      0.443      -0.096       0.216\n",
      "Reputation          0.0789      0.030      2.597      0.013       0.017       0.140\n",
      "Alumni          -1.178e-07   2.02e-07     -0.583      0.563   -5.27e-07    2.91e-07\n",
      "Tuition          9.152e-07   1.86e-06      0.493      0.625   -2.85e-06    4.68e-06\n",
      "Distance           -0.0002      0.000     -2.199      0.034      -0.000   -1.98e-05\n",
      "Tuition:Private  -7.16e-07   2.22e-06     -0.322      0.749   -5.22e-06    3.79e-06\n",
      "==============================================================================\n",
      "Omnibus:                        0.031   Durbin-Watson:                   1.977\n",
      "Prob(Omnibus):                  0.985   Jarque-Bera (JB):                0.095\n",
      "Skew:                          -0.048   Prob(JB):                        0.954\n",
      "Kurtosis:                       2.800   Cond. No.                     1.53e+06\n",
      "==============================================================================\n",
      "\n",
      "Notes:\n",
      "[1] Standard Errors assume that the covariance matrix of the errors is correctly specified.\n",
      "[2] The condition number is large, 1.53e+06. This might indicate that there are\n",
      "strong multicollinearity or other numerical problems.\n"
     ]
    }
   ],
   "source": [
    "result = sm.ols(formula=\"ln_Salary ~ Acceptance + Private + Reputation + Alumni + Tuition + Distance + Tuition*Private\", \n",
    "                data=data).fit()\n",
    "print(result.summary())"
   ]
  },
  {
   "cell_type": "code",
   "execution_count": 49,
   "id": "185636b0",
   "metadata": {},
   "outputs": [
    {
     "name": "stdout",
     "output_type": "stream",
     "text": [
      "                            OLS Regression Results                            \n",
      "==============================================================================\n",
      "Dep. Variable:                 Salary   R-squared:                       0.724\n",
      "Model:                            OLS   Adj. R-squared:                  0.681\n",
      "Method:                 Least Squares   F-statistic:                     16.87\n",
      "Date:                Tue, 30 Nov 2021   Prob (F-statistic):           1.06e-10\n",
      "Time:                        14:33:30   Log-Likelihood:                -512.20\n",
      "No. Observations:                  53   AIC:                             1040.\n",
      "Df Residuals:                      45   BIC:                             1056.\n",
      "Df Model:                           7                                         \n",
      "Covariance Type:            nonrobust                                         \n",
      "===================================================================================\n",
      "                      coef    std err          t      P>|t|      [0.025      0.975]\n",
      "-----------------------------------------------------------------------------------\n",
      "Intercept        3.663e+04   7960.889      4.602      0.000    2.06e+04    5.27e+04\n",
      "Acceptance      -1.309e+04   3914.032     -3.346      0.002    -2.1e+04   -5211.361\n",
      "Private          3415.7877   4973.373      0.687      0.496   -6601.100    1.34e+04\n",
      "Reputation       6852.6162   1731.133      3.958      0.000    3365.935    1.03e+04\n",
      "Alumni              0.0083      0.016      0.530      0.598      -0.023       0.040\n",
      "Tuition             0.1000      0.118      0.850      0.400      -0.137       0.337\n",
      "Distance           -8.8088      6.962     -1.265      0.212     -22.831       5.213\n",
      "Tuition:Private    -0.0202      0.142     -0.142      0.888      -0.307       0.267\n",
      "==============================================================================\n",
      "Omnibus:                        0.692   Durbin-Watson:                   1.931\n",
      "Prob(Omnibus):                  0.707   Jarque-Bera (JB):                0.665\n",
      "Skew:                           0.255   Prob(JB):                        0.717\n",
      "Kurtosis:                       2.796   Cond. No.                     1.14e+06\n",
      "==============================================================================\n",
      "\n",
      "Notes:\n",
      "[1] Standard Errors assume that the covariance matrix of the errors is correctly specified.\n",
      "[2] The condition number is large, 1.14e+06. This might indicate that there are\n",
      "strong multicollinearity or other numerical problems.\n"
     ]
    }
   ],
   "source": [
    "#(empty alumni size replaced with zero)\n",
    "result = sm.ols(formula=\"Salary ~ Acceptance + Private + Reputation + Alumni + Tuition + Distance + Tuition*Private\", \n",
    "                data=d).fit()\n",
    "print(result.summary())"
   ]
  },
  {
   "cell_type": "code",
   "execution_count": 50,
   "id": "028eaf6d",
   "metadata": {},
   "outputs": [
    {
     "name": "stdout",
     "output_type": "stream",
     "text": [
      "                            OLS Regression Results                            \n",
      "==============================================================================\n",
      "Dep. Variable:                 Salary   R-squared:                       0.729\n",
      "Model:                            OLS   Adj. R-squared:                  0.678\n",
      "Method:                 Least Squares   F-statistic:                     14.21\n",
      "Date:                Tue, 30 Nov 2021   Prob (F-statistic):           8.62e-09\n",
      "Time:                        14:33:32   Log-Likelihood:                -433.23\n",
      "No. Observations:                  45   AIC:                             882.5\n",
      "Df Residuals:                      37   BIC:                             896.9\n",
      "Df Model:                           7                                         \n",
      "Covariance Type:            nonrobust                                         \n",
      "===================================================================================\n",
      "                      coef    std err          t      P>|t|      [0.025      0.975]\n",
      "-----------------------------------------------------------------------------------\n",
      "Intercept        4.298e+04   9607.105      4.474      0.000    2.35e+04    6.24e+04\n",
      "Acceptance      -1.606e+04   4532.885     -3.542      0.001   -2.52e+04   -6872.968\n",
      "Private          4007.8414   4981.393      0.805      0.426   -6085.420    1.41e+04\n",
      "Reputation       5869.5428   1962.889      2.990      0.005    1892.352    9846.733\n",
      "Alumni              0.0027      0.019      0.144      0.886      -0.035       0.040\n",
      "Tuition             0.0890      0.120      0.745      0.461      -0.153       0.331\n",
      "Distance          -12.9995      7.536     -1.725      0.093     -28.268       2.269\n",
      "Tuition:Private    -0.0605      0.143     -0.422      0.675      -0.351       0.230\n",
      "==============================================================================\n",
      "Omnibus:                        0.148   Durbin-Watson:                   1.830\n",
      "Prob(Omnibus):                  0.929   Jarque-Bera (JB):                0.170\n",
      "Skew:                           0.119   Prob(JB):                        0.918\n",
      "Kurtosis:                       2.814   Cond. No.                     1.38e+06\n",
      "==============================================================================\n",
      "\n",
      "Notes:\n",
      "[1] Standard Errors assume that the covariance matrix of the errors is correctly specified.\n",
      "[2] The condition number is large, 1.38e+06. This might indicate that there are\n",
      "strong multicollinearity or other numerical problems.\n"
     ]
    }
   ],
   "source": [
    "#(universities with empty alumni size dropped)\n",
    "result = sm.ols(formula=\"Salary ~ Acceptance + Private + Reputation + Alumni + Tuition + Distance + Tuition*Private\", \n",
    "                data=dd).fit()\n",
    "print(result.summary())"
   ]
  },
  {
   "cell_type": "code",
   "execution_count": null,
   "id": "8cc37fe2",
   "metadata": {},
   "outputs": [],
   "source": []
  }
 ],
 "metadata": {
  "kernelspec": {
   "display_name": "Python 3",
   "language": "python",
   "name": "python3"
  },
  "language_info": {
   "codemirror_mode": {
    "name": "ipython",
    "version": 3
   },
   "file_extension": ".py",
   "mimetype": "text/x-python",
   "name": "python",
   "nbconvert_exporter": "python",
   "pygments_lexer": "ipython3",
   "version": "3.8.8"
  }
 },
 "nbformat": 4,
 "nbformat_minor": 5
}

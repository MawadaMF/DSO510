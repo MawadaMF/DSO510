{
 "cells": [
  {
   "cell_type": "markdown",
   "id": "dd7e73e5",
   "metadata": {},
   "source": [
    "# Compiling Data and tuition"
   ]
  },
  {
   "cell_type": "code",
   "execution_count": 3,
   "id": "7cc470ea",
   "metadata": {},
   "outputs": [],
   "source": [
    "import numpy as np\n",
    "import pandas as pd\n",
    "import matplotlib.pyplot as plt\n",
    "import seaborn as sns "
   ]
  },
  {
   "cell_type": "code",
   "execution_count": 4,
   "id": "e71f7779",
   "metadata": {},
   "outputs": [
    {
     "data": {
      "text/html": [
       "<div>\n",
       "<style scoped>\n",
       "    .dataframe tbody tr th:only-of-type {\n",
       "        vertical-align: middle;\n",
       "    }\n",
       "\n",
       "    .dataframe tbody tr th {\n",
       "        vertical-align: top;\n",
       "    }\n",
       "\n",
       "    .dataframe thead th {\n",
       "        text-align: right;\n",
       "    }\n",
       "</style>\n",
       "<table border=\"1\" class=\"dataframe\">\n",
       "  <thead>\n",
       "    <tr style=\"text-align: right;\">\n",
       "      <th></th>\n",
       "      <th>Unnamed: 0</th>\n",
       "      <th>School_x</th>\n",
       "      <th>business_school</th>\n",
       "      <th>Acceptance Rate</th>\n",
       "      <th>Average Salary</th>\n",
       "      <th>Public(0) or Private(1)</th>\n",
       "      <th>Reputation Score</th>\n",
       "      <th>Alumni</th>\n",
       "      <th>Tuition_Fees_17&amp;18</th>\n",
       "      <th>Distance to Nearest City (Miles)</th>\n",
       "      <th>Distance Far vs. Close</th>\n",
       "    </tr>\n",
       "  </thead>\n",
       "  <tbody>\n",
       "    <tr>\n",
       "      <th>0</th>\n",
       "      <td>0</td>\n",
       "      <td>University of Pennsylvania (Wharton)</td>\n",
       "      <td>Wharton</td>\n",
       "      <td>0.0649</td>\n",
       "      <td>80354</td>\n",
       "      <td>1</td>\n",
       "      <td>4.8</td>\n",
       "      <td>99000.0</td>\n",
       "      <td>53534.0</td>\n",
       "      <td>1.560704</td>\n",
       "      <td>Close</td>\n",
       "    </tr>\n",
       "    <tr>\n",
       "      <th>1</th>\n",
       "      <td>1</td>\n",
       "      <td>Washington University in St. Louis (Olin)</td>\n",
       "      <td>Olin</td>\n",
       "      <td>0.0970</td>\n",
       "      <td>67115</td>\n",
       "      <td>1</td>\n",
       "      <td>4.1</td>\n",
       "      <td>21000.0</td>\n",
       "      <td>51533.0</td>\n",
       "      <td>235.684727</td>\n",
       "      <td>Far</td>\n",
       "    </tr>\n",
       "    <tr>\n",
       "      <th>2</th>\n",
       "      <td>2</td>\n",
       "      <td>University of California-Berkeley (Haas)</td>\n",
       "      <td>Haas</td>\n",
       "      <td>0.0430</td>\n",
       "      <td>73302</td>\n",
       "      <td>0</td>\n",
       "      <td>4.6</td>\n",
       "      <td>39000.0</td>\n",
       "      <td>42184.0</td>\n",
       "      <td>11.315188</td>\n",
       "      <td>Close</td>\n",
       "    </tr>\n",
       "    <tr>\n",
       "      <th>3</th>\n",
       "      <td>3</td>\n",
       "      <td>Cornell University (Dyson)</td>\n",
       "      <td>Dyson</td>\n",
       "      <td>0.0290</td>\n",
       "      <td>74493</td>\n",
       "      <td>1</td>\n",
       "      <td>4.3</td>\n",
       "      <td>NaN</td>\n",
       "      <td>52853.0</td>\n",
       "      <td>178.500330</td>\n",
       "      <td>Far</td>\n",
       "    </tr>\n",
       "    <tr>\n",
       "      <th>4</th>\n",
       "      <td>4</td>\n",
       "      <td>University of Michigan (Ross)</td>\n",
       "      <td>Ross</td>\n",
       "      <td>0.1200</td>\n",
       "      <td>72268</td>\n",
       "      <td>0</td>\n",
       "      <td>4.6</td>\n",
       "      <td>52000.0</td>\n",
       "      <td>32451.5</td>\n",
       "      <td>35.657174</td>\n",
       "      <td>Close</td>\n",
       "    </tr>\n",
       "    <tr>\n",
       "      <th>...</th>\n",
       "      <td>...</td>\n",
       "      <td>...</td>\n",
       "      <td>...</td>\n",
       "      <td>...</td>\n",
       "      <td>...</td>\n",
       "      <td>...</td>\n",
       "      <td>...</td>\n",
       "      <td>...</td>\n",
       "      <td>...</td>\n",
       "      <td>...</td>\n",
       "      <td>...</td>\n",
       "    </tr>\n",
       "    <tr>\n",
       "      <th>83</th>\n",
       "      <td>83</td>\n",
       "      <td>University of South Carolina (Darla Moore)</td>\n",
       "      <td>Darla Moore</td>\n",
       "      <td>0.6510</td>\n",
       "      <td>61946</td>\n",
       "      <td>0</td>\n",
       "      <td>3.6</td>\n",
       "      <td>48000.0</td>\n",
       "      <td>23155.0</td>\n",
       "      <td>36.649280</td>\n",
       "      <td>Close</td>\n",
       "    </tr>\n",
       "    <tr>\n",
       "      <th>84</th>\n",
       "      <td>84</td>\n",
       "      <td>University of Delaware (Lerner)</td>\n",
       "      <td>Lerner</td>\n",
       "      <td>0.4640</td>\n",
       "      <td>54087</td>\n",
       "      <td>0</td>\n",
       "      <td>NaN</td>\n",
       "      <td>34400.0</td>\n",
       "      <td>18146.5</td>\n",
       "      <td>335.203680</td>\n",
       "      <td>Far</td>\n",
       "    </tr>\n",
       "    <tr>\n",
       "      <th>85</th>\n",
       "      <td>85</td>\n",
       "      <td>University of Missouri-Columbia (Trulaske)</td>\n",
       "      <td>Trulaske</td>\n",
       "      <td>0.6917</td>\n",
       "      <td>48827</td>\n",
       "      <td>0</td>\n",
       "      <td>3.2</td>\n",
       "      <td>32000.0</td>\n",
       "      <td>42166.0</td>\n",
       "      <td>232.209889</td>\n",
       "      <td>Far</td>\n",
       "    </tr>\n",
       "    <tr>\n",
       "      <th>86</th>\n",
       "      <td>86</td>\n",
       "      <td>St. Louis University (Chaifetz)</td>\n",
       "      <td>Chaifetz</td>\n",
       "      <td>0.8303</td>\n",
       "      <td>63333</td>\n",
       "      <td>1</td>\n",
       "      <td>NaN</td>\n",
       "      <td>25625.0</td>\n",
       "      <td>39820.0</td>\n",
       "      <td>53.214610</td>\n",
       "      <td>Far</td>\n",
       "    </tr>\n",
       "    <tr>\n",
       "      <th>87</th>\n",
       "      <td>87</td>\n",
       "      <td>Sacred Heart University (Jack Welch)</td>\n",
       "      <td>Jack Welch</td>\n",
       "      <td>0.6080</td>\n",
       "      <td>54784</td>\n",
       "      <td>1</td>\n",
       "      <td>NaN</td>\n",
       "      <td>NaN</td>\n",
       "      <td>36394.0</td>\n",
       "      <td>257.681562</td>\n",
       "      <td>Far</td>\n",
       "    </tr>\n",
       "  </tbody>\n",
       "</table>\n",
       "<p>88 rows × 11 columns</p>\n",
       "</div>"
      ],
      "text/plain": [
       "    Unnamed: 0                                    School_x business_school  \\\n",
       "0            0        University of Pennsylvania (Wharton)         Wharton   \n",
       "1            1   Washington University in St. Louis (Olin)            Olin   \n",
       "2            2    University of California-Berkeley (Haas)            Haas   \n",
       "3            3                  Cornell University (Dyson)           Dyson   \n",
       "4            4               University of Michigan (Ross)            Ross   \n",
       "..         ...                                         ...             ...   \n",
       "83          83  University of South Carolina (Darla Moore)     Darla Moore   \n",
       "84          84             University of Delaware (Lerner)          Lerner   \n",
       "85          85  University of Missouri-Columbia (Trulaske)        Trulaske   \n",
       "86          86             St. Louis University (Chaifetz)        Chaifetz   \n",
       "87          87        Sacred Heart University (Jack Welch)      Jack Welch   \n",
       "\n",
       "    Acceptance Rate  Average Salary  Public(0) or Private(1)  \\\n",
       "0            0.0649           80354                        1   \n",
       "1            0.0970           67115                        1   \n",
       "2            0.0430           73302                        0   \n",
       "3            0.0290           74493                        1   \n",
       "4            0.1200           72268                        0   \n",
       "..              ...             ...                      ...   \n",
       "83           0.6510           61946                        0   \n",
       "84           0.4640           54087                        0   \n",
       "85           0.6917           48827                        0   \n",
       "86           0.8303           63333                        1   \n",
       "87           0.6080           54784                        1   \n",
       "\n",
       "    Reputation Score   Alumni  Tuition_Fees_17&18  \\\n",
       "0                4.8  99000.0             53534.0   \n",
       "1                4.1  21000.0             51533.0   \n",
       "2                4.6  39000.0             42184.0   \n",
       "3                4.3      NaN             52853.0   \n",
       "4                4.6  52000.0             32451.5   \n",
       "..               ...      ...                 ...   \n",
       "83               3.6  48000.0             23155.0   \n",
       "84               NaN  34400.0             18146.5   \n",
       "85               3.2  32000.0             42166.0   \n",
       "86               NaN  25625.0             39820.0   \n",
       "87               NaN      NaN             36394.0   \n",
       "\n",
       "    Distance to Nearest City (Miles) Distance Far vs. Close  \n",
       "0                           1.560704                  Close  \n",
       "1                         235.684727                    Far  \n",
       "2                          11.315188                  Close  \n",
       "3                         178.500330                    Far  \n",
       "4                          35.657174                  Close  \n",
       "..                               ...                    ...  \n",
       "83                         36.649280                  Close  \n",
       "84                        335.203680                    Far  \n",
       "85                        232.209889                    Far  \n",
       "86                         53.214610                    Far  \n",
       "87                        257.681562                    Far  \n",
       "\n",
       "[88 rows x 11 columns]"
      ]
     },
     "execution_count": 4,
     "metadata": {},
     "output_type": "execute_result"
    }
   ],
   "source": [
    "uni=pd.read_csv('universities_cleaned.csv')\n",
    "uni"
   ]
  },
  {
   "cell_type": "code",
   "execution_count": 5,
   "id": "25fc5113",
   "metadata": {},
   "outputs": [
    {
     "data": {
      "text/html": [
       "<div>\n",
       "<style scoped>\n",
       "    .dataframe tbody tr th:only-of-type {\n",
       "        vertical-align: middle;\n",
       "    }\n",
       "\n",
       "    .dataframe tbody tr th {\n",
       "        vertical-align: top;\n",
       "    }\n",
       "\n",
       "    .dataframe thead th {\n",
       "        text-align: right;\n",
       "    }\n",
       "</style>\n",
       "<table border=\"1\" class=\"dataframe\">\n",
       "  <thead>\n",
       "    <tr style=\"text-align: right;\">\n",
       "      <th></th>\n",
       "      <th>Unnamed: 0</th>\n",
       "      <th>School_x</th>\n",
       "      <th>business_school</th>\n",
       "      <th>Acceptance Rate</th>\n",
       "      <th>Average Salary</th>\n",
       "      <th>Public(0) or Private(1)</th>\n",
       "      <th>Reputation Score</th>\n",
       "      <th>Alumni</th>\n",
       "      <th>Tuition_Fees_17&amp;18</th>\n",
       "      <th>Distance to Nearest City (Miles)</th>\n",
       "      <th>Distance Far vs. Close</th>\n",
       "      <th>Tuition</th>\n",
       "    </tr>\n",
       "  </thead>\n",
       "  <tbody>\n",
       "    <tr>\n",
       "      <th>0</th>\n",
       "      <td>0</td>\n",
       "      <td>University of Pennsylvania (Wharton)</td>\n",
       "      <td>Wharton</td>\n",
       "      <td>0.0649</td>\n",
       "      <td>80354</td>\n",
       "      <td>1</td>\n",
       "      <td>4.8</td>\n",
       "      <td>99000.0</td>\n",
       "      <td>53534.0</td>\n",
       "      <td>1.560704</td>\n",
       "      <td>Close</td>\n",
       "      <td>53534.0</td>\n",
       "    </tr>\n",
       "    <tr>\n",
       "      <th>1</th>\n",
       "      <td>1</td>\n",
       "      <td>Washington University in St. Louis (Olin)</td>\n",
       "      <td>Olin</td>\n",
       "      <td>0.0970</td>\n",
       "      <td>67115</td>\n",
       "      <td>1</td>\n",
       "      <td>4.1</td>\n",
       "      <td>21000.0</td>\n",
       "      <td>51533.0</td>\n",
       "      <td>235.684727</td>\n",
       "      <td>Far</td>\n",
       "      <td>51533.0</td>\n",
       "    </tr>\n",
       "    <tr>\n",
       "      <th>2</th>\n",
       "      <td>2</td>\n",
       "      <td>University of California-Berkeley (Haas)</td>\n",
       "      <td>Haas</td>\n",
       "      <td>0.0430</td>\n",
       "      <td>73302</td>\n",
       "      <td>0</td>\n",
       "      <td>4.6</td>\n",
       "      <td>39000.0</td>\n",
       "      <td>42184.0</td>\n",
       "      <td>11.315188</td>\n",
       "      <td>Close</td>\n",
       "      <td>42184.0</td>\n",
       "    </tr>\n",
       "    <tr>\n",
       "      <th>3</th>\n",
       "      <td>3</td>\n",
       "      <td>Cornell University (Dyson)</td>\n",
       "      <td>Dyson</td>\n",
       "      <td>0.0290</td>\n",
       "      <td>74493</td>\n",
       "      <td>1</td>\n",
       "      <td>4.3</td>\n",
       "      <td>NaN</td>\n",
       "      <td>52853.0</td>\n",
       "      <td>178.500330</td>\n",
       "      <td>Far</td>\n",
       "      <td>52853.0</td>\n",
       "    </tr>\n",
       "    <tr>\n",
       "      <th>4</th>\n",
       "      <td>4</td>\n",
       "      <td>University of Michigan (Ross)</td>\n",
       "      <td>Ross</td>\n",
       "      <td>0.1200</td>\n",
       "      <td>72268</td>\n",
       "      <td>0</td>\n",
       "      <td>4.6</td>\n",
       "      <td>52000.0</td>\n",
       "      <td>32451.5</td>\n",
       "      <td>35.657174</td>\n",
       "      <td>Close</td>\n",
       "      <td>32451.5</td>\n",
       "    </tr>\n",
       "    <tr>\n",
       "      <th>...</th>\n",
       "      <td>...</td>\n",
       "      <td>...</td>\n",
       "      <td>...</td>\n",
       "      <td>...</td>\n",
       "      <td>...</td>\n",
       "      <td>...</td>\n",
       "      <td>...</td>\n",
       "      <td>...</td>\n",
       "      <td>...</td>\n",
       "      <td>...</td>\n",
       "      <td>...</td>\n",
       "      <td>...</td>\n",
       "    </tr>\n",
       "    <tr>\n",
       "      <th>83</th>\n",
       "      <td>83</td>\n",
       "      <td>University of South Carolina (Darla Moore)</td>\n",
       "      <td>Darla Moore</td>\n",
       "      <td>0.6510</td>\n",
       "      <td>61946</td>\n",
       "      <td>0</td>\n",
       "      <td>3.6</td>\n",
       "      <td>48000.0</td>\n",
       "      <td>23155.0</td>\n",
       "      <td>36.649280</td>\n",
       "      <td>Close</td>\n",
       "      <td>23155.0</td>\n",
       "    </tr>\n",
       "    <tr>\n",
       "      <th>84</th>\n",
       "      <td>84</td>\n",
       "      <td>University of Delaware (Lerner)</td>\n",
       "      <td>Lerner</td>\n",
       "      <td>0.4640</td>\n",
       "      <td>54087</td>\n",
       "      <td>0</td>\n",
       "      <td>NaN</td>\n",
       "      <td>34400.0</td>\n",
       "      <td>18146.5</td>\n",
       "      <td>335.203680</td>\n",
       "      <td>Far</td>\n",
       "      <td>18146.5</td>\n",
       "    </tr>\n",
       "    <tr>\n",
       "      <th>85</th>\n",
       "      <td>85</td>\n",
       "      <td>University of Missouri-Columbia (Trulaske)</td>\n",
       "      <td>Trulaske</td>\n",
       "      <td>0.6917</td>\n",
       "      <td>48827</td>\n",
       "      <td>0</td>\n",
       "      <td>3.2</td>\n",
       "      <td>32000.0</td>\n",
       "      <td>42166.0</td>\n",
       "      <td>232.209889</td>\n",
       "      <td>Far</td>\n",
       "      <td>42166.0</td>\n",
       "    </tr>\n",
       "    <tr>\n",
       "      <th>86</th>\n",
       "      <td>86</td>\n",
       "      <td>St. Louis University (Chaifetz)</td>\n",
       "      <td>Chaifetz</td>\n",
       "      <td>0.8303</td>\n",
       "      <td>63333</td>\n",
       "      <td>1</td>\n",
       "      <td>NaN</td>\n",
       "      <td>25625.0</td>\n",
       "      <td>39820.0</td>\n",
       "      <td>53.214610</td>\n",
       "      <td>Far</td>\n",
       "      <td>39820.0</td>\n",
       "    </tr>\n",
       "    <tr>\n",
       "      <th>87</th>\n",
       "      <td>87</td>\n",
       "      <td>Sacred Heart University (Jack Welch)</td>\n",
       "      <td>Jack Welch</td>\n",
       "      <td>0.6080</td>\n",
       "      <td>54784</td>\n",
       "      <td>1</td>\n",
       "      <td>NaN</td>\n",
       "      <td>NaN</td>\n",
       "      <td>36394.0</td>\n",
       "      <td>257.681562</td>\n",
       "      <td>Far</td>\n",
       "      <td>36394.0</td>\n",
       "    </tr>\n",
       "  </tbody>\n",
       "</table>\n",
       "<p>88 rows × 12 columns</p>\n",
       "</div>"
      ],
      "text/plain": [
       "    Unnamed: 0                                    School_x business_school  \\\n",
       "0            0        University of Pennsylvania (Wharton)         Wharton   \n",
       "1            1   Washington University in St. Louis (Olin)            Olin   \n",
       "2            2    University of California-Berkeley (Haas)            Haas   \n",
       "3            3                  Cornell University (Dyson)           Dyson   \n",
       "4            4               University of Michigan (Ross)            Ross   \n",
       "..         ...                                         ...             ...   \n",
       "83          83  University of South Carolina (Darla Moore)     Darla Moore   \n",
       "84          84             University of Delaware (Lerner)          Lerner   \n",
       "85          85  University of Missouri-Columbia (Trulaske)        Trulaske   \n",
       "86          86             St. Louis University (Chaifetz)        Chaifetz   \n",
       "87          87        Sacred Heart University (Jack Welch)      Jack Welch   \n",
       "\n",
       "    Acceptance Rate  Average Salary  Public(0) or Private(1)  \\\n",
       "0            0.0649           80354                        1   \n",
       "1            0.0970           67115                        1   \n",
       "2            0.0430           73302                        0   \n",
       "3            0.0290           74493                        1   \n",
       "4            0.1200           72268                        0   \n",
       "..              ...             ...                      ...   \n",
       "83           0.6510           61946                        0   \n",
       "84           0.4640           54087                        0   \n",
       "85           0.6917           48827                        0   \n",
       "86           0.8303           63333                        1   \n",
       "87           0.6080           54784                        1   \n",
       "\n",
       "    Reputation Score   Alumni  Tuition_Fees_17&18  \\\n",
       "0                4.8  99000.0             53534.0   \n",
       "1                4.1  21000.0             51533.0   \n",
       "2                4.6  39000.0             42184.0   \n",
       "3                4.3      NaN             52853.0   \n",
       "4                4.6  52000.0             32451.5   \n",
       "..               ...      ...                 ...   \n",
       "83               3.6  48000.0             23155.0   \n",
       "84               NaN  34400.0             18146.5   \n",
       "85               3.2  32000.0             42166.0   \n",
       "86               NaN  25625.0             39820.0   \n",
       "87               NaN      NaN             36394.0   \n",
       "\n",
       "    Distance to Nearest City (Miles) Distance Far vs. Close  Tuition  \n",
       "0                           1.560704                  Close  53534.0  \n",
       "1                         235.684727                    Far  51533.0  \n",
       "2                          11.315188                  Close  42184.0  \n",
       "3                         178.500330                    Far  52853.0  \n",
       "4                          35.657174                  Close  32451.5  \n",
       "..                               ...                    ...      ...  \n",
       "83                         36.649280                  Close  23155.0  \n",
       "84                        335.203680                    Far  18146.5  \n",
       "85                        232.209889                    Far  42166.0  \n",
       "86                         53.214610                    Far  39820.0  \n",
       "87                        257.681562                    Far  36394.0  \n",
       "\n",
       "[88 rows x 12 columns]"
      ]
     },
     "execution_count": 5,
     "metadata": {},
     "output_type": "execute_result"
    }
   ],
   "source": [
    "uni['Tuition']=uni['Tuition_Fees_17&18']\n",
    "uni"
   ]
  },
  {
   "cell_type": "markdown",
   "id": "3d17118d",
   "metadata": {},
   "source": [
    "# Visualizations"
   ]
  },
  {
   "cell_type": "code",
   "execution_count": 6,
   "id": "cf732dab",
   "metadata": {},
   "outputs": [
    {
     "data": {
      "text/plain": [
       "<AxesSubplot:xlabel='Tuition', ylabel='Count'>"
      ]
     },
     "execution_count": 6,
     "metadata": {},
     "output_type": "execute_result"
    },
    {
     "data": {
      "image/png": "[encoded data removed]",
      "text/plain": [
       "<Figure size 432x288 with 1 Axes>"
      ]
     },
     "metadata": {
      "needs_background": "light"
     },
     "output_type": "display_data"
    }
   ],
   "source": [
    "sns.histplot(uni.Tuition)"
   ]
  },
  {
   "cell_type": "code",
   "execution_count": 22,
   "id": "073e4e28",
   "metadata": {
    "scrolled": true
   },
   "outputs": [
    {
     "data": {
      "text/plain": [
       "<AxesSubplot:xlabel='Acceptance Rate', ylabel='Tuition'>"
      ]
     },
     "execution_count": 22,
     "metadata": {},
     "output_type": "execute_result"
    },
    {
     "data": {
      "image/png": "[encoded data removed]",
      "text/plain": [
       "<Figure size 432x288 with 1 Axes>"
      ]
     },
     "metadata": {
      "needs_background": "light"
     },
     "output_type": "display_data"
    }
   ],
   "source": [
    "sns.scatterplot(x=uni['Acceptance Rate'], y=uni['Tuition'], hue=uni['Acceptance Rate'])"
   ]
  },
  {
   "cell_type": "code",
   "execution_count": 23,
   "id": "5d6daa8d",
   "metadata": {},
   "outputs": [
    {
     "data": {
      "text/plain": [
       "<AxesSubplot:xlabel='Acceptance Rate', ylabel='Tuition'>"
      ]
     },
     "execution_count": 23,
     "metadata": {},
     "output_type": "execute_result"
    },
    {
     "data": {
      "image/png": "[encoded data removed]",
      "text/plain": [
       "<Figure size 432x288 with 1 Axes>"
      ]
     },
     "metadata": {
      "needs_background": "light"
     },
     "output_type": "display_data"
    }
   ],
   "source": [
    "sns.scatterplot(x=uni['Acceptance Rate'], y=uni['Tuition'], hue=uni['Public(0) or Private(1)'])"
   ]
  },
  {
   "cell_type": "code",
   "execution_count": 24,
   "id": "9e44674b",
   "metadata": {},
   "outputs": [
    {
     "data": {
      "text/plain": [
       "<AxesSubplot:xlabel='Average Salary', ylabel='Tuition'>"
      ]
     },
     "execution_count": 24,
     "metadata": {},
     "output_type": "execute_result"
    },
    {
     "data": {
      "image/png": "[encoded data removed]",
      "text/plain": [
       "<Figure size 432x288 with 1 Axes>"
      ]
     },
     "metadata": {
      "needs_background": "light"
     },
     "output_type": "display_data"
    }
   ],
   "source": [
    "sns.scatterplot(x=uni['Average Salary'], y=uni['Tuition'], hue=uni['Tuition'])"
   ]
  },
  {
   "cell_type": "code",
   "execution_count": 25,
   "id": "af0c23f8",
   "metadata": {},
   "outputs": [
    {
     "data": {
      "text/plain": [
       "<AxesSubplot:xlabel='Average Salary', ylabel='Tuition'>"
      ]
     },
     "execution_count": 25,
     "metadata": {},
     "output_type": "execute_result"
    },
    {
     "data": {
      "image/png": "[encoded data removed]",
      "text/plain": [
       "<Figure size 432x288 with 1 Axes>"
      ]
     },
     "metadata": {
      "needs_background": "light"
     },
     "output_type": "display_data"
    }
   ],
   "source": [
    "sns.scatterplot(x=uni['Average Salary'], y=uni['Tuition'], hue=uni['Public(0) or Private(1)'])"
   ]
  },
  {
   "cell_type": "markdown",
   "id": "5637d9d1",
   "metadata": {},
   "source": [
    "# Regression "
   ]
  },
  {
   "cell_type": "code",
   "execution_count": 26,
   "id": "53314ad9",
   "metadata": {},
   "outputs": [],
   "source": [
    "import pandas as pd\n",
    "import numpy as np\n",
    "import matplotlib.pyplot as plt\n",
    "%matplotlib inline\n",
    "import statsmodels.formula.api as sm\n"
   ]
  },
  {
   "cell_type": "code",
   "execution_count": 30,
   "id": "25177c83",
   "metadata": {},
   "outputs": [
    {
     "name": "stdout",
     "output_type": "stream",
     "text": [
      "                            OLS Regression Results                            \n",
      "==============================================================================\n",
      "Dep. Variable:             Acceptance   R-squared:                       0.171\n",
      "Model:                            OLS   Adj. R-squared:                  0.162\n",
      "Method:                 Least Squares   F-statistic:                     17.77\n",
      "Date:                Tue, 30 Nov 2021   Prob (F-statistic):           6.14e-05\n",
      "Time:                        13:33:22   Log-Likelihood:                 13.994\n",
      "No. Observations:                  88   AIC:                            -23.99\n",
      "Df Residuals:                      86   BIC:                            -19.03\n",
      "Df Model:                           1                                         \n",
      "Covariance Type:            nonrobust                                         \n",
      "==============================================================================\n",
      "                 coef    std err          t      P>|t|      [0.025      0.975]\n",
      "------------------------------------------------------------------------------\n",
      "Intercept      0.6698      0.060     11.247      0.000       0.551       0.788\n",
      "Tuition    -6.835e-06   1.62e-06     -4.215      0.000   -1.01e-05   -3.61e-06\n",
      "==============================================================================\n",
      "Omnibus:                        4.285   Durbin-Watson:                   0.753\n",
      "Prob(Omnibus):                  0.117   Jarque-Bera (JB):                2.877\n",
      "Skew:                           0.270   Prob(JB):                        0.237\n",
      "Kurtosis:                       2.298   Cond. No.                     9.83e+04\n",
      "==============================================================================\n",
      "\n",
      "Notes:\n",
      "[1] Standard Errors assume that the covariance matrix of the errors is correctly specified.\n",
      "[2] The condition number is large, 9.83e+04. This might indicate that there are\n",
      "strong multicollinearity or other numerical problems.\n"
     ]
    }
   ],
   "source": [
    "uni[\"Acceptance\"] = uni[\"Acceptance Rate\"]\n",
    "\n",
    "result = sm.ols(formula=\"Acceptance ~ Tuition\", \n",
    "                data=uni).fit()\n",
    "print(result.summary())"
   ]
  },
  {
   "cell_type": "code",
   "execution_count": 31,
   "id": "ae0e3285",
   "metadata": {},
   "outputs": [
    {
     "name": "stdout",
     "output_type": "stream",
     "text": [
      "                            OLS Regression Results                            \n",
      "==============================================================================\n",
      "Dep. Variable:             Acceptance   R-squared:                       0.334\n",
      "Model:                            OLS   Adj. R-squared:                  0.310\n",
      "Method:                 Least Squares   F-statistic:                     14.04\n",
      "Date:                Tue, 30 Nov 2021   Prob (F-statistic):           1.69e-07\n",
      "Time:                        13:35:20   Log-Likelihood:                 23.613\n",
      "No. Observations:                  88   AIC:                            -39.23\n",
      "Df Residuals:                      84   BIC:                            -29.32\n",
      "Df Model:                           3                                         \n",
      "Covariance Type:            nonrobust                                         \n",
      "===================================================================================\n",
      "                      coef    std err          t      P>|t|      [0.025      0.975]\n",
      "-----------------------------------------------------------------------------------\n",
      "Intercept           0.6546      0.094      6.998      0.000       0.469       0.841\n",
      "Tuition         -8.257e-06   3.86e-06     -2.138      0.035   -1.59e-05   -5.77e-07\n",
      "Private             0.6154      0.174      3.537      0.001       0.269       0.961\n",
      "Tuition:Private -1.083e-05   5.01e-06     -2.161      0.034   -2.08e-05   -8.62e-07\n",
      "==============================================================================\n",
      "Omnibus:                        3.680   Durbin-Watson:                   1.095\n",
      "Prob(Omnibus):                  0.159   Jarque-Bera (JB):                3.557\n",
      "Skew:                           0.439   Prob(JB):                        0.169\n",
      "Kurtosis:                       2.553   Cond. No.                     4.31e+05\n",
      "==============================================================================\n",
      "\n",
      "Notes:\n",
      "[1] Standard Errors assume that the covariance matrix of the errors is correctly specified.\n",
      "[2] The condition number is large, 4.31e+05. This might indicate that there are\n",
      "strong multicollinearity or other numerical problems.\n"
     ]
    }
   ],
   "source": [
    "uni['Private']=uni[\"Public(0) or Private(1)\"]\n",
    "\n",
    "result = sm.ols(formula=\"Acceptance ~ Tuition+Tuition*Private\", \n",
    "                data=uni).fit()\n",
    "print(result.summary())"
   ]
  },
  {
   "cell_type": "code",
   "execution_count": 32,
   "id": "337a9630",
   "metadata": {},
   "outputs": [
    {
     "name": "stdout",
     "output_type": "stream",
     "text": [
      "                            OLS Regression Results                            \n",
      "==============================================================================\n",
      "Dep. Variable:              ln_Salary   R-squared:                       0.218\n",
      "Model:                            OLS   Adj. R-squared:                  0.209\n",
      "Method:                 Least Squares   F-statistic:                     23.96\n",
      "Date:                Tue, 30 Nov 2021   Prob (F-statistic):           4.56e-06\n",
      "Time:                        13:35:24   Log-Likelihood:                 55.464\n",
      "No. Observations:                  88   AIC:                            -106.9\n",
      "Df Residuals:                      86   BIC:                            -102.0\n",
      "Df Model:                           1                                         \n",
      "Covariance Type:            nonrobust                                         \n",
      "==============================================================================\n",
      "                 coef    std err          t      P>|t|      [0.025      0.975]\n",
      "------------------------------------------------------------------------------\n",
      "Intercept     10.8046      0.037    290.629      0.000      10.731      10.879\n",
      "Tuition     4.954e-06   1.01e-06      4.895      0.000    2.94e-06    6.97e-06\n",
      "==============================================================================\n",
      "Omnibus:                       17.923   Durbin-Watson:                   1.192\n",
      "Prob(Omnibus):                  0.000   Jarque-Bera (JB):               29.657\n",
      "Skew:                          -0.818   Prob(JB):                     3.63e-07\n",
      "Kurtosis:                       5.327   Cond. No.                     9.83e+04\n",
      "==============================================================================\n",
      "\n",
      "Notes:\n",
      "[1] Standard Errors assume that the covariance matrix of the errors is correctly specified.\n",
      "[2] The condition number is large, 9.83e+04. This might indicate that there are\n",
      "strong multicollinearity or other numerical problems.\n"
     ]
    }
   ],
   "source": [
    "uni[\"ln_Salary\"] = np.log(uni[\"Average Salary\"])\n",
    "\n",
    "result = sm.ols(formula=\"ln_Salary ~ Tuition\", \n",
    "                data=uni).fit()\n",
    "print(result.summary())"
   ]
  },
  {
   "cell_type": "code",
   "execution_count": null,
   "id": "6cd54c21",
   "metadata": {},
   "outputs": [],
   "source": []
  }
 ],
 "metadata": {
  "kernelspec": {
   "display_name": "Python 3",
   "language": "python",
   "name": "python3"
  },
  "language_info": {
   "codemirror_mode": {
    "name": "ipython",
    "version": 3
   },
   "file_extension": ".py",
   "mimetype": "text/x-python",
   "name": "python",
   "nbconvert_exporter": "python",
   "pygments_lexer": "ipython3",
   "version": "3.9.7"
  }
 },
 "nbformat": 4,
 "nbformat_minor": 5
}

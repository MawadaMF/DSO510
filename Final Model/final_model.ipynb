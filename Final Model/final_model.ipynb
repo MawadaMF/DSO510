{
 "cells": [
  {
   "cell_type": "markdown",
   "id": "feaff450",
   "metadata": {},
   "source": [
    "# DSO 510 Project Final Model Analysis"
   ]
  },
  {
   "cell_type": "code",
   "execution_count": 1,
   "id": "7eb67cf0",
   "metadata": {},
   "outputs": [],
   "source": [
    "import pandas as pd\n",
    "import numpy as np\n",
    "import seaborn as sns\n",
    "import matplotlib.pyplot as plt\n",
    "import statsmodels.formula.api as sm\n",
    "from statsmodels.stats.outliers_influence import variance_inflation_factor\n",
    "df=pd.read_csv('regression_data.csv')"
   ]
  },
  {
   "cell_type": "code",
   "execution_count": 2,
   "id": "bf4d9078",
   "metadata": {},
   "outputs": [
    {
     "data": {
      "text/html": [
       "<div>\n",
       "<style scoped>\n",
       "    .dataframe tbody tr th:only-of-type {\n",
       "        vertical-align: middle;\n",
       "    }\n",
       "\n",
       "    .dataframe tbody tr th {\n",
       "        vertical-align: top;\n",
       "    }\n",
       "\n",
       "    .dataframe thead th {\n",
       "        text-align: right;\n",
       "    }\n",
       "</style>\n",
       "<table border=\"1\" class=\"dataframe\">\n",
       "  <thead>\n",
       "    <tr style=\"text-align: right;\">\n",
       "      <th></th>\n",
       "      <th>school</th>\n",
       "      <th>acceptance_rate</th>\n",
       "      <th>average_salary</th>\n",
       "      <th>public_private</th>\n",
       "      <th>reputation_score</th>\n",
       "      <th>alumni</th>\n",
       "      <th>tuition_fees</th>\n",
       "      <th>distance_nearest_city</th>\n",
       "    </tr>\n",
       "  </thead>\n",
       "  <tbody>\n",
       "    <tr>\n",
       "      <th>0</th>\n",
       "      <td>University of Pennsylvania (Wharton)</td>\n",
       "      <td>0.0649</td>\n",
       "      <td>80354</td>\n",
       "      <td>1</td>\n",
       "      <td>4.8</td>\n",
       "      <td>99000.0</td>\n",
       "      <td>53534.0</td>\n",
       "      <td>1.560704</td>\n",
       "    </tr>\n",
       "    <tr>\n",
       "      <th>1</th>\n",
       "      <td>Washington University in St. Louis (Olin)</td>\n",
       "      <td>0.0970</td>\n",
       "      <td>67115</td>\n",
       "      <td>1</td>\n",
       "      <td>4.1</td>\n",
       "      <td>21000.0</td>\n",
       "      <td>51533.0</td>\n",
       "      <td>235.684727</td>\n",
       "    </tr>\n",
       "    <tr>\n",
       "      <th>2</th>\n",
       "      <td>University of California-Berkeley (Haas)</td>\n",
       "      <td>0.0430</td>\n",
       "      <td>73302</td>\n",
       "      <td>0</td>\n",
       "      <td>4.6</td>\n",
       "      <td>39000.0</td>\n",
       "      <td>42184.0</td>\n",
       "      <td>11.315188</td>\n",
       "    </tr>\n",
       "    <tr>\n",
       "      <th>3</th>\n",
       "      <td>Cornell University (Dyson)</td>\n",
       "      <td>0.0290</td>\n",
       "      <td>74493</td>\n",
       "      <td>1</td>\n",
       "      <td>4.3</td>\n",
       "      <td>48000.0</td>\n",
       "      <td>52853.0</td>\n",
       "      <td>178.500330</td>\n",
       "    </tr>\n",
       "    <tr>\n",
       "      <th>4</th>\n",
       "      <td>University of Michigan (Ross)</td>\n",
       "      <td>0.1200</td>\n",
       "      <td>72268</td>\n",
       "      <td>0</td>\n",
       "      <td>4.6</td>\n",
       "      <td>52000.0</td>\n",
       "      <td>32451.5</td>\n",
       "      <td>35.657174</td>\n",
       "    </tr>\n",
       "  </tbody>\n",
       "</table>\n",
       "</div>"
      ],
      "text/plain": [
       "                                      school  acceptance_rate  average_salary  \\\n",
       "0       University of Pennsylvania (Wharton)           0.0649           80354   \n",
       "1  Washington University in St. Louis (Olin)           0.0970           67115   \n",
       "2   University of California-Berkeley (Haas)           0.0430           73302   \n",
       "3                 Cornell University (Dyson)           0.0290           74493   \n",
       "4              University of Michigan (Ross)           0.1200           72268   \n",
       "\n",
       "   public_private  reputation_score   alumni  tuition_fees  \\\n",
       "0               1               4.8  99000.0       53534.0   \n",
       "1               1               4.1  21000.0       51533.0   \n",
       "2               0               4.6  39000.0       42184.0   \n",
       "3               1               4.3  48000.0       52853.0   \n",
       "4               0               4.6  52000.0       32451.5   \n",
       "\n",
       "   distance_nearest_city  \n",
       "0               1.560704  \n",
       "1             235.684727  \n",
       "2              11.315188  \n",
       "3             178.500330  \n",
       "4              35.657174  "
      ]
     },
     "execution_count": 2,
     "metadata": {},
     "output_type": "execute_result"
    }
   ],
   "source": [
    "df.head()"
   ]
  },
  {
   "cell_type": "code",
   "execution_count": 3,
   "id": "f73e41c2",
   "metadata": {},
   "outputs": [
    {
     "data": {
      "text/html": [
       "<div>\n",
       "<style scoped>\n",
       "    .dataframe tbody tr th:only-of-type {\n",
       "        vertical-align: middle;\n",
       "    }\n",
       "\n",
       "    .dataframe tbody tr th {\n",
       "        vertical-align: top;\n",
       "    }\n",
       "\n",
       "    .dataframe thead th {\n",
       "        text-align: right;\n",
       "    }\n",
       "</style>\n",
       "<table border=\"1\" class=\"dataframe\">\n",
       "  <thead>\n",
       "    <tr style=\"text-align: right;\">\n",
       "      <th></th>\n",
       "      <th>acceptance_rate</th>\n",
       "      <th>average_salary</th>\n",
       "      <th>public_private</th>\n",
       "      <th>reputation_score</th>\n",
       "      <th>alumni</th>\n",
       "      <th>tuition_fees</th>\n",
       "      <th>distance_nearest_city</th>\n",
       "    </tr>\n",
       "  </thead>\n",
       "  <tbody>\n",
       "    <tr>\n",
       "      <th>count</th>\n",
       "      <td>88.000</td>\n",
       "      <td>88.000</td>\n",
       "      <td>88.000</td>\n",
       "      <td>88.000</td>\n",
       "      <td>88.000</td>\n",
       "      <td>88.000</td>\n",
       "      <td>88.000</td>\n",
       "    </tr>\n",
       "    <tr>\n",
       "      <th>mean</th>\n",
       "      <td>0.437</td>\n",
       "      <td>58914.818</td>\n",
       "      <td>0.500</td>\n",
       "      <td>3.628</td>\n",
       "      <td>64530.341</td>\n",
       "      <td>34068.636</td>\n",
       "      <td>85.813</td>\n",
       "    </tr>\n",
       "    <tr>\n",
       "      <th>std</th>\n",
       "      <td>0.228</td>\n",
       "      <td>8506.707</td>\n",
       "      <td>0.503</td>\n",
       "      <td>0.395</td>\n",
       "      <td>67718.897</td>\n",
       "      <td>13804.430</td>\n",
       "      <td>96.301</td>\n",
       "    </tr>\n",
       "    <tr>\n",
       "      <th>min</th>\n",
       "      <td>0.029</td>\n",
       "      <td>34708.000</td>\n",
       "      <td>0.000</td>\n",
       "      <td>2.800</td>\n",
       "      <td>19000.000</td>\n",
       "      <td>10879.500</td>\n",
       "      <td>0.642</td>\n",
       "    </tr>\n",
       "    <tr>\n",
       "      <th>25%</th>\n",
       "      <td>0.235</td>\n",
       "      <td>53429.750</td>\n",
       "      <td>0.000</td>\n",
       "      <td>3.300</td>\n",
       "      <td>40000.000</td>\n",
       "      <td>21997.875</td>\n",
       "      <td>5.788</td>\n",
       "    </tr>\n",
       "    <tr>\n",
       "      <th>50%</th>\n",
       "      <td>0.438</td>\n",
       "      <td>58430.000</td>\n",
       "      <td>0.500</td>\n",
       "      <td>3.600</td>\n",
       "      <td>48000.000</td>\n",
       "      <td>32215.000</td>\n",
       "      <td>56.436</td>\n",
       "    </tr>\n",
       "    <tr>\n",
       "      <th>75%</th>\n",
       "      <td>0.620</td>\n",
       "      <td>63901.500</td>\n",
       "      <td>1.000</td>\n",
       "      <td>3.800</td>\n",
       "      <td>64750.000</td>\n",
       "      <td>48921.000</td>\n",
       "      <td>112.807</td>\n",
       "    </tr>\n",
       "    <tr>\n",
       "      <th>max</th>\n",
       "      <td>0.886</td>\n",
       "      <td>80546.000</td>\n",
       "      <td>1.000</td>\n",
       "      <td>4.800</td>\n",
       "      <td>575000.000</td>\n",
       "      <td>53910.000</td>\n",
       "      <td>363.630</td>\n",
       "    </tr>\n",
       "  </tbody>\n",
       "</table>\n",
       "</div>"
      ],
      "text/plain": [
       "       acceptance_rate  average_salary  public_private  reputation_score  \\\n",
       "count           88.000          88.000          88.000            88.000   \n",
       "mean             0.437       58914.818           0.500             3.628   \n",
       "std              0.228        8506.707           0.503             0.395   \n",
       "min              0.029       34708.000           0.000             2.800   \n",
       "25%              0.235       53429.750           0.000             3.300   \n",
       "50%              0.438       58430.000           0.500             3.600   \n",
       "75%              0.620       63901.500           1.000             3.800   \n",
       "max              0.886       80546.000           1.000             4.800   \n",
       "\n",
       "           alumni  tuition_fees  distance_nearest_city  \n",
       "count      88.000        88.000                 88.000  \n",
       "mean    64530.341     34068.636                 85.813  \n",
       "std     67718.897     13804.430                 96.301  \n",
       "min     19000.000     10879.500                  0.642  \n",
       "25%     40000.000     21997.875                  5.788  \n",
       "50%     48000.000     32215.000                 56.436  \n",
       "75%     64750.000     48921.000                112.807  \n",
       "max    575000.000     53910.000                363.630  "
      ]
     },
     "execution_count": 3,
     "metadata": {},
     "output_type": "execute_result"
    }
   ],
   "source": [
    "# Descriptive statistics\n",
    "df.describe().round(3)"
   ]
  },
  {
   "cell_type": "markdown",
   "id": "ca9cd0c7",
   "metadata": {},
   "source": [
    "## Calculate Variance Inflation Factors"
   ]
  },
  {
   "cell_type": "code",
   "execution_count": 4,
   "id": "1b36918a",
   "metadata": {},
   "outputs": [],
   "source": [
    "# Create a subset for the independent variables in the model\n",
    "X=df.iloc[:,[1,3,4,5,6,7]]"
   ]
  },
  {
   "cell_type": "code",
   "execution_count": 5,
   "id": "98e896f2",
   "metadata": {},
   "outputs": [],
   "source": [
    "# Create VIF dataframe\n",
    "vif_data = pd.DataFrame()\n",
    "vif_data[\"feature\"] = X.columns"
   ]
  },
  {
   "cell_type": "code",
   "execution_count": 6,
   "id": "5202f230",
   "metadata": {},
   "outputs": [
    {
     "name": "stdout",
     "output_type": "stream",
     "text": [
      "                 feature        VIF\n",
      "0        acceptance_rate   4.571270\n",
      "1         public_private   7.018867\n",
      "2       reputation_score  20.031593\n",
      "3                 alumni   1.984885\n",
      "4           tuition_fees  27.172796\n",
      "5  distance_nearest_city   1.949306\n"
     ]
    }
   ],
   "source": [
    "# Calculate VIF for each feature\n",
    "vif_data[\"VIF\"] = [variance_inflation_factor(X.values, i) for i in range(len(X.columns))]\n",
    "print(vif_data)"
   ]
  },
  {
   "cell_type": "markdown",
   "id": "343f440e",
   "metadata": {},
   "source": [
    "## Build Final Regression Model"
   ]
  },
  {
   "cell_type": "code",
   "execution_count": 7,
   "id": "a242f7f7",
   "metadata": {},
   "outputs": [],
   "source": [
    "# Prep the variables for the model \n",
    "ln_average_salary=np.log(df['average_salary'])\n",
    "acceptance_rate=df['acceptance_rate']\n",
    "public_private=df['public_private']\n",
    "reputation_score=df['reputation_score']\n",
    "ln_alumni=np.log(df['alumni'])\n",
    "tuition_fees=df['tuition_fees']\n",
    "ln_distance_nearest_city=np.log(df['distance_nearest_city'])"
   ]
  },
  {
   "cell_type": "code",
   "execution_count": 8,
   "id": "564100f2",
   "metadata": {},
   "outputs": [
    {
     "name": "stdout",
     "output_type": "stream",
     "text": [
      "                            OLS Regression Results                            \n",
      "==============================================================================\n",
      "Dep. Variable:      ln_average_salary   R-squared:                       0.729\n",
      "Model:                            OLS   Adj. R-squared:                  0.706\n",
      "Method:                 Least Squares   F-statistic:                     30.82\n",
      "Date:                Sun, 05 Dec 2021   Prob (F-statistic):           3.05e-20\n",
      "Time:                        21:36:51   Log-Likelihood:                 102.18\n",
      "No. Observations:                  88   AIC:                            -188.4\n",
      "Df Residuals:                      80   BIC:                            -168.5\n",
      "Df Model:                           7                                         \n",
      "Covariance Type:            nonrobust                                         \n",
      "===============================================================================================\n",
      "                                  coef    std err          t      P>|t|      [0.025      0.975]\n",
      "-----------------------------------------------------------------------------------------------\n",
      "Intercept                      10.1258      0.226     44.806      0.000       9.676      10.576\n",
      "acceptance_rate                -0.1610      0.055     -2.921      0.005      -0.271      -0.051\n",
      "public_private                 -0.1362      0.079     -1.721      0.089      -0.294       0.021\n",
      "reputation_score                0.1999      0.028      7.170      0.000       0.144       0.255\n",
      "ln_alumni                       0.0103      0.016      0.647      0.519      -0.021       0.042\n",
      "tuition_fees                 1.161e-06    1.7e-06      0.682      0.497   -2.23e-06    4.55e-06\n",
      "ln_distance_nearest_city        0.0066      0.005      1.266      0.209      -0.004       0.017\n",
      "public_private:tuition_fees  3.862e-06    2.2e-06      1.759      0.082   -5.07e-07    8.23e-06\n",
      "==============================================================================\n",
      "Omnibus:                       13.769   Durbin-Watson:                   1.725\n",
      "Prob(Omnibus):                  0.001   Jarque-Bera (JB):               25.206\n",
      "Skew:                          -0.567   Prob(JB):                     3.36e-06\n",
      "Kurtosis:                       5.364   Cond. No.                     1.28e+06\n",
      "==============================================================================\n",
      "\n",
      "Notes:\n",
      "[1] Standard Errors assume that the covariance matrix of the errors is correctly specified.\n",
      "[2] The condition number is large, 1.28e+06. This might indicate that there are\n",
      "strong multicollinearity or other numerical problems.\n"
     ]
    }
   ],
   "source": [
    "# Final model result\n",
    "result = sm.ols(formula=\"ln_average_salary ~ acceptance_rate + public_private + reputation_score +\\\n",
    "                         ln_alumni + tuition_fees + ln_distance_nearest_city + public_private*tuition_fees\", \n",
    "                data=df).fit()\n",
    "print(result.summary())"
   ]
  },
  {
   "cell_type": "markdown",
   "id": "76b5b249",
   "metadata": {},
   "source": [
    "## Analyze Residuals"
   ]
  },
  {
   "cell_type": "code",
   "execution_count": 9,
   "id": "50b14266",
   "metadata": {},
   "outputs": [
    {
     "data": {
      "image/png": "[encoded data removed]",
      "text/plain": [
       "<Figure size 504x432 with 1 Axes>"
      ]
     },
     "metadata": {
      "needs_background": "light"
     },
     "output_type": "display_data"
    }
   ],
   "source": [
    "# Plot actual ln average salary vs predicted ln average salary\n",
    "corr=ln_average_salary.corr(result.fittedvalues).round(2)\n",
    "plt.rcParams['figure.figsize']=(7,6)\n",
    "plt.scatter(x=ln_average_salary,y=result.fittedvalues, c = 'navy')\n",
    "plt.plot(ln_average_salary,ln_average_salary,color='cyan')\n",
    "plt.xlabel('Actual ln average salary $y _i$', fontsize=14)\n",
    "plt.ylabel('Predicted ln average salary $\\hat y _i$', fontsize=14)\n",
    "plt.title(f'Actual vs Predicted ln average salary: $y _i$ vs $\\hat y_i$ (Corr {corr})');"
   ]
  },
  {
   "cell_type": "code",
   "execution_count": 10,
   "id": "13d9c4c2",
   "metadata": {},
   "outputs": [
    {
     "data": {
      "image/png": "[encoded data removed]",
      "text/plain": [
       "<Figure size 504x432 with 1 Axes>"
      ]
     },
     "metadata": {
      "needs_background": "light"
     },
     "output_type": "display_data"
    }
   ],
   "source": [
    "# Plot actual average salary vs predicted average salary\n",
    "plt.scatter(x=np.e**ln_average_salary,y=np.e**result.fittedvalues, c = 'blue')\n",
    "plt.plot(np.e**ln_average_salary,np.e**ln_average_salary,color='cyan')\n",
    "plt.xlabel('Actual average salary $y _i$', fontsize=14)\n",
    "plt.ylabel('Predicted average salary $\\hat y _i$', fontsize=14)\n",
    "plt.xticks(range(40000, 90000, 10000),[f'${num}' for num in range(40000, 90000, 10000)])\n",
    "plt.yticks(range(40000, 90000, 10000),[f'${num}' for num in range(40000, 90000, 10000)])\n",
    "plt.title(f'Actual vs Predicted average salary: $y _i$ vs $\\hat y_i$ (Corr {corr})');"
   ]
  },
  {
   "cell_type": "code",
   "execution_count": 11,
   "id": "eadb8f83",
   "metadata": {},
   "outputs": [],
   "source": [
    "# Obtain standardized residuals\n",
    "influence = result.get_influence()\n",
    "standardized_residuals = influence.resid_studentized_internal"
   ]
  },
  {
   "cell_type": "code",
   "execution_count": 12,
   "id": "738ac865",
   "metadata": {},
   "outputs": [
    {
     "data": {
      "image/png": "[encoded data removed]",
      "text/plain": [
       "<Figure size 504x432 with 1 Axes>"
      ]
     },
     "metadata": {
      "needs_background": "light"
     },
     "output_type": "display_data"
    }
   ],
   "source": [
    "# Plot predicted average salary vs standardized residuals\n",
    "plt.scatter(x=np.e**result.fittedvalues,y=standardized_residuals, c = 'blue')\n",
    "plt.xlabel('Predicted average salary $\\hat y _i$', fontsize=14)\n",
    "plt.ylabel('Standardized Residuals',fontsize=14)\n",
    "plt.axhline(y=0, color='black', linestyle='--', linewidth=2)\n",
    "plt.xticks(range(45000, 90000, 5000),[f'${num}' for num in range(45000, 90000, 5000)])\n",
    "plt.title('Predicted Average Salary vs Standardized Residuals');"
   ]
  },
  {
   "cell_type": "code",
   "execution_count": 13,
   "id": "e077bf39",
   "metadata": {},
   "outputs": [
    {
     "data": {
      "text/html": [
       "<div>\n",
       "<style scoped>\n",
       "    .dataframe tbody tr th:only-of-type {\n",
       "        vertical-align: middle;\n",
       "    }\n",
       "\n",
       "    .dataframe tbody tr th {\n",
       "        vertical-align: top;\n",
       "    }\n",
       "\n",
       "    .dataframe thead th {\n",
       "        text-align: right;\n",
       "    }\n",
       "</style>\n",
       "<table border=\"1\" class=\"dataframe\">\n",
       "  <thead>\n",
       "    <tr style=\"text-align: right;\">\n",
       "      <th></th>\n",
       "      <th>school</th>\n",
       "      <th>acceptance_rate</th>\n",
       "      <th>average_salary</th>\n",
       "      <th>public_private</th>\n",
       "      <th>reputation_score</th>\n",
       "      <th>alumni</th>\n",
       "      <th>tuition_fees</th>\n",
       "      <th>distance_nearest_city</th>\n",
       "    </tr>\n",
       "  </thead>\n",
       "  <tbody>\n",
       "    <tr>\n",
       "      <th>66</th>\n",
       "      <td>Hult International Business School</td>\n",
       "      <td>0.5</td>\n",
       "      <td>34708</td>\n",
       "      <td>1</td>\n",
       "      <td>2.8</td>\n",
       "      <td>48000.0</td>\n",
       "      <td>38584.0</td>\n",
       "      <td>0.984505</td>\n",
       "    </tr>\n",
       "  </tbody>\n",
       "</table>\n",
       "</div>"
      ],
      "text/plain": [
       "                                school  acceptance_rate  average_salary  \\\n",
       "66  Hult International Business School              0.5           34708   \n",
       "\n",
       "    public_private  reputation_score   alumni  tuition_fees  \\\n",
       "66               1               2.8  48000.0       38584.0   \n",
       "\n",
       "    distance_nearest_city  \n",
       "66               0.984505  "
      ]
     },
     "execution_count": 13,
     "metadata": {},
     "output_type": "execute_result"
    }
   ],
   "source": [
    "# Investigate outlier\n",
    "outlier=df['average_salary'].min()\n",
    "df[df['average_salary']==outlier]"
   ]
  }
 ],
 "metadata": {
  "kernelspec": {
   "display_name": "Python 3",
   "language": "python",
   "name": "python3"
  },
  "language_info": {
   "codemirror_mode": {
    "name": "ipython",
    "version": 3
   },
   "file_extension": ".py",
   "mimetype": "text/x-python",
   "name": "python",
   "nbconvert_exporter": "python",
   "pygments_lexer": "ipython3",
   "version": "3.8.8"
  }
 },
 "nbformat": 4,
 "nbformat_minor": 5
}

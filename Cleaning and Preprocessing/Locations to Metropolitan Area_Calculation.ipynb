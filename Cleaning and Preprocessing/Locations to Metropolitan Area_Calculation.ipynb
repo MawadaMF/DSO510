{
 "cells": [
  {
   "cell_type": "code",
   "execution_count": 35,
   "id": "7cc416ae",
   "metadata": {},
   "outputs": [],
   "source": [
    "import pandas as pd "
   ]
  },
  {
   "cell_type": "markdown",
   "id": "9a1b28bd",
   "metadata": {},
   "source": [
    "## Reading in Excel Document Where I added the Coordinates for Each University and Nearest City"
   ]
  },
  {
   "cell_type": "code",
   "execution_count": 52,
   "id": "5a7b4a66",
   "metadata": {},
   "outputs": [
    {
     "data": {
      "text/html": [
       "<div>\n",
       "<style scoped>\n",
       "    .dataframe tbody tr th:only-of-type {\n",
       "        vertical-align: middle;\n",
       "    }\n",
       "\n",
       "    .dataframe tbody tr th {\n",
       "        vertical-align: top;\n",
       "    }\n",
       "\n",
       "    .dataframe thead th {\n",
       "        text-align: right;\n",
       "    }\n",
       "</style>\n",
       "<table border=\"1\" class=\"dataframe\">\n",
       "  <thead>\n",
       "    <tr style=\"text-align: right;\">\n",
       "      <th></th>\n",
       "      <th>School_x</th>\n",
       "      <th>business_school</th>\n",
       "      <th>Acceptance Rate</th>\n",
       "      <th>Average Salary</th>\n",
       "      <th>School_Latitude</th>\n",
       "      <th>School_Longitude</th>\n",
       "      <th>Nearest MTA_Lat</th>\n",
       "      <th>Nearest MTA_Long</th>\n",
       "      <th>In the MTA?</th>\n",
       "      <th>City Chosen</th>\n",
       "    </tr>\n",
       "  </thead>\n",
       "  <tbody>\n",
       "    <tr>\n",
       "      <th>0</th>\n",
       "      <td>University of Pennsylvania (Wharton)</td>\n",
       "      <td>Wharton</td>\n",
       "      <td>0.0649</td>\n",
       "      <td>80354</td>\n",
       "      <td>39.952169</td>\n",
       "      <td>-75.193460</td>\n",
       "      <td>39.952769</td>\n",
       "      <td>-75.164078</td>\n",
       "      <td>Yes</td>\n",
       "      <td>Philadelphia</td>\n",
       "    </tr>\n",
       "    <tr>\n",
       "      <th>1</th>\n",
       "      <td>Washington University in St. Louis (Olin)</td>\n",
       "      <td>Olin</td>\n",
       "      <td>0.0970</td>\n",
       "      <td>67115</td>\n",
       "      <td>38.651274</td>\n",
       "      <td>-90.311140</td>\n",
       "      <td>39.768689</td>\n",
       "      <td>-86.160549</td>\n",
       "      <td>No</td>\n",
       "      <td>Indianapolis</td>\n",
       "    </tr>\n",
       "    <tr>\n",
       "      <th>2</th>\n",
       "      <td>University of California-Berkeley (Haas)</td>\n",
       "      <td>Haas</td>\n",
       "      <td>0.0430</td>\n",
       "      <td>73302</td>\n",
       "      <td>37.871880</td>\n",
       "      <td>-122.258541</td>\n",
       "      <td>37.769506</td>\n",
       "      <td>-122.420162</td>\n",
       "      <td>No</td>\n",
       "      <td>San Francisco</td>\n",
       "    </tr>\n",
       "    <tr>\n",
       "      <th>3</th>\n",
       "      <td>Cornell University (Dyson)</td>\n",
       "      <td>Dyson</td>\n",
       "      <td>0.0290</td>\n",
       "      <td>74493</td>\n",
       "      <td>42.510492</td>\n",
       "      <td>-76.484029</td>\n",
       "      <td>40.711833</td>\n",
       "      <td>-74.006974</td>\n",
       "      <td>No</td>\n",
       "      <td>New York</td>\n",
       "    </tr>\n",
       "    <tr>\n",
       "      <th>4</th>\n",
       "      <td>University of Michigan (Ross)</td>\n",
       "      <td>Ross</td>\n",
       "      <td>0.1200</td>\n",
       "      <td>72268</td>\n",
       "      <td>42.278271</td>\n",
       "      <td>-83.737891</td>\n",
       "      <td>42.331541</td>\n",
       "      <td>-83.045640</td>\n",
       "      <td>No</td>\n",
       "      <td>Detroit</td>\n",
       "    </tr>\n",
       "    <tr>\n",
       "      <th>...</th>\n",
       "      <td>...</td>\n",
       "      <td>...</td>\n",
       "      <td>...</td>\n",
       "      <td>...</td>\n",
       "      <td>...</td>\n",
       "      <td>...</td>\n",
       "      <td>...</td>\n",
       "      <td>...</td>\n",
       "      <td>...</td>\n",
       "      <td>...</td>\n",
       "    </tr>\n",
       "    <tr>\n",
       "      <th>83</th>\n",
       "      <td>University of Delaware (Lerner)</td>\n",
       "      <td>Lerner</td>\n",
       "      <td>0.4640</td>\n",
       "      <td>54087</td>\n",
       "      <td>39.680713</td>\n",
       "      <td>-75.755743</td>\n",
       "      <td>39.952769</td>\n",
       "      <td>-75.164078</td>\n",
       "      <td>No</td>\n",
       "      <td>Philadelphia</td>\n",
       "    </tr>\n",
       "    <tr>\n",
       "      <th>84</th>\n",
       "      <td>University of Missouri-Columbia (Trulaske)</td>\n",
       "      <td>Trulaske</td>\n",
       "      <td>0.6917</td>\n",
       "      <td>48827</td>\n",
       "      <td>38.942564</td>\n",
       "      <td>-92.329646</td>\n",
       "      <td>39.768689</td>\n",
       "      <td>-86.160549</td>\n",
       "      <td>No</td>\n",
       "      <td>Indianapolis</td>\n",
       "    </tr>\n",
       "    <tr>\n",
       "      <th>85</th>\n",
       "      <td>St. Louis University (Chaifetz)</td>\n",
       "      <td>Chaifetz</td>\n",
       "      <td>0.8303</td>\n",
       "      <td>63333</td>\n",
       "      <td>38.637456</td>\n",
       "      <td>-90.235851</td>\n",
       "      <td>39.768689</td>\n",
       "      <td>-86.160549</td>\n",
       "      <td>No</td>\n",
       "      <td>Indianapolis</td>\n",
       "    </tr>\n",
       "    <tr>\n",
       "      <th>86</th>\n",
       "      <td>Sacred Heart University (Jack Welch)</td>\n",
       "      <td>Jack Welch</td>\n",
       "      <td>0.6080</td>\n",
       "      <td>54784</td>\n",
       "      <td>41.220586</td>\n",
       "      <td>-73.242395</td>\n",
       "      <td>40.711833</td>\n",
       "      <td>-74.006974</td>\n",
       "      <td>No</td>\n",
       "      <td>New York</td>\n",
       "    </tr>\n",
       "    <tr>\n",
       "      <th>87</th>\n",
       "      <td>Duquesne University (Palumbo Donahue)</td>\n",
       "      <td>Donahue</td>\n",
       "      <td>0.7600</td>\n",
       "      <td>50592</td>\n",
       "      <td>40.437479</td>\n",
       "      <td>-79.993720</td>\n",
       "      <td>39.952769</td>\n",
       "      <td>-75.164078</td>\n",
       "      <td>No</td>\n",
       "      <td>Philadelphia</td>\n",
       "    </tr>\n",
       "  </tbody>\n",
       "</table>\n",
       "<p>88 rows × 10 columns</p>\n",
       "</div>"
      ],
      "text/plain": [
       "                                      School_x business_school  \\\n",
       "0         University of Pennsylvania (Wharton)         Wharton   \n",
       "1    Washington University in St. Louis (Olin)            Olin   \n",
       "2     University of California-Berkeley (Haas)            Haas   \n",
       "3                   Cornell University (Dyson)           Dyson   \n",
       "4                University of Michigan (Ross)            Ross   \n",
       "..                                         ...             ...   \n",
       "83             University of Delaware (Lerner)          Lerner   \n",
       "84  University of Missouri-Columbia (Trulaske)        Trulaske   \n",
       "85             St. Louis University (Chaifetz)        Chaifetz   \n",
       "86        Sacred Heart University (Jack Welch)      Jack Welch   \n",
       "87       Duquesne University (Palumbo Donahue)         Donahue   \n",
       "\n",
       "    Acceptance Rate  Average Salary  School_Latitude  School_Longitude  \\\n",
       "0            0.0649           80354        39.952169        -75.193460   \n",
       "1            0.0970           67115        38.651274        -90.311140   \n",
       "2            0.0430           73302        37.871880       -122.258541   \n",
       "3            0.0290           74493        42.510492        -76.484029   \n",
       "4            0.1200           72268        42.278271        -83.737891   \n",
       "..              ...             ...              ...               ...   \n",
       "83           0.4640           54087        39.680713        -75.755743   \n",
       "84           0.6917           48827        38.942564        -92.329646   \n",
       "85           0.8303           63333        38.637456        -90.235851   \n",
       "86           0.6080           54784        41.220586        -73.242395   \n",
       "87           0.7600           50592        40.437479        -79.993720   \n",
       "\n",
       "    Nearest MTA_Lat  Nearest MTA_Long In the MTA?    City Chosen  \n",
       "0         39.952769        -75.164078         Yes   Philadelphia  \n",
       "1         39.768689        -86.160549          No   Indianapolis  \n",
       "2         37.769506       -122.420162          No  San Francisco  \n",
       "3         40.711833        -74.006974          No       New York  \n",
       "4         42.331541        -83.045640          No        Detroit  \n",
       "..              ...               ...         ...            ...  \n",
       "83        39.952769        -75.164078          No   Philadelphia  \n",
       "84        39.768689        -86.160549          No   Indianapolis  \n",
       "85        39.768689        -86.160549          No   Indianapolis  \n",
       "86        40.711833        -74.006974          No       New York  \n",
       "87        39.952769        -75.164078          No   Philadelphia  \n",
       "\n",
       "[88 rows x 10 columns]"
      ]
     },
     "execution_count": 52,
     "metadata": {},
     "output_type": "execute_result"
    }
   ],
   "source": [
    "locs_dist = pd.read_csv('locations_uni.csv')\n",
    "locs_dist"
   ]
  },
  {
   "cell_type": "code",
   "execution_count": 53,
   "id": "c866bf56",
   "metadata": {},
   "outputs": [],
   "source": [
    "# created single column with tuple for each school's latitude and longitude\n",
    "locs_dist['New_School_Cord'] = list(zip(locs_dist['School_Latitude'],locs_dist[\"School_Longitude\"]))"
   ]
  },
  {
   "cell_type": "code",
   "execution_count": 54,
   "id": "4268deb0",
   "metadata": {},
   "outputs": [],
   "source": [
    "#created a single column with tuple of each nearest selected city's latitude and longitude\n",
    "locs_dist['New_City_Cord'] = list(zip(locs_dist['Nearest MTA_Lat'],locs_dist['Nearest MTA_Long']))"
   ]
  },
  {
   "cell_type": "markdown",
   "id": "211a8d21",
   "metadata": {},
   "source": [
    "## Distance Calculation Using Geopy"
   ]
  },
  {
   "cell_type": "code",
   "execution_count": 55,
   "id": "becad3c9",
   "metadata": {},
   "outputs": [],
   "source": [
    "from geopy import distance"
   ]
  },
  {
   "cell_type": "code",
   "execution_count": 56,
   "id": "a9d99756",
   "metadata": {
    "scrolled": false
   },
   "outputs": [
    {
     "data": {
      "text/plain": [
       "0     (39.95216943, -75.19346047)\n",
       "1     (38.65127384, -90.31113952)\n",
       "2     (37.87188001, -122.2585412)\n",
       "3     (42.51049151, -76.48402902)\n",
       "4     (42.27827145, -83.73789088)\n",
       "                 ...             \n",
       "83      (39.68071275, -75.755743)\n",
       "84    (38.94256431, -92.32964577)\n",
       "85     (38.6374555, -90.23585133)\n",
       "86     (41.22058619, -73.2423947)\n",
       "87    (40.43747921, -79.99371967)\n",
       "Name: New_School_Cord, Length: 88, dtype: object"
      ]
     },
     "execution_count": 56,
     "metadata": {},
     "output_type": "execute_result"
    }
   ],
   "source": [
    "locs_dist['New_School_Cord']"
   ]
  },
  {
   "cell_type": "code",
   "execution_count": 65,
   "id": "353642cd",
   "metadata": {},
   "outputs": [],
   "source": [
    "#code used using geopy's distance to calculate the distance between the school and city selected\n",
    "locs_dist['Distance to Nearest City'] = locs_dist[['New_School_Cord','New_City_Cord']]\\\n",
    ".apply(lambda x: distance.distance(*x).miles,axis=1)"
   ]
  },
  {
   "cell_type": "code",
   "execution_count": 66,
   "id": "36d41d71",
   "metadata": {
    "scrolled": false
   },
   "outputs": [
    {
     "data": {
      "text/html": [
       "<div>\n",
       "<style scoped>\n",
       "    .dataframe tbody tr th:only-of-type {\n",
       "        vertical-align: middle;\n",
       "    }\n",
       "\n",
       "    .dataframe tbody tr th {\n",
       "        vertical-align: top;\n",
       "    }\n",
       "\n",
       "    .dataframe thead th {\n",
       "        text-align: right;\n",
       "    }\n",
       "</style>\n",
       "<table border=\"1\" class=\"dataframe\">\n",
       "  <thead>\n",
       "    <tr style=\"text-align: right;\">\n",
       "      <th></th>\n",
       "      <th>School_x</th>\n",
       "      <th>business_school</th>\n",
       "      <th>Acceptance Rate</th>\n",
       "      <th>Average Salary</th>\n",
       "      <th>School_Latitude</th>\n",
       "      <th>School_Longitude</th>\n",
       "      <th>Nearest MTA_Lat</th>\n",
       "      <th>Nearest MTA_Long</th>\n",
       "      <th>In the MTA?</th>\n",
       "      <th>City Chosen</th>\n",
       "      <th>New_School_Cord</th>\n",
       "      <th>New_City_Cord</th>\n",
       "      <th>Distance to Nearest City</th>\n",
       "    </tr>\n",
       "  </thead>\n",
       "  <tbody>\n",
       "    <tr>\n",
       "      <th>0</th>\n",
       "      <td>University of Pennsylvania (Wharton)</td>\n",
       "      <td>Wharton</td>\n",
       "      <td>0.0649</td>\n",
       "      <td>80354</td>\n",
       "      <td>39.952169</td>\n",
       "      <td>-75.193460</td>\n",
       "      <td>39.952769</td>\n",
       "      <td>-75.164078</td>\n",
       "      <td>Yes</td>\n",
       "      <td>Philadelphia</td>\n",
       "      <td>(39.95216943, -75.19346047)</td>\n",
       "      <td>(39.95276917, -75.16407793)</td>\n",
       "      <td>1.560704</td>\n",
       "    </tr>\n",
       "    <tr>\n",
       "      <th>1</th>\n",
       "      <td>Washington University in St. Louis (Olin)</td>\n",
       "      <td>Olin</td>\n",
       "      <td>0.0970</td>\n",
       "      <td>67115</td>\n",
       "      <td>38.651274</td>\n",
       "      <td>-90.311140</td>\n",
       "      <td>39.768689</td>\n",
       "      <td>-86.160549</td>\n",
       "      <td>No</td>\n",
       "      <td>Indianapolis</td>\n",
       "      <td>(38.65127384, -90.31113952)</td>\n",
       "      <td>(39.76868853, -86.16054897)</td>\n",
       "      <td>235.684726</td>\n",
       "    </tr>\n",
       "    <tr>\n",
       "      <th>2</th>\n",
       "      <td>University of California-Berkeley (Haas)</td>\n",
       "      <td>Haas</td>\n",
       "      <td>0.0430</td>\n",
       "      <td>73302</td>\n",
       "      <td>37.871880</td>\n",
       "      <td>-122.258541</td>\n",
       "      <td>37.769506</td>\n",
       "      <td>-122.420162</td>\n",
       "      <td>No</td>\n",
       "      <td>San Francisco</td>\n",
       "      <td>(37.87188001, -122.2585412)</td>\n",
       "      <td>(37.76950648, -122.4201616)</td>\n",
       "      <td>11.315188</td>\n",
       "    </tr>\n",
       "    <tr>\n",
       "      <th>3</th>\n",
       "      <td>Cornell University (Dyson)</td>\n",
       "      <td>Dyson</td>\n",
       "      <td>0.0290</td>\n",
       "      <td>74493</td>\n",
       "      <td>42.510492</td>\n",
       "      <td>-76.484029</td>\n",
       "      <td>40.711833</td>\n",
       "      <td>-74.006974</td>\n",
       "      <td>No</td>\n",
       "      <td>New York</td>\n",
       "      <td>(42.51049151, -76.48402902)</td>\n",
       "      <td>(40.71183265, -74.0069742)</td>\n",
       "      <td>178.500330</td>\n",
       "    </tr>\n",
       "    <tr>\n",
       "      <th>4</th>\n",
       "      <td>University of Michigan (Ross)</td>\n",
       "      <td>Ross</td>\n",
       "      <td>0.1200</td>\n",
       "      <td>72268</td>\n",
       "      <td>42.278271</td>\n",
       "      <td>-83.737891</td>\n",
       "      <td>42.331541</td>\n",
       "      <td>-83.045640</td>\n",
       "      <td>No</td>\n",
       "      <td>Detroit</td>\n",
       "      <td>(42.27827145, -83.73789088)</td>\n",
       "      <td>(42.33154136, -83.04563958)</td>\n",
       "      <td>35.657174</td>\n",
       "    </tr>\n",
       "  </tbody>\n",
       "</table>\n",
       "</div>"
      ],
      "text/plain": [
       "                                    School_x business_school  Acceptance Rate  \\\n",
       "0       University of Pennsylvania (Wharton)         Wharton           0.0649   \n",
       "1  Washington University in St. Louis (Olin)            Olin           0.0970   \n",
       "2   University of California-Berkeley (Haas)            Haas           0.0430   \n",
       "3                 Cornell University (Dyson)           Dyson           0.0290   \n",
       "4              University of Michigan (Ross)            Ross           0.1200   \n",
       "\n",
       "   Average Salary  School_Latitude  School_Longitude  Nearest MTA_Lat  \\\n",
       "0           80354        39.952169        -75.193460        39.952769   \n",
       "1           67115        38.651274        -90.311140        39.768689   \n",
       "2           73302        37.871880       -122.258541        37.769506   \n",
       "3           74493        42.510492        -76.484029        40.711833   \n",
       "4           72268        42.278271        -83.737891        42.331541   \n",
       "\n",
       "   Nearest MTA_Long In the MTA?    City Chosen              New_School_Cord  \\\n",
       "0        -75.164078         Yes   Philadelphia  (39.95216943, -75.19346047)   \n",
       "1        -86.160549          No   Indianapolis  (38.65127384, -90.31113952)   \n",
       "2       -122.420162          No  San Francisco  (37.87188001, -122.2585412)   \n",
       "3        -74.006974          No       New York  (42.51049151, -76.48402902)   \n",
       "4        -83.045640          No        Detroit  (42.27827145, -83.73789088)   \n",
       "\n",
       "                 New_City_Cord  Distance to Nearest City  \n",
       "0  (39.95276917, -75.16407793)                  1.560704  \n",
       "1  (39.76868853, -86.16054897)                235.684726  \n",
       "2  (37.76950648, -122.4201616)                 11.315188  \n",
       "3   (40.71183265, -74.0069742)                178.500330  \n",
       "4  (42.33154136, -83.04563958)                 35.657174  "
      ]
     },
     "execution_count": 66,
     "metadata": {},
     "output_type": "execute_result"
    }
   ],
   "source": [
    "locs_dist.head()"
   ]
  },
  {
   "cell_type": "markdown",
   "id": "2cf22eea",
   "metadata": {},
   "source": [
    "## There was one value inputed incorrectly that I had to change"
   ]
  },
  {
   "cell_type": "code",
   "execution_count": 68,
   "id": "af1dbafc",
   "metadata": {},
   "outputs": [
    {
     "data": {
      "text/plain": [
       "6501.085681999584"
      ]
     },
     "execution_count": 68,
     "metadata": {},
     "output_type": "execute_result"
    }
   ],
   "source": [
    "locs_dist['Distance to Nearest City'].max()"
   ]
  },
  {
   "cell_type": "code",
   "execution_count": 67,
   "id": "113c6822",
   "metadata": {
    "scrolled": true
   },
   "outputs": [
    {
     "data": {
      "text/html": [
       "<div>\n",
       "<style scoped>\n",
       "    .dataframe tbody tr th:only-of-type {\n",
       "        vertical-align: middle;\n",
       "    }\n",
       "\n",
       "    .dataframe tbody tr th {\n",
       "        vertical-align: top;\n",
       "    }\n",
       "\n",
       "    .dataframe thead th {\n",
       "        text-align: right;\n",
       "    }\n",
       "</style>\n",
       "<table border=\"1\" class=\"dataframe\">\n",
       "  <thead>\n",
       "    <tr style=\"text-align: right;\">\n",
       "      <th></th>\n",
       "      <th>School_x</th>\n",
       "      <th>Distance to Nearest City</th>\n",
       "      <th>City Chosen</th>\n",
       "      <th>Nearest MTA_Lat</th>\n",
       "      <th>Nearest MTA_Long</th>\n",
       "    </tr>\n",
       "  </thead>\n",
       "  <tbody>\n",
       "    <tr>\n",
       "      <th>62</th>\n",
       "      <td>University of Wisconsin-Madison</td>\n",
       "      <td>6501.085682</td>\n",
       "      <td>Milwaukee</td>\n",
       "      <td>43.037596</td>\n",
       "      <td>-87.908132</td>\n",
       "    </tr>\n",
       "  </tbody>\n",
       "</table>\n",
       "</div>"
      ],
      "text/plain": [
       "                           School_x  Distance to Nearest City City Chosen  \\\n",
       "62  University of Wisconsin-Madison               6501.085682   Milwaukee   \n",
       "\n",
       "    Nearest MTA_Lat  Nearest MTA_Long  \n",
       "62        43.037596        -87.908132  "
      ]
     },
     "execution_count": 67,
     "metadata": {},
     "output_type": "execute_result"
    }
   ],
   "source": [
    "max_distance = locs_dist[\"Distance to Nearest City\"].max()\n",
    "locs_dist.loc[locs_dist['Distance to Nearest City']== max_distance, ['School_x','Distance to Nearest City','City Chosen','Nearest MTA_Lat','Nearest MTA_Long']]"
   ]
  },
  {
   "cell_type": "code",
   "execution_count": 61,
   "id": "747a04d2",
   "metadata": {},
   "outputs": [],
   "source": [
    "locs_dist.loc[62,'Nearest MTA_Long']= -87.908132"
   ]
  },
  {
   "cell_type": "code",
   "execution_count": 62,
   "id": "ce1ba09d",
   "metadata": {},
   "outputs": [
    {
     "data": {
      "text/plain": [
       "School_x                    University of Wisconsin-Madison\n",
       "business_school                                   Wisconsin\n",
       "Acceptance Rate                                        0.35\n",
       "Average Salary                                        58603\n",
       "School_Latitude                                   43.072622\n",
       "School_Longitude                                  -89.40139\n",
       "Nearest MTA_Lat                                   43.037596\n",
       "Nearest MTA_Long                                 -87.908132\n",
       "In the MTA?                                              No\n",
       "City Chosen                                       Milwaukee\n",
       "New_School_Cord                    (43.07262238, -89.40139)\n",
       "New_City_Cord                    (43.03759575, 87.90813192)\n",
       "Distance to Nearest City                        6501.085682\n",
       "Name: 62, dtype: object"
      ]
     },
     "execution_count": 62,
     "metadata": {},
     "output_type": "execute_result"
    }
   ],
   "source": [
    "locs_dist.iloc[62]"
   ]
  },
  {
   "cell_type": "code",
   "execution_count": 63,
   "id": "463e8e92",
   "metadata": {
    "scrolled": true
   },
   "outputs": [
    {
     "data": {
      "text/plain": [
       "School_x                    University of Wisconsin-Madison\n",
       "business_school                                   Wisconsin\n",
       "Acceptance Rate                                        0.35\n",
       "Average Salary                                        58603\n",
       "School_Latitude                                   43.072622\n",
       "School_Longitude                                  -89.40139\n",
       "Nearest MTA_Lat                                   43.037596\n",
       "Nearest MTA_Long                                 -87.908132\n",
       "In the MTA?                                              No\n",
       "City Chosen                                       Milwaukee\n",
       "New_School_Cord                    (43.07262238, -89.40139)\n",
       "New_City_Cord                    (43.03759575, 87.90813192)\n",
       "Distance to Nearest City                        6501.085682\n",
       "Name: 62, dtype: object"
      ]
     },
     "execution_count": 63,
     "metadata": {},
     "output_type": "execute_result"
    }
   ],
   "source": [
    "locs_dist.iloc[62]"
   ]
  }
 ],
 "metadata": {
  "kernelspec": {
   "display_name": "Python 3",
   "language": "python",
   "name": "python3"
  },
  "language_info": {
   "codemirror_mode": {
    "name": "ipython",
    "version": 3
   },
   "file_extension": ".py",
   "mimetype": "text/x-python",
   "name": "python",
   "nbconvert_exporter": "python",
   "pygments_lexer": "ipython3",
   "version": "3.8.8"
  }
 },
 "nbformat": 4,
 "nbformat_minor": 5
}

{
 "cells": [
  {
   "cell_type": "markdown",
   "id": "6df0149e",
   "metadata": {},
   "source": [
    "# DSO 510 Project Data Prep for Final Model"
   ]
  },
  {
   "cell_type": "code",
   "execution_count": 1,
   "id": "63daf94f",
   "metadata": {},
   "outputs": [],
   "source": [
    "import pandas as pd\n",
    "import numpy as np\n",
    "import seaborn as sns\n",
    "import matplotlib.pyplot as plt\n",
    "import statsmodels.formula.api as sm\n",
    "df=pd.read_csv('universities_cleaned.csv')"
   ]
  },
  {
   "cell_type": "code",
   "execution_count": 2,
   "id": "1866e256",
   "metadata": {},
   "outputs": [
    {
     "data": {
      "text/html": [
       "<div>\n",
       "<style scoped>\n",
       "    .dataframe tbody tr th:only-of-type {\n",
       "        vertical-align: middle;\n",
       "    }\n",
       "\n",
       "    .dataframe tbody tr th {\n",
       "        vertical-align: top;\n",
       "    }\n",
       "\n",
       "    .dataframe thead th {\n",
       "        text-align: right;\n",
       "    }\n",
       "</style>\n",
       "<table border=\"1\" class=\"dataframe\">\n",
       "  <thead>\n",
       "    <tr style=\"text-align: right;\">\n",
       "      <th></th>\n",
       "      <th>School_x</th>\n",
       "      <th>business_school</th>\n",
       "      <th>Acceptance Rate</th>\n",
       "      <th>Average Salary</th>\n",
       "      <th>Public(0) or Private(1)</th>\n",
       "      <th>Reputation Score</th>\n",
       "      <th>Alumni</th>\n",
       "      <th>Tuition_Fees_17&amp;18</th>\n",
       "      <th>Distance to Nearest City (Miles)</th>\n",
       "    </tr>\n",
       "  </thead>\n",
       "  <tbody>\n",
       "    <tr>\n",
       "      <th>0</th>\n",
       "      <td>University of Pennsylvania (Wharton)</td>\n",
       "      <td>Wharton</td>\n",
       "      <td>0.0649</td>\n",
       "      <td>80354</td>\n",
       "      <td>1</td>\n",
       "      <td>4.8</td>\n",
       "      <td>99000.0</td>\n",
       "      <td>53534.0</td>\n",
       "      <td>1.560704</td>\n",
       "    </tr>\n",
       "    <tr>\n",
       "      <th>1</th>\n",
       "      <td>Washington University in St. Louis (Olin)</td>\n",
       "      <td>Olin</td>\n",
       "      <td>0.0970</td>\n",
       "      <td>67115</td>\n",
       "      <td>1</td>\n",
       "      <td>4.1</td>\n",
       "      <td>21000.0</td>\n",
       "      <td>51533.0</td>\n",
       "      <td>235.684727</td>\n",
       "    </tr>\n",
       "    <tr>\n",
       "      <th>2</th>\n",
       "      <td>University of California-Berkeley (Haas)</td>\n",
       "      <td>Haas</td>\n",
       "      <td>0.0430</td>\n",
       "      <td>73302</td>\n",
       "      <td>0</td>\n",
       "      <td>4.6</td>\n",
       "      <td>39000.0</td>\n",
       "      <td>42184.0</td>\n",
       "      <td>11.315188</td>\n",
       "    </tr>\n",
       "    <tr>\n",
       "      <th>3</th>\n",
       "      <td>Cornell University (Dyson)</td>\n",
       "      <td>Dyson</td>\n",
       "      <td>0.0290</td>\n",
       "      <td>74493</td>\n",
       "      <td>1</td>\n",
       "      <td>4.3</td>\n",
       "      <td>NaN</td>\n",
       "      <td>52853.0</td>\n",
       "      <td>178.500330</td>\n",
       "    </tr>\n",
       "    <tr>\n",
       "      <th>4</th>\n",
       "      <td>University of Michigan (Ross)</td>\n",
       "      <td>Ross</td>\n",
       "      <td>0.1200</td>\n",
       "      <td>72268</td>\n",
       "      <td>0</td>\n",
       "      <td>4.6</td>\n",
       "      <td>52000.0</td>\n",
       "      <td>32451.5</td>\n",
       "      <td>35.657174</td>\n",
       "    </tr>\n",
       "  </tbody>\n",
       "</table>\n",
       "</div>"
      ],
      "text/plain": [
       "                                    School_x business_school  Acceptance Rate  \\\n",
       "0       University of Pennsylvania (Wharton)         Wharton           0.0649   \n",
       "1  Washington University in St. Louis (Olin)            Olin           0.0970   \n",
       "2   University of California-Berkeley (Haas)            Haas           0.0430   \n",
       "3                 Cornell University (Dyson)           Dyson           0.0290   \n",
       "4              University of Michigan (Ross)            Ross           0.1200   \n",
       "\n",
       "   Average Salary  Public(0) or Private(1)  Reputation Score   Alumni  \\\n",
       "0           80354                        1               4.8  99000.0   \n",
       "1           67115                        1               4.1  21000.0   \n",
       "2           73302                        0               4.6  39000.0   \n",
       "3           74493                        1               4.3      NaN   \n",
       "4           72268                        0               4.6  52000.0   \n",
       "\n",
       "   Tuition_Fees_17&18  Distance to Nearest City (Miles)  \n",
       "0             53534.0                          1.560704  \n",
       "1             51533.0                        235.684727  \n",
       "2             42184.0                         11.315188  \n",
       "3             52853.0                        178.500330  \n",
       "4             32451.5                         35.657174  "
      ]
     },
     "execution_count": 2,
     "metadata": {},
     "output_type": "execute_result"
    }
   ],
   "source": [
    "df.head()"
   ]
  },
  {
   "cell_type": "code",
   "execution_count": 3,
   "id": "b467338b",
   "metadata": {},
   "outputs": [
    {
     "data": {
      "text/plain": [
       "Index(['School_x', 'Acceptance Rate', 'Average Salary',\n",
       "       'Public(0) or Private(1)', 'Reputation Score', 'Alumni',\n",
       "       'Tuition_Fees_17&18', 'Distance to Nearest City (Miles)'],\n",
       "      dtype='object')"
      ]
     },
     "execution_count": 3,
     "metadata": {},
     "output_type": "execute_result"
    }
   ],
   "source": [
    "# Remove unnecessary column\n",
    "df.drop(columns=['business_school'],inplace=True)\n",
    "df.columns"
   ]
  },
  {
   "cell_type": "code",
   "execution_count": 4,
   "id": "0cfcf5f6",
   "metadata": {},
   "outputs": [
    {
     "data": {
      "text/html": [
       "<div>\n",
       "<style scoped>\n",
       "    .dataframe tbody tr th:only-of-type {\n",
       "        vertical-align: middle;\n",
       "    }\n",
       "\n",
       "    .dataframe tbody tr th {\n",
       "        vertical-align: top;\n",
       "    }\n",
       "\n",
       "    .dataframe thead th {\n",
       "        text-align: right;\n",
       "    }\n",
       "</style>\n",
       "<table border=\"1\" class=\"dataframe\">\n",
       "  <thead>\n",
       "    <tr style=\"text-align: right;\">\n",
       "      <th></th>\n",
       "      <th>school</th>\n",
       "      <th>acceptance_rate</th>\n",
       "      <th>average_salary</th>\n",
       "      <th>public_private</th>\n",
       "      <th>reputation_score</th>\n",
       "      <th>alumni</th>\n",
       "      <th>tuition_fees</th>\n",
       "      <th>distance_nearest_city</th>\n",
       "    </tr>\n",
       "  </thead>\n",
       "  <tbody>\n",
       "    <tr>\n",
       "      <th>0</th>\n",
       "      <td>University of Pennsylvania (Wharton)</td>\n",
       "      <td>0.0649</td>\n",
       "      <td>80354</td>\n",
       "      <td>1</td>\n",
       "      <td>4.8</td>\n",
       "      <td>99000.0</td>\n",
       "      <td>53534.0</td>\n",
       "      <td>1.560704</td>\n",
       "    </tr>\n",
       "    <tr>\n",
       "      <th>1</th>\n",
       "      <td>Washington University in St. Louis (Olin)</td>\n",
       "      <td>0.0970</td>\n",
       "      <td>67115</td>\n",
       "      <td>1</td>\n",
       "      <td>4.1</td>\n",
       "      <td>21000.0</td>\n",
       "      <td>51533.0</td>\n",
       "      <td>235.684727</td>\n",
       "    </tr>\n",
       "    <tr>\n",
       "      <th>2</th>\n",
       "      <td>University of California-Berkeley (Haas)</td>\n",
       "      <td>0.0430</td>\n",
       "      <td>73302</td>\n",
       "      <td>0</td>\n",
       "      <td>4.6</td>\n",
       "      <td>39000.0</td>\n",
       "      <td>42184.0</td>\n",
       "      <td>11.315188</td>\n",
       "    </tr>\n",
       "    <tr>\n",
       "      <th>3</th>\n",
       "      <td>Cornell University (Dyson)</td>\n",
       "      <td>0.0290</td>\n",
       "      <td>74493</td>\n",
       "      <td>1</td>\n",
       "      <td>4.3</td>\n",
       "      <td>NaN</td>\n",
       "      <td>52853.0</td>\n",
       "      <td>178.500330</td>\n",
       "    </tr>\n",
       "    <tr>\n",
       "      <th>4</th>\n",
       "      <td>University of Michigan (Ross)</td>\n",
       "      <td>0.1200</td>\n",
       "      <td>72268</td>\n",
       "      <td>0</td>\n",
       "      <td>4.6</td>\n",
       "      <td>52000.0</td>\n",
       "      <td>32451.5</td>\n",
       "      <td>35.657174</td>\n",
       "    </tr>\n",
       "  </tbody>\n",
       "</table>\n",
       "</div>"
      ],
      "text/plain": [
       "                                      school  acceptance_rate  average_salary  \\\n",
       "0       University of Pennsylvania (Wharton)           0.0649           80354   \n",
       "1  Washington University in St. Louis (Olin)           0.0970           67115   \n",
       "2   University of California-Berkeley (Haas)           0.0430           73302   \n",
       "3                 Cornell University (Dyson)           0.0290           74493   \n",
       "4              University of Michigan (Ross)           0.1200           72268   \n",
       "\n",
       "   public_private  reputation_score   alumni  tuition_fees  \\\n",
       "0               1               4.8  99000.0       53534.0   \n",
       "1               1               4.1  21000.0       51533.0   \n",
       "2               0               4.6  39000.0       42184.0   \n",
       "3               1               4.3      NaN       52853.0   \n",
       "4               0               4.6  52000.0       32451.5   \n",
       "\n",
       "   distance_nearest_city  \n",
       "0               1.560704  \n",
       "1             235.684727  \n",
       "2              11.315188  \n",
       "3             178.500330  \n",
       "4              35.657174  "
      ]
     },
     "execution_count": 4,
     "metadata": {},
     "output_type": "execute_result"
    }
   ],
   "source": [
    "# Reformat column names\n",
    "df.rename(columns={'School_x':'school', \n",
    "                   'Acceptance Rate':'acceptance_rate',\n",
    "                   'Average Salary':'average_salary', \n",
    "                   'Public(0) or Private(1)':'public_private',\n",
    "                   'Reputation Score':'reputation_score',\n",
    "                   'Alumni':'alumni',\n",
    "                   'Tuition_Fees_17&18':'tuition_fees',\n",
    "                   'Distance to Nearest City (Miles)':'distance_nearest_city'\n",
    "                  },inplace=True)\n",
    "df.head()"
   ]
  },
  {
   "cell_type": "code",
   "execution_count": 5,
   "id": "1d5566be",
   "metadata": {},
   "outputs": [
    {
     "data": {
      "text/plain": [
       "school                    0\n",
       "acceptance_rate           0\n",
       "average_salary            0\n",
       "public_private            0\n",
       "reputation_score         34\n",
       "alumni                   21\n",
       "tuition_fees              0\n",
       "distance_nearest_city     0\n",
       "dtype: int64"
      ]
     },
     "execution_count": 5,
     "metadata": {},
     "output_type": "execute_result"
    }
   ],
   "source": [
    "# Check for missing values\n",
    "df.isna().sum()"
   ]
  },
  {
   "cell_type": "code",
   "execution_count": 6,
   "id": "c1c29c93",
   "metadata": {},
   "outputs": [
    {
     "data": {
      "text/plain": [
       "48000.0"
      ]
     },
     "execution_count": 6,
     "metadata": {},
     "output_type": "execute_result"
    }
   ],
   "source": [
    "# Calculate the median value for alumni\n",
    "alumni_median=df['alumni'].median()\n",
    "alumni_median"
   ]
  },
  {
   "cell_type": "code",
   "execution_count": 7,
   "id": "474afa1d",
   "metadata": {},
   "outputs": [
    {
     "data": {
      "text/plain": [
       "0"
      ]
     },
     "execution_count": 7,
     "metadata": {},
     "output_type": "execute_result"
    }
   ],
   "source": [
    "# Fill missing values for alumni with the median value for alumni\n",
    "df['alumni']=df['alumni'].fillna(alumni_median)\n",
    "df['alumni'].isna().sum()"
   ]
  },
  {
   "cell_type": "code",
   "execution_count": 8,
   "id": "4d0e43f5",
   "metadata": {},
   "outputs": [
    {
     "data": {
      "image/png": "[encoded data removed]",
      "text/plain": [
       "<Figure size 1080x288 with 2 Axes>"
      ]
     },
     "metadata": {
      "needs_background": "light"
     },
     "output_type": "display_data"
    }
   ],
   "source": [
    "# Display the correlation matrix\n",
    "plt.rcParams['figure.figsize']=(15,4)\n",
    "sns.heatmap(df.corr(),cmap='coolwarm',annot=True);"
   ]
  },
  {
   "cell_type": "code",
   "execution_count": 9,
   "id": "dc155afb",
   "metadata": {},
   "outputs": [
    {
     "data": {
      "text/plain": [
       "54"
      ]
     },
     "execution_count": 9,
     "metadata": {},
     "output_type": "execute_result"
    }
   ],
   "source": [
    "# Create a subset of the data frame that excludes the rows with missing reputation scores\n",
    "subset=df[df['reputation_score'].isna()==False]\n",
    "len(subset)"
   ]
  },
  {
   "cell_type": "code",
   "execution_count": 10,
   "id": "3971fa7b",
   "metadata": {},
   "outputs": [
    {
     "name": "stdout",
     "output_type": "stream",
     "text": [
      "                            OLS Regression Results                            \n",
      "==============================================================================\n",
      "Dep. Variable:       reputation_score   R-squared:                       0.382\n",
      "Model:                            OLS   Adj. R-squared:                  0.371\n",
      "Method:                 Least Squares   F-statistic:                     32.21\n",
      "Date:                Sun, 05 Dec 2021   Prob (F-statistic):           6.24e-07\n",
      "Time:                        19:30:23   Log-Likelihood:                -16.383\n",
      "No. Observations:                  54   AIC:                             36.77\n",
      "Df Residuals:                      52   BIC:                             40.74\n",
      "Df Model:                           1                                         \n",
      "Covariance Type:            nonrobust                                         \n",
      "==================================================================================\n",
      "                     coef    std err          t      P>|t|      [0.025      0.975]\n",
      "----------------------------------------------------------------------------------\n",
      "Intercept          1.5727      0.383      4.109      0.000       0.805       2.341\n",
      "average_salary   3.49e-05   6.15e-06      5.675      0.000    2.26e-05    4.72e-05\n",
      "==============================================================================\n",
      "Omnibus:                        3.580   Durbin-Watson:                   2.243\n",
      "Prob(Omnibus):                  0.167   Jarque-Bera (JB):                2.218\n",
      "Skew:                          -0.279   Prob(JB):                        0.330\n",
      "Kurtosis:                       2.179   Cond. No.                     5.24e+05\n",
      "==============================================================================\n",
      "\n",
      "Notes:\n",
      "[1] Standard Errors assume that the covariance matrix of the errors is correctly specified.\n",
      "[2] The condition number is large, 5.24e+05. This might indicate that there are\n",
      "strong multicollinearity or other numerical problems.\n"
     ]
    }
   ],
   "source": [
    "# Average salary appears to be correlated with reputation score, so we will regress reputation score on average salary \n",
    "result = sm.ols(formula=\" reputation_score ~ average_salary\", \n",
    "                data=subset).fit()\n",
    "print(result.summary())"
   ]
  },
  {
   "cell_type": "code",
   "execution_count": 11,
   "id": "124ce914",
   "metadata": {},
   "outputs": [
    {
     "data": {
      "text/plain": [
       "Intercept         1.572737\n",
       "average_salary    0.000035\n",
       "dtype: float64"
      ]
     },
     "execution_count": 11,
     "metadata": {},
     "output_type": "execute_result"
    }
   ],
   "source": [
    "# Display estimated coefficients \n",
    "result.params"
   ]
  },
  {
   "cell_type": "code",
   "execution_count": 12,
   "id": "1667c377",
   "metadata": {},
   "outputs": [
    {
     "data": {
      "text/plain": [
       "34"
      ]
     },
     "execution_count": 12,
     "metadata": {},
     "output_type": "execute_result"
    }
   ],
   "source": [
    "# Create a subset of the data frame that only includes the rows with missing reputation scores\n",
    "null_rep=df[df['reputation_score'].isna()]\n",
    "len(null_rep)"
   ]
  },
  {
   "cell_type": "code",
   "execution_count": 13,
   "id": "acadca1c",
   "metadata": {},
   "outputs": [
    {
     "data": {
      "text/plain": [
       "6     4.294392\n",
       "21    3.770282\n",
       "25    4.013212\n",
       "34    3.620252\n",
       "37    3.351705\n",
       "38    3.691759\n",
       "45    3.636863\n",
       "46    3.647507\n",
       "48    3.464638\n",
       "50    3.247881\n",
       "51    3.568427\n",
       "52    3.397911\n",
       "56    3.332336\n",
       "57    3.438882\n",
       "58    3.336419\n",
       "64    3.774120\n",
       "66    2.784006\n",
       "67    3.566123\n",
       "68    3.247881\n",
       "69    3.568043\n",
       "70    3.605838\n",
       "71    3.061207\n",
       "72    3.086160\n",
       "73    3.208620\n",
       "74    3.125979\n",
       "75    3.340328\n",
       "76    3.356765\n",
       "77    3.300473\n",
       "78    3.338339\n",
       "79    3.432845\n",
       "82    3.596869\n",
       "84    3.460310\n",
       "86    3.782985\n",
       "87    3.484635\n",
       "dtype: float64"
      ]
     },
     "execution_count": 13,
     "metadata": {},
     "output_type": "execute_result"
    }
   ],
   "source": [
    "# Use the model to predict the missing values for reputation score\n",
    "predictions = result.predict(exog=dict(average_salary=null_rep['average_salary']))\n",
    "predictions"
   ]
  },
  {
   "cell_type": "code",
   "execution_count": 14,
   "id": "f4055dba",
   "metadata": {},
   "outputs": [
    {
     "data": {
      "text/plain": [
       "0"
      ]
     },
     "execution_count": 14,
     "metadata": {},
     "output_type": "execute_result"
    }
   ],
   "source": [
    "# Fill in the missing values with the predicted values\n",
    "df.loc[df['reputation_score'].isna(),'reputation_score']=round(predictions,1)\n",
    "df['reputation_score'].isna().sum()"
   ]
  },
  {
   "cell_type": "code",
   "execution_count": 15,
   "id": "3f33071f",
   "metadata": {},
   "outputs": [],
   "source": [
    "# Export the data\n",
    "df.to_csv('regression_data.csv',index=False)"
   ]
  }
 ],
 "metadata": {
  "kernelspec": {
   "display_name": "Python 3",
   "language": "python",
   "name": "python3"
  },
  "language_info": {
   "codemirror_mode": {
    "name": "ipython",
    "version": 3
   },
   "file_extension": ".py",
   "mimetype": "text/x-python",
   "name": "python",
   "nbconvert_exporter": "python",
   "pygments_lexer": "ipython3",
   "version": "3.8.8"
  }
 },
 "nbformat": 4,
 "nbformat_minor": 5
}
